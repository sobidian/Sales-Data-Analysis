{
 "cells": [
  {
   "cell_type": "markdown",
   "id": "88ecbb26",
   "metadata": {},
   "source": [
    "### ۱. مستندسازی و شرح هدف\n",
    "هدف تجاری: تحلیل عملکرد فروش و سودآوری برای شناسایی فرصت‌های رشد و بهینه‌سازی عملیات.\n",
    "سوال پژوهشی: چگونه می‌توان روندهای فروش، مشتریان کلیدی، محصولات سودآور و عوامل موثر بر سود را شناسایی کرد تا استراتژی‌های فروش بهبود یابد؟\n",
    "\n",
    "### ۲. توضیح متغیرها (Data Dictionary)\n",
    "\n",
    "با بررسی هدر فایل CSV و محتوای ردیف‌ها (مانند مقادیر منحصربه‌فرد، انواع داده‌ها و الگوهای تکراری)، دیکشنری داده‌ها را تهیه کردم. این دیکشنری هر ستون را توصیف می‌کند، نوع داده احتمالی (بر اساس استنباط از محتوای فایل)، توضیح و مثال‌هایی از داده‌ها را شامل می‌شود. ستون‌ها عمدتاً عددی، رشته‌ای یا تاریخی هستند و نشان‌دهنده جنبه‌های عملیاتی و مالی فروش می‌باشند.\n",
    "\n",
    "| ستون (Column)              | نوع داده (Data Type) | توضیح (Description)                                                                 | مثال از داده‌ها |\n",
    "|----------------------------|-----------------------|-------------------------------------------------------------------------------------|------------------|\n",
    "| Order No                   | String               | شماره سفارش منحصربه‌فرد (شامل پسوند مانند -1 برای زیرسفارشات). این ستون برای شناسایی سفارشات استفاده می‌شود. | 4293-1, 5001-1 |\n",
    "| Order Date                 | Date (YYYY-MM-DD)    | تاریخ ثبت سفارش. برای تحلیل روندهای زمانی مفید است.                            | 2014-09-02, 2015-10-24 |\n",
    "| Customer Name              | String               | نام مشتری. نشان‌دهنده مشتریان تکراری مانند Sean Wendt یا Jeremy Pistek.        | Vivek Sundaresam, Shahid Hopkins |\n",
    "| City                       | String               | شهر مشتری. عمدتاً سیدنی (Sydney) یا ملبورن (Melbourne).                          | Sydney, Melbourne |\n",
    "| State                      | String               | ایالت مشتری. محدود به NSW (نیو ساوت ولز) یا VIC (ویکتوریا).                     | NSW, VIC |\n",
    "| Customer Type              | String               | نوع مشتری (مانند Small Business، Corporate، Consumer، Home Office). برای сегمانتاسیون مشتریان. | Small Business, Corporate |\n",
    "| Account Manager            | String               | نام مدیر حساب مسئول سفارش. مدیران تکراری مانند Tina Carlton یا Connor Betts.   | Tina Carlton, Natasha Song |\n",
    "| Order Priority             | String               | اولویت سفارش (مانند Critical، Medium، High، Low، Not Specified). نشان‌دهنده فوریت. | Critical, Medium |\n",
    "| Product Name               | String               | نام محصول. محصولات تکراری مانند UGEn Ultra Professional Cordless Optical Suite یا Artisan 474 Labels. | UGen Ultra Professional Cordless Optical Suite, Bagged Rubber Bands |\n",
    "| Product Category           | String               | دسته‌بندی محصول (مانند Office Supplies، Technology، Furniture).                  | Office Supplies, Technology |\n",
    "| Product Container          | String               | نوع ظرف یا بسته‌بندی محصول (مانند Small Box، Wrap Bag، Small Pack، Jumbo Drum، Large Box، Medium Box، Delivery Truck). | Small Box, Wrap Bag |\n",
    "| Ship Mode                  | String               | شیوه حمل (مانند Regular Air، Express Air، Delivery Truck).                        | Regular Air, Express Air |\n",
    "| Ship Date                  | Date (YYYY-MM-DD)    | تاریخ ارسال سفارش. برای محاسبه زمان پردازش مفید است.                           | 2014-09-04, 2015-10-26 |\n",
    "| Cost Price                 | Float                | قیمت تمام‌شده محصول (هزینه خرید یا تولید).                                     | 156.5, 0.24 |\n",
    "| Retail Price               | Float                | قیمت خرده‌فروشی محصول.                                                          | 300.97, 1.26 |\n",
    "| Profit Margin              | Float                | حاشیه سود هر واحد محصول (Retail Price - Cost Price).                             | 144.47, 1.02 |\n",
    "| Order Quantity             | Integer              | تعداد سفارش‌شده از محصول.                                                       | 23, 8 |\n",
    "| Sub Total                  | Float                | مجموع فرعی (قبل از تخفیف و هزینه‌ها: Retail Price * Order Quantity).            | 6922.31, 10.08 |\n",
    "| Discount %                 | Float                | درصد تخفیف اعمال‌شده.                                                            | 2.0, 3.0 |\n",
    "| Discount $                 | Float                | مبلغ تخفیف (Sub Total * Discount % / 100).                                        | 194.83, 0.0 |\n",
    "| Order Total                | Float                | مجموع سفارش پس از تخفیف (Sub Total - Discount $).                                | 6920.31, 7.08 |\n",
    "| Shipping Cost              | Float                | هزینه حمل.                                                                        | 7.18, 0.7 |\n",
    "| Total                      | Float                | مجموع نهایی (Order Total + Shipping Cost؟ - اما در داده‌ها گاهی با Order Total متفاوت است، ممکن است خطا یا محاسبه دیگر). | 4291.55, 46.91 |\n",
    "| Profit Percentage (%)      | Float                | درصد سود (Profit Margin / Cost Price * 100 یا مشابه).                             | 92.31, 425.0 |\n",
    "| Total Profit               | Float                | سود کل (Profit Margin * Order Quantity).                                           | 3322.81, 8.16 |\n",
    "| ProcessingTime             | Integer              | زمان پردازش سفارش (تفاوت Ship Date و Order Date به روز).                        | 2, 0 |\n",
    "| Order Year                 | Integer              | سال سفارش (استخراج‌شده از Order Date).                                           | 2014, 2015 |\n",
    "| Order Month                | String (YYYY-MM)     | ماه سفارش (استخراج‌شده از Order Date).                                           | 2014-09, 2015-10 |\n",
    "| Order Weekday              | String               | روز هفته سفارش (مانند Monday، Tuesday).                                          | Tuesday, Saturday |\n"
   ]
  },
  {
   "cell_type": "markdown",
   "id": "33caa8d9",
   "metadata": {},
   "source": [
    "___"
   ]
  },
  {
   "cell_type": "code",
   "execution_count": 1,
   "id": "3f14b461",
   "metadata": {},
   "outputs": [],
   "source": [
    "import pandas as pd\n",
    "import numpy as np\n",
    "import matplotlib.pyplot as plt\n",
    "import seaborn as sns\n",
    "from scipy.stats import shapiro\n"
   ]
  },
  {
   "cell_type": "code",
   "execution_count": 2,
   "id": "ce055aaf",
   "metadata": {},
   "outputs": [],
   "source": [
    "df = pd.read_csv(r\"data.csv\")\n"
   ]
  },
  {
   "cell_type": "code",
   "execution_count": 3,
   "id": "bbbf33d2",
   "metadata": {},
   "outputs": [
    {
     "data": {
      "text/html": [
       "<div>\n",
       "<style scoped>\n",
       "    .dataframe tbody tr th:only-of-type {\n",
       "        vertical-align: middle;\n",
       "    }\n",
       "\n",
       "    .dataframe tbody tr th {\n",
       "        vertical-align: top;\n",
       "    }\n",
       "\n",
       "    .dataframe thead th {\n",
       "        text-align: right;\n",
       "    }\n",
       "</style>\n",
       "<table border=\"1\" class=\"dataframe\">\n",
       "  <thead>\n",
       "    <tr style=\"text-align: right;\">\n",
       "      <th></th>\n",
       "      <th>Order No</th>\n",
       "      <th>Order Date</th>\n",
       "      <th>Customer Name</th>\n",
       "      <th>Address</th>\n",
       "      <th>City</th>\n",
       "      <th>State</th>\n",
       "      <th>Customer Type</th>\n",
       "      <th>Account Manager</th>\n",
       "      <th>Order Priority</th>\n",
       "      <th>Product Name</th>\n",
       "      <th>...</th>\n",
       "      <th>Cost Price</th>\n",
       "      <th>Retail Price</th>\n",
       "      <th>Profit Margin</th>\n",
       "      <th>Order Quantity</th>\n",
       "      <th>Sub Total</th>\n",
       "      <th>Discount %</th>\n",
       "      <th>Discount $</th>\n",
       "      <th>Order Total</th>\n",
       "      <th>Shipping Cost</th>\n",
       "      <th>Total</th>\n",
       "    </tr>\n",
       "  </thead>\n",
       "  <tbody>\n",
       "    <tr>\n",
       "      <th>4179</th>\n",
       "      <td>6336-1</td>\n",
       "      <td>02-11-2013</td>\n",
       "      <td>Eugene Hildebrand</td>\n",
       "      <td>120 Hardware St,Melbourne</td>\n",
       "      <td>Melbourne</td>\n",
       "      <td>VIC</td>\n",
       "      <td>Corporate</td>\n",
       "      <td>Yvette Biti</td>\n",
       "      <td>Not Specified</td>\n",
       "      <td>Smiths Standard Envelopes</td>\n",
       "      <td>...</td>\n",
       "      <td>$3.52</td>\n",
       "      <td>$5.68</td>\n",
       "      <td>$2.16</td>\n",
       "      <td>7.0</td>\n",
       "      <td>$119.60</td>\n",
       "      <td>5%</td>\n",
       "      <td>$11.98</td>\n",
       "      <td>$118.32</td>\n",
       "      <td>$1.39</td>\n",
       "      <td>$128.85</td>\n",
       "    </tr>\n",
       "    <tr>\n",
       "      <th>1444</th>\n",
       "      <td>5435-1</td>\n",
       "      <td>25-02-2014</td>\n",
       "      <td>Gary Hwang</td>\n",
       "      <td>61 York St,Sydney</td>\n",
       "      <td>Sydney</td>\n",
       "      <td>NSW</td>\n",
       "      <td>Corporate</td>\n",
       "      <td>Leighton Forrest</td>\n",
       "      <td>Low</td>\n",
       "      <td>Steady Pocket Accent Highlighters</td>\n",
       "      <td>...</td>\n",
       "      <td>$0.93</td>\n",
       "      <td>$1.60</td>\n",
       "      <td>$0.67</td>\n",
       "      <td>32.0</td>\n",
       "      <td>$220.44</td>\n",
       "      <td>10%</td>\n",
       "      <td>$6.61</td>\n",
       "      <td>$213.83</td>\n",
       "      <td>$1.29</td>\n",
       "      <td>$215.33</td>\n",
       "    </tr>\n",
       "    <tr>\n",
       "      <th>2989</th>\n",
       "      <td>5965-1</td>\n",
       "      <td>05-07-2015</td>\n",
       "      <td>Larry Tron</td>\n",
       "      <td>4A Lyons St,Strathfield</td>\n",
       "      <td>Sydney</td>\n",
       "      <td>NSW</td>\n",
       "      <td>Corporate</td>\n",
       "      <td>Tina Carlton</td>\n",
       "      <td>Low</td>\n",
       "      <td>1726 Digital Answering Machine</td>\n",
       "      <td>...</td>\n",
       "      <td>$8.82</td>\n",
       "      <td>$20.99</td>\n",
       "      <td>$12.17</td>\n",
       "      <td>15.0</td>\n",
       "      <td>$1,028.51</td>\n",
       "      <td>3%</td>\n",
       "      <td>$62.71</td>\n",
       "      <td>$966.80</td>\n",
       "      <td>$4.81</td>\n",
       "      <td>$971.61</td>\n",
       "    </tr>\n",
       "    <tr>\n",
       "      <th>2651</th>\n",
       "      <td>5854-1</td>\n",
       "      <td>10-04-2015</td>\n",
       "      <td>Carl Ludwig</td>\n",
       "      <td>1/41B Elizabeth Boy Rd,Elizabeth Bay</td>\n",
       "      <td>Sydney</td>\n",
       "      <td>NSW</td>\n",
       "      <td>Corporate</td>\n",
       "      <td>Charlie Bui</td>\n",
       "      <td>Not Specified</td>\n",
       "      <td>TechSavi Access Keyboard</td>\n",
       "      <td>...</td>\n",
       "      <td>$10.07</td>\n",
       "      <td>$15.98</td>\n",
       "      <td>$5.91</td>\n",
       "      <td>30.0</td>\n",
       "      <td>$639.20</td>\n",
       "      <td>8%</td>\n",
       "      <td>$6.39</td>\n",
       "      <td>$632.81</td>\n",
       "      <td>$4.00</td>\n",
       "      <td>$636.81</td>\n",
       "    </tr>\n",
       "    <tr>\n",
       "      <th>4394</th>\n",
       "      <td>6394-1</td>\n",
       "      <td>19-01-2016</td>\n",
       "      <td>Sue Ann Reed</td>\n",
       "      <td>501 George St,Sydney</td>\n",
       "      <td>Sydney</td>\n",
       "      <td>NSW</td>\n",
       "      <td>Small Business</td>\n",
       "      <td>Samantha Chairs</td>\n",
       "      <td>Not Specified</td>\n",
       "      <td>Pizazz Dustless Chalk Sticks</td>\n",
       "      <td>...</td>\n",
       "      <td>$1.09</td>\n",
       "      <td>$1.68</td>\n",
       "      <td>$0.59</td>\n",
       "      <td>36.0</td>\n",
       "      <td>$19.11</td>\n",
       "      <td>10%</td>\n",
       "      <td>$5.94</td>\n",
       "      <td>$14.60</td>\n",
       "      <td>$1.00</td>\n",
       "      <td>$14.49</td>\n",
       "    </tr>\n",
       "  </tbody>\n",
       "</table>\n",
       "<p>5 rows × 24 columns</p>\n",
       "</div>"
      ],
      "text/plain": [
       "     Order No  Order Date      Customer Name  \\\n",
       "4179   6336-1  02-11-2013  Eugene Hildebrand   \n",
       "1444   5435-1  25-02-2014         Gary Hwang   \n",
       "2989   5965-1  05-07-2015         Larry Tron   \n",
       "2651   5854-1  10-04-2015        Carl Ludwig   \n",
       "4394   6394-1  19-01-2016       Sue Ann Reed   \n",
       "\n",
       "                                   Address       City State   Customer Type  \\\n",
       "4179             120 Hardware St,Melbourne  Melbourne   VIC       Corporate   \n",
       "1444                     61 York St,Sydney     Sydney   NSW       Corporate   \n",
       "2989               4A Lyons St,Strathfield     Sydney   NSW       Corporate   \n",
       "2651  1/41B Elizabeth Boy Rd,Elizabeth Bay     Sydney   NSW       Corporate   \n",
       "4394                  501 George St,Sydney     Sydney   NSW  Small Business   \n",
       "\n",
       "       Account Manager Order Priority                       Product Name  ...  \\\n",
       "4179       Yvette Biti  Not Specified          Smiths Standard Envelopes  ...   \n",
       "1444  Leighton Forrest            Low  Steady Pocket Accent Highlighters  ...   \n",
       "2989      Tina Carlton            Low     1726 Digital Answering Machine  ...   \n",
       "2651       Charlie Bui  Not Specified           TechSavi Access Keyboard  ...   \n",
       "4394   Samantha Chairs  Not Specified       Pizazz Dustless Chalk Sticks  ...   \n",
       "\n",
       "     Cost Price Retail Price Profit Margin Order Quantity  Sub Total  \\\n",
       "4179      $3.52        $5.68         $2.16            7.0    $119.60   \n",
       "1444      $0.93        $1.60         $0.67           32.0    $220.44   \n",
       "2989      $8.82       $20.99        $12.17           15.0  $1,028.51   \n",
       "2651     $10.07       $15.98         $5.91           30.0    $639.20   \n",
       "4394      $1.09        $1.68         $0.59           36.0     $19.11   \n",
       "\n",
       "     Discount % Discount $  Order Total Shipping Cost    Total  \n",
       "4179         5%     $11.98      $118.32         $1.39  $128.85  \n",
       "1444        10%      $6.61      $213.83         $1.29  $215.33  \n",
       "2989         3%     $62.71      $966.80         $4.81  $971.61  \n",
       "2651         8%      $6.39      $632.81         $4.00  $636.81  \n",
       "4394        10%      $5.94       $14.60         $1.00   $14.49  \n",
       "\n",
       "[5 rows x 24 columns]"
      ]
     },
     "execution_count": 3,
     "metadata": {},
     "output_type": "execute_result"
    }
   ],
   "source": [
    "df.sample(5)"
   ]
  },
  {
   "cell_type": "code",
   "execution_count": 4,
   "id": "e30298a4",
   "metadata": {},
   "outputs": [],
   "source": [
    "df.drop(\"Address\", axis=1, inplace=True)\n"
   ]
  },
  {
   "cell_type": "code",
   "execution_count": 5,
   "id": "14454947",
   "metadata": {},
   "outputs": [
    {
     "data": {
      "text/plain": [
       "(5000, 23)"
      ]
     },
     "execution_count": 5,
     "metadata": {},
     "output_type": "execute_result"
    }
   ],
   "source": [
    "df.shape"
   ]
  },
  {
   "cell_type": "markdown",
   "id": "34acb5ff",
   "metadata": {},
   "source": [
    "### Descriptive Analysis"
   ]
  },
  {
   "cell_type": "code",
   "execution_count": 6,
   "id": "1d64b5b6",
   "metadata": {},
   "outputs": [
    {
     "name": "stdout",
     "output_type": "stream",
     "text": [
      "<class 'pandas.core.frame.DataFrame'>\n",
      "RangeIndex: 5000 entries, 0 to 4999\n",
      "Data columns (total 23 columns):\n",
      " #   Column             Non-Null Count  Dtype  \n",
      "---  ------             --------------  -----  \n",
      " 0   Order No           5000 non-null   object \n",
      " 1   Order Date         5000 non-null   object \n",
      " 2   Customer Name      5000 non-null   object \n",
      " 3   City               5000 non-null   object \n",
      " 4   State              5000 non-null   object \n",
      " 5   Customer Type      5000 non-null   object \n",
      " 6   Account Manager    5000 non-null   object \n",
      " 7   Order Priority     5000 non-null   object \n",
      " 8   Product Name       5000 non-null   object \n",
      " 9   Product Category   5000 non-null   object \n",
      " 10  Product Container  5000 non-null   object \n",
      " 11  Ship Mode          5000 non-null   object \n",
      " 12  Ship Date          5000 non-null   object \n",
      " 13  Cost Price         5000 non-null   object \n",
      " 14  Retail Price       5000 non-null   object \n",
      " 15  Profit Margin      5000 non-null   object \n",
      " 16  Order Quantity     4999 non-null   float64\n",
      " 17  Sub Total          5000 non-null   object \n",
      " 18  Discount %         5000 non-null   object \n",
      " 19  Discount $         5000 non-null   object \n",
      " 20  Order Total        5000 non-null   object \n",
      " 21  Shipping Cost      5000 non-null   object \n",
      " 22  Total              5000 non-null   object \n",
      "dtypes: float64(1), object(22)\n",
      "memory usage: 898.6+ KB\n"
     ]
    }
   ],
   "source": [
    "df.info()"
   ]
  },
  {
   "cell_type": "code",
   "execution_count": 7,
   "id": "41e22b14",
   "metadata": {},
   "outputs": [
    {
     "data": {
      "text/plain": [
       "Index(['Order No', 'Order Date', 'Customer Name', 'City', 'State',\n",
       "       'Customer Type', 'Account Manager', 'Order Priority', 'Product Name',\n",
       "       'Product Category', 'Product Container', 'Ship Mode', 'Ship Date',\n",
       "       'Cost Price', 'Retail Price', 'Profit Margin', 'Order Quantity',\n",
       "       'Sub Total', 'Discount %', 'Discount $', 'Order Total', 'Shipping Cost',\n",
       "       'Total'],\n",
       "      dtype='object')"
      ]
     },
     "execution_count": 7,
     "metadata": {},
     "output_type": "execute_result"
    }
   ],
   "source": [
    "df.columns"
   ]
  },
  {
   "cell_type": "code",
   "execution_count": 8,
   "id": "f3b8d81c",
   "metadata": {},
   "outputs": [
    {
     "data": {
      "text/plain": [
       "Customer Type\n",
       "Corporate         1823\n",
       "Home Office       1232\n",
       "Small Business    1088\n",
       "Consumer           857\n",
       "Name: count, dtype: int64"
      ]
     },
     "execution_count": 8,
     "metadata": {},
     "output_type": "execute_result"
    }
   ],
   "source": [
    "df['Customer Type'].value_counts().sort_values(ascending=False)"
   ]
  },
  {
   "cell_type": "code",
   "execution_count": 9,
   "id": "44f88def",
   "metadata": {},
   "outputs": [
    {
     "data": {
      "text/plain": [
       "Order Priority\n",
       "High             1124\n",
       "Not Specified    1092\n",
       "Medium           1038\n",
       "Critical          885\n",
       "Low               861\n",
       "Name: count, dtype: int64"
      ]
     },
     "execution_count": 9,
     "metadata": {},
     "output_type": "execute_result"
    }
   ],
   "source": [
    "df['Order Priority'].value_counts().sort_values(ascending=False)"
   ]
  },
  {
   "cell_type": "code",
   "execution_count": 10,
   "id": "06f61a56",
   "metadata": {},
   "outputs": [
    {
     "data": {
      "text/plain": [
       "Ship Mode\n",
       "Regular Air       4236\n",
       "Express Air        647\n",
       "Delivery Truck     117\n",
       "Name: count, dtype: int64"
      ]
     },
     "execution_count": 10,
     "metadata": {},
     "output_type": "execute_result"
    }
   ],
   "source": [
    "df['Ship Mode'].value_counts().sort_values(ascending=False)"
   ]
  },
  {
   "cell_type": "code",
   "execution_count": 11,
   "id": "aa53dfef",
   "metadata": {},
   "outputs": [
    {
     "data": {
      "text/plain": [
       "City                    2\n",
       "State                   2\n",
       "Ship Mode               3\n",
       "Product Category        3\n",
       "Customer Type           4\n",
       "Order Priority          5\n",
       "Product Container       6\n",
       "Discount %             11\n",
       "Account Manager        19\n",
       "Shipping Cost         118\n",
       "Retail Price          139\n",
       "Profit Margin         149\n",
       "Cost Price            149\n",
       "Product Name          257\n",
       "Customer Name         789\n",
       "Order Date            881\n",
       "Ship Date             920\n",
       "Order No             1435\n",
       "Discount $           1738\n",
       "Sub Total            2973\n",
       "Order Total          3168\n",
       "Total                3215\n",
       "dtype: int64"
      ]
     },
     "execution_count": 11,
     "metadata": {},
     "output_type": "execute_result"
    }
   ],
   "source": [
    "df.select_dtypes('object').nunique().sort_values()  # تعداد مقادیر یکتا برای دسته‌ای‌ها\n"
   ]
  },
  {
   "cell_type": "code",
   "execution_count": 12,
   "id": "aa9270a8",
   "metadata": {},
   "outputs": [
    {
     "data": {
      "text/plain": [
       "(5000, 23)"
      ]
     },
     "execution_count": 12,
     "metadata": {},
     "output_type": "execute_result"
    }
   ],
   "source": [
    "df.shape"
   ]
  },
  {
   "cell_type": "markdown",
   "id": "56c26f5d",
   "metadata": {},
   "source": [
    "___"
   ]
  },
  {
   "cell_type": "markdown",
   "id": "9616ecd6",
   "metadata": {},
   "source": [
    "### null value\n"
   ]
  },
  {
   "cell_type": "code",
   "execution_count": 13,
   "id": "410b0883",
   "metadata": {},
   "outputs": [
    {
     "data": {
      "text/plain": [
       "Order Quantity       1\n",
       "Order Date           0\n",
       "Order No             0\n",
       "City                 0\n",
       "State                0\n",
       "Customer Type        0\n",
       "Customer Name        0\n",
       "Account Manager      0\n",
       "Order Priority       0\n",
       "Product Category     0\n",
       "Product Name         0\n",
       "Ship Mode            0\n",
       "Ship Date            0\n",
       "Cost Price           0\n",
       "Product Container    0\n",
       "Retail Price         0\n",
       "Profit Margin        0\n",
       "Sub Total            0\n",
       "Discount %           0\n",
       "Discount $           0\n",
       "Order Total          0\n",
       "Shipping Cost        0\n",
       "Total                0\n",
       "dtype: int64"
      ]
     },
     "execution_count": 13,
     "metadata": {},
     "output_type": "execute_result"
    }
   ],
   "source": [
    "df.isna().sum().sort_values(ascending=False)"
   ]
  },
  {
   "cell_type": "code",
   "execution_count": 14,
   "id": "61c64e4e",
   "metadata": {},
   "outputs": [],
   "source": [
    "df.dropna(inplace=True)"
   ]
  },
  {
   "cell_type": "code",
   "execution_count": 15,
   "id": "62a0164a",
   "metadata": {},
   "outputs": [
    {
     "data": {
      "text/plain": [
       "Order No             0\n",
       "Order Date           0\n",
       "Customer Name        0\n",
       "City                 0\n",
       "State                0\n",
       "Customer Type        0\n",
       "Account Manager      0\n",
       "Order Priority       0\n",
       "Product Name         0\n",
       "Product Category     0\n",
       "Product Container    0\n",
       "Ship Mode            0\n",
       "Ship Date            0\n",
       "Cost Price           0\n",
       "Retail Price         0\n",
       "Profit Margin        0\n",
       "Order Quantity       0\n",
       "Sub Total            0\n",
       "Discount %           0\n",
       "Discount $           0\n",
       "Order Total          0\n",
       "Shipping Cost        0\n",
       "Total                0\n",
       "dtype: int64"
      ]
     },
     "execution_count": 15,
     "metadata": {},
     "output_type": "execute_result"
    }
   ],
   "source": [
    "df.isna().sum().sort_values(ascending=False)"
   ]
  },
  {
   "cell_type": "markdown",
   "id": "27eb97ef",
   "metadata": {},
   "source": [
    "___\n"
   ]
  },
  {
   "cell_type": "markdown",
   "id": "d5ca57cc",
   "metadata": {},
   "source": [
    "### duplicated"
   ]
  },
  {
   "cell_type": "code",
   "execution_count": 16,
   "id": "64e0038b",
   "metadata": {},
   "outputs": [
    {
     "data": {
      "text/html": [
       "<div>\n",
       "<style scoped>\n",
       "    .dataframe tbody tr th:only-of-type {\n",
       "        vertical-align: middle;\n",
       "    }\n",
       "\n",
       "    .dataframe tbody tr th {\n",
       "        vertical-align: top;\n",
       "    }\n",
       "\n",
       "    .dataframe thead th {\n",
       "        text-align: right;\n",
       "    }\n",
       "</style>\n",
       "<table border=\"1\" class=\"dataframe\">\n",
       "  <thead>\n",
       "    <tr style=\"text-align: right;\">\n",
       "      <th></th>\n",
       "      <th>Order No</th>\n",
       "      <th>Order Date</th>\n",
       "      <th>Customer Name</th>\n",
       "      <th>City</th>\n",
       "      <th>State</th>\n",
       "      <th>Customer Type</th>\n",
       "      <th>Account Manager</th>\n",
       "      <th>Order Priority</th>\n",
       "      <th>Product Name</th>\n",
       "      <th>Product Category</th>\n",
       "      <th>...</th>\n",
       "      <th>Cost Price</th>\n",
       "      <th>Retail Price</th>\n",
       "      <th>Profit Margin</th>\n",
       "      <th>Order Quantity</th>\n",
       "      <th>Sub Total</th>\n",
       "      <th>Discount %</th>\n",
       "      <th>Discount $</th>\n",
       "      <th>Order Total</th>\n",
       "      <th>Shipping Cost</th>\n",
       "      <th>Total</th>\n",
       "    </tr>\n",
       "  </thead>\n",
       "  <tbody>\n",
       "  </tbody>\n",
       "</table>\n",
       "<p>0 rows × 23 columns</p>\n",
       "</div>"
      ],
      "text/plain": [
       "Empty DataFrame\n",
       "Columns: [Order No, Order Date, Customer Name, City, State, Customer Type, Account Manager, Order Priority, Product Name, Product Category, Product Container, Ship Mode, Ship Date, Cost Price, Retail Price, Profit Margin, Order Quantity, Sub Total, Discount %, Discount $, Order Total, Shipping Cost, Total]\n",
       "Index: []\n",
       "\n",
       "[0 rows x 23 columns]"
      ]
     },
     "execution_count": 16,
     "metadata": {},
     "output_type": "execute_result"
    }
   ],
   "source": [
    "df[df.duplicated]"
   ]
  },
  {
   "cell_type": "markdown",
   "id": "58407a9e",
   "metadata": {},
   "source": [
    "___"
   ]
  },
  {
   "cell_type": "markdown",
   "id": "a73bd5cf",
   "metadata": {},
   "source": [
    "### date"
   ]
  },
  {
   "cell_type": "code",
   "execution_count": 17,
   "id": "23a7924d",
   "metadata": {},
   "outputs": [],
   "source": [
    "df[\"Order Date\"] = pd.to_datetime(df[\"Order Date\"], dayfirst=True , errors='coerce')"
   ]
  },
  {
   "cell_type": "code",
   "execution_count": 18,
   "id": "e7e01e07",
   "metadata": {},
   "outputs": [
    {
     "data": {
      "text/html": [
       "<div>\n",
       "<style scoped>\n",
       "    .dataframe tbody tr th:only-of-type {\n",
       "        vertical-align: middle;\n",
       "    }\n",
       "\n",
       "    .dataframe tbody tr th {\n",
       "        vertical-align: top;\n",
       "    }\n",
       "\n",
       "    .dataframe thead th {\n",
       "        text-align: right;\n",
       "    }\n",
       "</style>\n",
       "<table border=\"1\" class=\"dataframe\">\n",
       "  <thead>\n",
       "    <tr style=\"text-align: right;\">\n",
       "      <th></th>\n",
       "      <th>Order No</th>\n",
       "      <th>Order Date</th>\n",
       "      <th>Customer Name</th>\n",
       "      <th>City</th>\n",
       "      <th>State</th>\n",
       "      <th>Customer Type</th>\n",
       "      <th>Account Manager</th>\n",
       "      <th>Order Priority</th>\n",
       "      <th>Product Name</th>\n",
       "      <th>Product Category</th>\n",
       "      <th>...</th>\n",
       "      <th>Cost Price</th>\n",
       "      <th>Retail Price</th>\n",
       "      <th>Profit Margin</th>\n",
       "      <th>Order Quantity</th>\n",
       "      <th>Sub Total</th>\n",
       "      <th>Discount %</th>\n",
       "      <th>Discount $</th>\n",
       "      <th>Order Total</th>\n",
       "      <th>Shipping Cost</th>\n",
       "      <th>Total</th>\n",
       "    </tr>\n",
       "  </thead>\n",
       "  <tbody>\n",
       "    <tr>\n",
       "      <th>2284</th>\n",
       "      <td>5718-1</td>\n",
       "      <td>2014-12-25</td>\n",
       "      <td>Janet Martin</td>\n",
       "      <td>Melbourne</td>\n",
       "      <td>VIC</td>\n",
       "      <td>Corporate</td>\n",
       "      <td>Yvette Biti</td>\n",
       "      <td>Low</td>\n",
       "      <td>Colored Push Pins</td>\n",
       "      <td>Technology</td>\n",
       "      <td>...</td>\n",
       "      <td>$0.92</td>\n",
       "      <td>$1.81</td>\n",
       "      <td>$0.89</td>\n",
       "      <td>8.0</td>\n",
       "      <td>$86.88</td>\n",
       "      <td>1%</td>\n",
       "      <td>$8.69</td>\n",
       "      <td>$78.19</td>\n",
       "      <td>$1.56</td>\n",
       "      <td>$79.75</td>\n",
       "    </tr>\n",
       "    <tr>\n",
       "      <th>1708</th>\n",
       "      <td>5520-1</td>\n",
       "      <td>2014-06-16</td>\n",
       "      <td>Julie Prescott</td>\n",
       "      <td>Sydney</td>\n",
       "      <td>NSW</td>\n",
       "      <td>Corporate</td>\n",
       "      <td>Nicholas Fernandes</td>\n",
       "      <td>Critical</td>\n",
       "      <td>Smiths Standard Envelopes</td>\n",
       "      <td>Office Supplies</td>\n",
       "      <td>...</td>\n",
       "      <td>$3.52</td>\n",
       "      <td>$5.68</td>\n",
       "      <td>$2.16</td>\n",
       "      <td>42.0</td>\n",
       "      <td>$181.76</td>\n",
       "      <td>7%</td>\n",
       "      <td>$18.18</td>\n",
       "      <td>$163.58</td>\n",
       "      <td>$1.39</td>\n",
       "      <td>$164.97</td>\n",
       "    </tr>\n",
       "    <tr>\n",
       "      <th>1569</th>\n",
       "      <td>5472-1</td>\n",
       "      <td>2013-09-04</td>\n",
       "      <td>Darrin Martin</td>\n",
       "      <td>Melbourne</td>\n",
       "      <td>VIC</td>\n",
       "      <td>Home Office</td>\n",
       "      <td>Yvette Biti</td>\n",
       "      <td>Critical</td>\n",
       "      <td>Artisan Hi-Liter Comfort Grip Fluorescent High...</td>\n",
       "      <td>Office Supplies</td>\n",
       "      <td>...</td>\n",
       "      <td>$1.92</td>\n",
       "      <td>$3.26</td>\n",
       "      <td>$1.34</td>\n",
       "      <td>41.0</td>\n",
       "      <td>$7.40</td>\n",
       "      <td>4%</td>\n",
       "      <td>$2.30</td>\n",
       "      <td>$7.22</td>\n",
       "      <td>$1.26</td>\n",
       "      <td>$14.21</td>\n",
       "    </tr>\n",
       "    <tr>\n",
       "      <th>1780</th>\n",
       "      <td>5547-1</td>\n",
       "      <td>2014-07-04</td>\n",
       "      <td>Mike Gockenbach</td>\n",
       "      <td>Melbourne</td>\n",
       "      <td>VIC</td>\n",
       "      <td>Home Office</td>\n",
       "      <td>Connor Betts</td>\n",
       "      <td>Not Specified</td>\n",
       "      <td>Alto Memo Cubes</td>\n",
       "      <td>Office Supplies</td>\n",
       "      <td>...</td>\n",
       "      <td>$3.32</td>\n",
       "      <td>$5.18</td>\n",
       "      <td>$1.86</td>\n",
       "      <td>23.0</td>\n",
       "      <td>$222.74</td>\n",
       "      <td>8%</td>\n",
       "      <td>$6.68</td>\n",
       "      <td>$216.06</td>\n",
       "      <td>$2.04</td>\n",
       "      <td>$218.10</td>\n",
       "    </tr>\n",
       "    <tr>\n",
       "      <th>2755</th>\n",
       "      <td>5904-1</td>\n",
       "      <td>2013-09-14</td>\n",
       "      <td>Jasper Cacioppo</td>\n",
       "      <td>Sydney</td>\n",
       "      <td>NSW</td>\n",
       "      <td>Corporate</td>\n",
       "      <td>Radhya Staples</td>\n",
       "      <td>High</td>\n",
       "      <td>Artisan Round Ring Poly Binders</td>\n",
       "      <td>Office Supplies</td>\n",
       "      <td>...</td>\n",
       "      <td>$1.82</td>\n",
       "      <td>$2.84</td>\n",
       "      <td>$1.02</td>\n",
       "      <td>39.0</td>\n",
       "      <td>$34.46</td>\n",
       "      <td>6%</td>\n",
       "      <td>$2.85</td>\n",
       "      <td>$30.67</td>\n",
       "      <td>$5.44</td>\n",
       "      <td>$31.68</td>\n",
       "    </tr>\n",
       "  </tbody>\n",
       "</table>\n",
       "<p>5 rows × 23 columns</p>\n",
       "</div>"
      ],
      "text/plain": [
       "     Order No Order Date    Customer Name       City State Customer Type  \\\n",
       "2284   5718-1 2014-12-25     Janet Martin  Melbourne   VIC     Corporate   \n",
       "1708   5520-1 2014-06-16   Julie Prescott     Sydney   NSW     Corporate   \n",
       "1569   5472-1 2013-09-04    Darrin Martin  Melbourne   VIC   Home Office   \n",
       "1780   5547-1 2014-07-04  Mike Gockenbach  Melbourne   VIC   Home Office   \n",
       "2755   5904-1 2013-09-14  Jasper Cacioppo     Sydney   NSW     Corporate   \n",
       "\n",
       "         Account Manager Order Priority  \\\n",
       "2284         Yvette Biti            Low   \n",
       "1708  Nicholas Fernandes       Critical   \n",
       "1569         Yvette Biti       Critical   \n",
       "1780        Connor Betts  Not Specified   \n",
       "2755      Radhya Staples           High   \n",
       "\n",
       "                                           Product Name Product Category  ...  \\\n",
       "2284                                  Colored Push Pins       Technology  ...   \n",
       "1708                          Smiths Standard Envelopes  Office Supplies  ...   \n",
       "1569  Artisan Hi-Liter Comfort Grip Fluorescent High...  Office Supplies  ...   \n",
       "1780                                    Alto Memo Cubes  Office Supplies  ...   \n",
       "2755                    Artisan Round Ring Poly Binders  Office Supplies  ...   \n",
       "\n",
       "     Cost Price Retail Price Profit Margin Order Quantity Sub Total  \\\n",
       "2284      $0.92        $1.81         $0.89            8.0    $86.88   \n",
       "1708      $3.52        $5.68         $2.16           42.0   $181.76   \n",
       "1569      $1.92        $3.26         $1.34           41.0     $7.40   \n",
       "1780      $3.32        $5.18         $1.86           23.0   $222.74   \n",
       "2755      $1.82        $2.84         $1.02           39.0    $34.46   \n",
       "\n",
       "     Discount %  Discount $ Order Total Shipping Cost    Total  \n",
       "2284         1%       $8.69      $78.19         $1.56   $79.75  \n",
       "1708         7%      $18.18     $163.58         $1.39  $164.97  \n",
       "1569         4%       $2.30       $7.22         $1.26   $14.21  \n",
       "1780         8%       $6.68     $216.06         $2.04  $218.10  \n",
       "2755         6%       $2.85      $30.67         $5.44   $31.68  \n",
       "\n",
       "[5 rows x 23 columns]"
      ]
     },
     "execution_count": 18,
     "metadata": {},
     "output_type": "execute_result"
    }
   ],
   "source": [
    "df.sample(5)"
   ]
  },
  {
   "cell_type": "code",
   "execution_count": 19,
   "id": "ce51a1fd",
   "metadata": {},
   "outputs": [
    {
     "data": {
      "text/plain": [
       "0      2014-09-02\n",
       "1      2015-10-24\n",
       "2      2014-03-13\n",
       "3      2013-02-18\n",
       "4      2014-09-13\n",
       "          ...    \n",
       "4995   2016-11-02\n",
       "4996   2015-12-16\n",
       "4997   2016-09-28\n",
       "4998   2016-06-18\n",
       "4999   2015-08-12\n",
       "Name: Order Date, Length: 4999, dtype: datetime64[ns]"
      ]
     },
     "execution_count": 19,
     "metadata": {},
     "output_type": "execute_result"
    }
   ],
   "source": [
    "df[\"Order Date\"]"
   ]
  },
  {
   "cell_type": "code",
   "execution_count": 20,
   "id": "1c18f1ab",
   "metadata": {},
   "outputs": [],
   "source": [
    "df[\"Ship Date\"] = pd.to_datetime(df[\"Ship Date\"], dayfirst=True , errors='coerce')\n"
   ]
  },
  {
   "cell_type": "code",
   "execution_count": 21,
   "id": "4a27f18b",
   "metadata": {},
   "outputs": [
    {
     "data": {
      "text/plain": [
       "0      2014-09-04\n",
       "1      2015-10-26\n",
       "2      2014-03-13\n",
       "3      2013-02-20\n",
       "4      2014-09-17\n",
       "          ...    \n",
       "4995   2016-11-06\n",
       "4996   2015-12-18\n",
       "4997   2016-09-30\n",
       "4998   2016-06-20\n",
       "4999   2015-08-14\n",
       "Name: Ship Date, Length: 4999, dtype: datetime64[ns]"
      ]
     },
     "execution_count": 21,
     "metadata": {},
     "output_type": "execute_result"
    }
   ],
   "source": [
    "df[\"Ship Date\"]"
   ]
  },
  {
   "cell_type": "code",
   "execution_count": 22,
   "id": "7e09d878",
   "metadata": {},
   "outputs": [
    {
     "data": {
      "text/plain": [
       "0      2014-09-02\n",
       "1      2015-10-24\n",
       "2      2014-03-13\n",
       "3      2013-02-18\n",
       "4      2014-09-13\n",
       "          ...    \n",
       "4995   2016-11-02\n",
       "4996   2015-12-16\n",
       "4997   2016-09-28\n",
       "4998   2016-06-18\n",
       "4999   2015-08-12\n",
       "Name: Order Date, Length: 4999, dtype: datetime64[ns]"
      ]
     },
     "execution_count": 22,
     "metadata": {},
     "output_type": "execute_result"
    }
   ],
   "source": [
    "df[\"Order Date\"]"
   ]
  },
  {
   "cell_type": "code",
   "execution_count": 23,
   "id": "bd358a78",
   "metadata": {},
   "outputs": [
    {
     "data": {
      "text/html": [
       "<div>\n",
       "<style scoped>\n",
       "    .dataframe tbody tr th:only-of-type {\n",
       "        vertical-align: middle;\n",
       "    }\n",
       "\n",
       "    .dataframe tbody tr th {\n",
       "        vertical-align: top;\n",
       "    }\n",
       "\n",
       "    .dataframe thead th {\n",
       "        text-align: right;\n",
       "    }\n",
       "</style>\n",
       "<table border=\"1\" class=\"dataframe\">\n",
       "  <thead>\n",
       "    <tr style=\"text-align: right;\">\n",
       "      <th></th>\n",
       "      <th>Order No</th>\n",
       "      <th>Order Date</th>\n",
       "      <th>Customer Name</th>\n",
       "      <th>City</th>\n",
       "      <th>State</th>\n",
       "      <th>Customer Type</th>\n",
       "      <th>Account Manager</th>\n",
       "      <th>Order Priority</th>\n",
       "      <th>Product Name</th>\n",
       "      <th>Product Category</th>\n",
       "      <th>...</th>\n",
       "      <th>Cost Price</th>\n",
       "      <th>Retail Price</th>\n",
       "      <th>Profit Margin</th>\n",
       "      <th>Order Quantity</th>\n",
       "      <th>Sub Total</th>\n",
       "      <th>Discount %</th>\n",
       "      <th>Discount $</th>\n",
       "      <th>Order Total</th>\n",
       "      <th>Shipping Cost</th>\n",
       "      <th>Total</th>\n",
       "    </tr>\n",
       "  </thead>\n",
       "  <tbody>\n",
       "    <tr>\n",
       "      <th>2912</th>\n",
       "      <td>5945-1</td>\n",
       "      <td>2013-08-02</td>\n",
       "      <td>Chuck Magee</td>\n",
       "      <td>Sydney</td>\n",
       "      <td>NSW</td>\n",
       "      <td>Small Business</td>\n",
       "      <td>Aanya Zhang</td>\n",
       "      <td>High</td>\n",
       "      <td>Artisan Legal 4-Ring Binder</td>\n",
       "      <td>Office Supplies</td>\n",
       "      <td>...</td>\n",
       "      <td>$13.64</td>\n",
       "      <td>$20.98</td>\n",
       "      <td>$7.34</td>\n",
       "      <td>10.0</td>\n",
       "      <td>$806.88</td>\n",
       "      <td>6%</td>\n",
       "      <td>$26.59</td>\n",
       "      <td>$780.46</td>\n",
       "      <td>$1.49</td>\n",
       "      <td>$793.51</td>\n",
       "    </tr>\n",
       "    <tr>\n",
       "      <th>310</th>\n",
       "      <td>5142-1</td>\n",
       "      <td>2013-06-25</td>\n",
       "      <td>Cindy Chapman</td>\n",
       "      <td>Sydney</td>\n",
       "      <td>NSW</td>\n",
       "      <td>Consumer</td>\n",
       "      <td>Tina Carlton</td>\n",
       "      <td>High</td>\n",
       "      <td>Laser DVD-RAM discs</td>\n",
       "      <td>Office Supplies</td>\n",
       "      <td>...</td>\n",
       "      <td>$20.18</td>\n",
       "      <td>$35.41</td>\n",
       "      <td>$15.23</td>\n",
       "      <td>37.0</td>\n",
       "      <td>$515.84</td>\n",
       "      <td>8%</td>\n",
       "      <td>$36.11</td>\n",
       "      <td>$479.73</td>\n",
       "      <td>$1.99</td>\n",
       "      <td>$483.83</td>\n",
       "    </tr>\n",
       "    <tr>\n",
       "      <th>3309</th>\n",
       "      <td>6103-1</td>\n",
       "      <td>2016-08-24</td>\n",
       "      <td>Quincy Jones</td>\n",
       "      <td>Sydney</td>\n",
       "      <td>NSW</td>\n",
       "      <td>Corporate</td>\n",
       "      <td>Samantha Chairs</td>\n",
       "      <td>Low</td>\n",
       "      <td>Bagged Rubber Bands</td>\n",
       "      <td>Office Supplies</td>\n",
       "      <td>...</td>\n",
       "      <td>$0.24</td>\n",
       "      <td>$1.26</td>\n",
       "      <td>$1.02</td>\n",
       "      <td>44.0</td>\n",
       "      <td>$63.36</td>\n",
       "      <td>0%</td>\n",
       "      <td>$0.60</td>\n",
       "      <td>$63.56</td>\n",
       "      <td>$0.70</td>\n",
       "      <td>$64.43</td>\n",
       "    </tr>\n",
       "    <tr>\n",
       "      <th>1585</th>\n",
       "      <td>5477-1</td>\n",
       "      <td>2014-02-22</td>\n",
       "      <td>Grant Thornton</td>\n",
       "      <td>Sydney</td>\n",
       "      <td>NSW</td>\n",
       "      <td>Home Office</td>\n",
       "      <td>Natasha Song</td>\n",
       "      <td>High</td>\n",
       "      <td>Bagged Rubber Bands</td>\n",
       "      <td>Office Supplies</td>\n",
       "      <td>...</td>\n",
       "      <td>$0.24</td>\n",
       "      <td>$1.26</td>\n",
       "      <td>$1.02</td>\n",
       "      <td>32.0</td>\n",
       "      <td>$467.92</td>\n",
       "      <td>7%</td>\n",
       "      <td>$14.00</td>\n",
       "      <td>$451.70</td>\n",
       "      <td>$0.70</td>\n",
       "      <td>$465.20</td>\n",
       "    </tr>\n",
       "    <tr>\n",
       "      <th>3345</th>\n",
       "      <td>6119-1</td>\n",
       "      <td>2015-09-01</td>\n",
       "      <td>Antherina Tachmonas</td>\n",
       "      <td>Sydney</td>\n",
       "      <td>NSW</td>\n",
       "      <td>Home Office</td>\n",
       "      <td>Mihael Khan</td>\n",
       "      <td>Low</td>\n",
       "      <td>Smiths General Use 3-Ring Binders</td>\n",
       "      <td>Technology</td>\n",
       "      <td>...</td>\n",
       "      <td>$1.18</td>\n",
       "      <td>$1.88</td>\n",
       "      <td>$0.70</td>\n",
       "      <td>44.0</td>\n",
       "      <td>$63.58</td>\n",
       "      <td>3%</td>\n",
       "      <td>$1.31</td>\n",
       "      <td>$69.13</td>\n",
       "      <td>$1.49</td>\n",
       "      <td>$60.22</td>\n",
       "    </tr>\n",
       "  </tbody>\n",
       "</table>\n",
       "<p>5 rows × 23 columns</p>\n",
       "</div>"
      ],
      "text/plain": [
       "     Order No Order Date        Customer Name    City State   Customer Type  \\\n",
       "2912   5945-1 2013-08-02          Chuck Magee  Sydney   NSW  Small Business   \n",
       "310    5142-1 2013-06-25        Cindy Chapman  Sydney   NSW        Consumer   \n",
       "3309   6103-1 2016-08-24         Quincy Jones  Sydney   NSW       Corporate   \n",
       "1585   5477-1 2014-02-22       Grant Thornton  Sydney   NSW     Home Office   \n",
       "3345   6119-1 2015-09-01  Antherina Tachmonas  Sydney   NSW     Home Office   \n",
       "\n",
       "      Account Manager Order Priority                       Product Name  \\\n",
       "2912      Aanya Zhang           High        Artisan Legal 4-Ring Binder   \n",
       "310      Tina Carlton           High                Laser DVD-RAM discs   \n",
       "3309  Samantha Chairs            Low                Bagged Rubber Bands   \n",
       "1585     Natasha Song           High                Bagged Rubber Bands   \n",
       "3345      Mihael Khan            Low  Smiths General Use 3-Ring Binders   \n",
       "\n",
       "     Product Category  ... Cost Price Retail Price Profit Margin  \\\n",
       "2912  Office Supplies  ...     $13.64       $20.98         $7.34   \n",
       "310   Office Supplies  ...     $20.18       $35.41        $15.23   \n",
       "3309  Office Supplies  ...      $0.24        $1.26         $1.02   \n",
       "1585  Office Supplies  ...      $0.24        $1.26         $1.02   \n",
       "3345       Technology  ...      $1.18        $1.88         $0.70   \n",
       "\n",
       "     Order Quantity Sub Total Discount %  Discount $ Order Total  \\\n",
       "2912           10.0   $806.88         6%      $26.59     $780.46   \n",
       "310            37.0   $515.84         8%      $36.11     $479.73   \n",
       "3309           44.0    $63.36         0%       $0.60      $63.56   \n",
       "1585           32.0   $467.92         7%      $14.00     $451.70   \n",
       "3345           44.0    $63.58         3%       $1.31      $69.13   \n",
       "\n",
       "     Shipping Cost    Total  \n",
       "2912         $1.49  $793.51  \n",
       "310          $1.99  $483.83  \n",
       "3309         $0.70   $64.43  \n",
       "1585         $0.70  $465.20  \n",
       "3345         $1.49   $60.22  \n",
       "\n",
       "[5 rows x 23 columns]"
      ]
     },
     "execution_count": 23,
     "metadata": {},
     "output_type": "execute_result"
    }
   ],
   "source": [
    "df.sample(5)"
   ]
  },
  {
   "cell_type": "markdown",
   "id": "39c1dedb",
   "metadata": {},
   "source": [
    "___"
   ]
  },
  {
   "cell_type": "markdown",
   "id": "f46f21ee",
   "metadata": {},
   "source": [
    "### astype"
   ]
  },
  {
   "cell_type": "code",
   "execution_count": 24,
   "id": "45fd9077",
   "metadata": {},
   "outputs": [],
   "source": [
    "for col in df:\n",
    "    df[\"Total\"] = df[\"Total\"].map(lambda x: str(x).replace('$',''))"
   ]
  },
  {
   "cell_type": "code",
   "execution_count": 25,
   "id": "66b80d78",
   "metadata": {},
   "outputs": [],
   "source": [
    "for col in df:\n",
    "    df[\"Shipping Cost\"] = df[\"Shipping Cost\"].map(lambda x: str(x).replace('$',''))"
   ]
  },
  {
   "cell_type": "code",
   "execution_count": 26,
   "id": "91f637b4",
   "metadata": {},
   "outputs": [],
   "source": [
    "for col in df:\n",
    "    df[\"Order Total\"] = df[\"Order Total\"].map(lambda x: str(x).replace('$',''))"
   ]
  },
  {
   "cell_type": "code",
   "execution_count": 27,
   "id": "63afa0a7",
   "metadata": {},
   "outputs": [],
   "source": [
    "for col in df:\n",
    "    df[\"Discount $\"] = df[\"Discount $\"].map(lambda x: str(x).replace('$',''))"
   ]
  },
  {
   "cell_type": "code",
   "execution_count": 28,
   "id": "f84c05db",
   "metadata": {},
   "outputs": [],
   "source": [
    "for col in df:\n",
    "    df[\"Discount %\"] = df[\"Discount %\"].map(lambda x: str(x).replace('%',''))"
   ]
  },
  {
   "cell_type": "code",
   "execution_count": 29,
   "id": "b99f5f46",
   "metadata": {},
   "outputs": [],
   "source": [
    "for col in df:\n",
    "    df[\"Sub Total\"] = df[\"Sub Total\"].map(lambda x: str(x).replace('$',''))"
   ]
  },
  {
   "cell_type": "code",
   "execution_count": 30,
   "id": "fdcbbdef",
   "metadata": {},
   "outputs": [],
   "source": [
    "for col in df:\n",
    "    df[\"Profit Margin\"] = df[\"Profit Margin\"].map(lambda x: str(x).replace('$',''))"
   ]
  },
  {
   "cell_type": "code",
   "execution_count": 31,
   "id": "9ab8aaa4",
   "metadata": {},
   "outputs": [],
   "source": [
    "for col in df:\n",
    "    df[\"Retail Price\"] = df[\"Retail Price\"].map(lambda x: str(x).replace('$',''))"
   ]
  },
  {
   "cell_type": "code",
   "execution_count": 32,
   "id": "10c53e4f",
   "metadata": {},
   "outputs": [],
   "source": [
    "for col in df:\n",
    "    df[\"Cost Price\"] = df[\"Cost Price\"].map(lambda x: str(x).replace('$',''))"
   ]
  },
  {
   "cell_type": "code",
   "execution_count": 33,
   "id": "05230b79",
   "metadata": {},
   "outputs": [
    {
     "data": {
      "text/plain": [
       "0        7.18\n",
       "1        0.70\n",
       "2        7.18\n",
       "3        6.19\n",
       "4        1.34\n",
       "        ...  \n",
       "4995     0.83\n",
       "4996    19.51\n",
       "4997     1.99\n",
       "4998     0.50\n",
       "4999     5.01\n",
       "Name: Shipping Cost, Length: 4999, dtype: object"
      ]
     },
     "execution_count": 33,
     "metadata": {},
     "output_type": "execute_result"
    }
   ],
   "source": [
    "df[\"Shipping Cost\"]"
   ]
  },
  {
   "cell_type": "code",
   "execution_count": 34,
   "id": "b14ccb75",
   "metadata": {},
   "outputs": [
    {
     "data": {
      "text/html": [
       "<div>\n",
       "<style scoped>\n",
       "    .dataframe tbody tr th:only-of-type {\n",
       "        vertical-align: middle;\n",
       "    }\n",
       "\n",
       "    .dataframe tbody tr th {\n",
       "        vertical-align: top;\n",
       "    }\n",
       "\n",
       "    .dataframe thead th {\n",
       "        text-align: right;\n",
       "    }\n",
       "</style>\n",
       "<table border=\"1\" class=\"dataframe\">\n",
       "  <thead>\n",
       "    <tr style=\"text-align: right;\">\n",
       "      <th></th>\n",
       "      <th>Order No</th>\n",
       "      <th>Order Date</th>\n",
       "      <th>Customer Name</th>\n",
       "      <th>City</th>\n",
       "      <th>State</th>\n",
       "      <th>Customer Type</th>\n",
       "      <th>Account Manager</th>\n",
       "      <th>Order Priority</th>\n",
       "      <th>Product Name</th>\n",
       "      <th>Product Category</th>\n",
       "      <th>...</th>\n",
       "      <th>Cost Price</th>\n",
       "      <th>Retail Price</th>\n",
       "      <th>Profit Margin</th>\n",
       "      <th>Order Quantity</th>\n",
       "      <th>Sub Total</th>\n",
       "      <th>Discount %</th>\n",
       "      <th>Discount $</th>\n",
       "      <th>Order Total</th>\n",
       "      <th>Shipping Cost</th>\n",
       "      <th>Total</th>\n",
       "    </tr>\n",
       "  </thead>\n",
       "  <tbody>\n",
       "    <tr>\n",
       "      <th>2505</th>\n",
       "      <td>5808-1</td>\n",
       "      <td>2015-01-17</td>\n",
       "      <td>Staviel Brown</td>\n",
       "      <td>Sydney</td>\n",
       "      <td>NSW</td>\n",
       "      <td>Consumer</td>\n",
       "      <td>Tina Carlton</td>\n",
       "      <td>Not Specified</td>\n",
       "      <td>Artisan 478 Labels</td>\n",
       "      <td>Office Supplies</td>\n",
       "      <td>...</td>\n",
       "      <td>3.14</td>\n",
       "      <td>4.91</td>\n",
       "      <td>1.77</td>\n",
       "      <td>42.0</td>\n",
       "      <td>44.32</td>\n",
       "      <td>6</td>\n",
       "      <td>2.49</td>\n",
       "      <td>43.39</td>\n",
       "      <td>0.50</td>\n",
       "      <td>43.89</td>\n",
       "    </tr>\n",
       "    <tr>\n",
       "      <th>3674</th>\n",
       "      <td>6219-1</td>\n",
       "      <td>2016-03-05</td>\n",
       "      <td>Steven Cartwright</td>\n",
       "      <td>Sydney</td>\n",
       "      <td>NSW</td>\n",
       "      <td>Consumer</td>\n",
       "      <td>Aanya Zhang</td>\n",
       "      <td>High</td>\n",
       "      <td>Steady Pocket Accent Highlighters</td>\n",
       "      <td>Office Supplies</td>\n",
       "      <td>...</td>\n",
       "      <td>0.93</td>\n",
       "      <td>1.60</td>\n",
       "      <td>0.67</td>\n",
       "      <td>7.0</td>\n",
       "      <td>68.80</td>\n",
       "      <td>9</td>\n",
       "      <td>0.69</td>\n",
       "      <td>68.11</td>\n",
       "      <td>1.29</td>\n",
       "      <td>69.40</td>\n",
       "    </tr>\n",
       "    <tr>\n",
       "      <th>3871</th>\n",
       "      <td>6266-2</td>\n",
       "      <td>2016-04-18</td>\n",
       "      <td>Don Weiss</td>\n",
       "      <td>Sydney</td>\n",
       "      <td>NSW</td>\n",
       "      <td>Small Business</td>\n",
       "      <td>Aanya Zhang</td>\n",
       "      <td>High</td>\n",
       "      <td>Binder Clips by OIC</td>\n",
       "      <td>Office Supplies</td>\n",
       "      <td>...</td>\n",
       "      <td>0.93</td>\n",
       "      <td>1.48</td>\n",
       "      <td>0.55</td>\n",
       "      <td>43.0</td>\n",
       "      <td>4.44</td>\n",
       "      <td>0</td>\n",
       "      <td>0.44</td>\n",
       "      <td>4.00</td>\n",
       "      <td>0.70</td>\n",
       "      <td>4.70</td>\n",
       "    </tr>\n",
       "    <tr>\n",
       "      <th>4449</th>\n",
       "      <td>6409-1</td>\n",
       "      <td>2016-09-20</td>\n",
       "      <td>Ashley Jarboe</td>\n",
       "      <td>Melbourne</td>\n",
       "      <td>VIC</td>\n",
       "      <td>Corporate</td>\n",
       "      <td>Connor Betts</td>\n",
       "      <td>Not Specified</td>\n",
       "      <td>Wirebound Message Book, 4 per Page</td>\n",
       "      <td>Office Supplies</td>\n",
       "      <td>...</td>\n",
       "      <td>3.48</td>\n",
       "      <td>5.43</td>\n",
       "      <td>1.95</td>\n",
       "      <td>8.0</td>\n",
       "      <td>65.16</td>\n",
       "      <td>0</td>\n",
       "      <td>0.75</td>\n",
       "      <td>64.51</td>\n",
       "      <td>0.95</td>\n",
       "      <td>65.46</td>\n",
       "    </tr>\n",
       "    <tr>\n",
       "      <th>2722</th>\n",
       "      <td>5884-2</td>\n",
       "      <td>2013-06-26</td>\n",
       "      <td>Roy Collins</td>\n",
       "      <td>Sydney</td>\n",
       "      <td>NSW</td>\n",
       "      <td>Home Office</td>\n",
       "      <td>Natasha Song</td>\n",
       "      <td>Not Specified</td>\n",
       "      <td>Barrel Sharpener</td>\n",
       "      <td>Office Supplies</td>\n",
       "      <td>...</td>\n",
       "      <td>1.46</td>\n",
       "      <td>3.57</td>\n",
       "      <td>2.11</td>\n",
       "      <td>23.0</td>\n",
       "      <td>136.02</td>\n",
       "      <td>6</td>\n",
       "      <td>3.06</td>\n",
       "      <td>123.84</td>\n",
       "      <td>4.17</td>\n",
       "      <td>126.43</td>\n",
       "    </tr>\n",
       "  </tbody>\n",
       "</table>\n",
       "<p>5 rows × 23 columns</p>\n",
       "</div>"
      ],
      "text/plain": [
       "     Order No Order Date      Customer Name       City State   Customer Type  \\\n",
       "2505   5808-1 2015-01-17      Staviel Brown     Sydney   NSW        Consumer   \n",
       "3674   6219-1 2016-03-05  Steven Cartwright     Sydney   NSW        Consumer   \n",
       "3871   6266-2 2016-04-18          Don Weiss     Sydney   NSW  Small Business   \n",
       "4449   6409-1 2016-09-20      Ashley Jarboe  Melbourne   VIC       Corporate   \n",
       "2722   5884-2 2013-06-26        Roy Collins     Sydney   NSW     Home Office   \n",
       "\n",
       "     Account Manager Order Priority                        Product Name  \\\n",
       "2505    Tina Carlton  Not Specified                  Artisan 478 Labels   \n",
       "3674     Aanya Zhang           High   Steady Pocket Accent Highlighters   \n",
       "3871     Aanya Zhang           High                 Binder Clips by OIC   \n",
       "4449    Connor Betts  Not Specified  Wirebound Message Book, 4 per Page   \n",
       "2722    Natasha Song  Not Specified                    Barrel Sharpener   \n",
       "\n",
       "     Product Category  ... Cost Price Retail Price Profit Margin  \\\n",
       "2505  Office Supplies  ...       3.14         4.91          1.77   \n",
       "3674  Office Supplies  ...       0.93         1.60          0.67   \n",
       "3871  Office Supplies  ...       0.93         1.48          0.55   \n",
       "4449  Office Supplies  ...       3.48         5.43          1.95   \n",
       "2722  Office Supplies  ...       1.46         3.57          2.11   \n",
       "\n",
       "     Order Quantity Sub Total Discount %  Discount $ Order Total  \\\n",
       "2505           42.0     44.32          6        2.49       43.39   \n",
       "3674            7.0     68.80          9        0.69       68.11   \n",
       "3871           43.0      4.44          0        0.44        4.00   \n",
       "4449            8.0     65.16          0        0.75       64.51   \n",
       "2722           23.0    136.02          6        3.06      123.84   \n",
       "\n",
       "     Shipping Cost   Total  \n",
       "2505          0.50   43.89  \n",
       "3674          1.29   69.40  \n",
       "3871          0.70    4.70  \n",
       "4449          0.95   65.46  \n",
       "2722          4.17  126.43  \n",
       "\n",
       "[5 rows x 23 columns]"
      ]
     },
     "execution_count": 34,
     "metadata": {},
     "output_type": "execute_result"
    }
   ],
   "source": [
    "df.sample(5)"
   ]
  },
  {
   "cell_type": "code",
   "execution_count": 35,
   "id": "7a292a0f",
   "metadata": {},
   "outputs": [],
   "source": [
    "df[\"Total\"] = (\n",
    "    df[\"Total\"].str.replace(\",\", \"\").astype(float)\n",
    ")\n"
   ]
  },
  {
   "cell_type": "code",
   "execution_count": 36,
   "id": "3d6e310c",
   "metadata": {},
   "outputs": [],
   "source": [
    "df[\"Shipping Cost\"] = df[\"Shipping Cost\"].astype(float)"
   ]
  },
  {
   "cell_type": "code",
   "execution_count": 37,
   "id": "bb2953cf",
   "metadata": {},
   "outputs": [],
   "source": [
    "df[\"Order Total\"] = (\n",
    "    df[\"Order Total\"].str.replace(\",\", \"\").astype(float)\n",
    ")\n"
   ]
  },
  {
   "cell_type": "code",
   "execution_count": 38,
   "id": "28ec49ba",
   "metadata": {},
   "outputs": [],
   "source": [
    "df[\"Discount $\"] = (\n",
    "    df[\"Discount $\"].str.replace(\",\", \"\").astype(float)\n",
    ")\n"
   ]
  },
  {
   "cell_type": "code",
   "execution_count": 39,
   "id": "e702b939",
   "metadata": {},
   "outputs": [],
   "source": [
    "df[\"Discount %\"] = (\n",
    "    df[\"Discount %\"].str.replace(\",\", \"\").astype(float)\n",
    ")\n"
   ]
  },
  {
   "cell_type": "code",
   "execution_count": 40,
   "id": "408dc187",
   "metadata": {},
   "outputs": [],
   "source": [
    "df[\"Sub Total\"] = (\n",
    "    df[\"Sub Total\"].str.replace(\",\", \"\").astype(float)\n",
    ")"
   ]
  },
  {
   "cell_type": "code",
   "execution_count": 41,
   "id": "43bc3fdd",
   "metadata": {},
   "outputs": [],
   "source": [
    "df[\"Order Quantity\"] = df[\"Order Quantity\"].astype(int)"
   ]
  },
  {
   "cell_type": "code",
   "execution_count": 42,
   "id": "e333bd18",
   "metadata": {},
   "outputs": [],
   "source": [
    "df[\"Profit Margin\"] = df[\"Profit Margin\"].astype(float)"
   ]
  },
  {
   "cell_type": "code",
   "execution_count": 43,
   "id": "3487e10a",
   "metadata": {},
   "outputs": [],
   "source": [
    "df[\"Retail Price\"] = df[\"Retail Price\"].astype(float)"
   ]
  },
  {
   "cell_type": "code",
   "execution_count": 44,
   "id": "e968aac5",
   "metadata": {},
   "outputs": [],
   "source": [
    "df[\"Cost Price\"] = df[\"Cost Price\"].astype(float)"
   ]
  },
  {
   "cell_type": "markdown",
   "id": "72e3a346",
   "metadata": {},
   "source": [
    "___"
   ]
  },
  {
   "cell_type": "markdown",
   "id": "0a647cc4",
   "metadata": {},
   "source": [
    "### Feature Selection"
   ]
  },
  {
   "cell_type": "code",
   "execution_count": 45,
   "id": "9cb2401a",
   "metadata": {},
   "outputs": [],
   "source": [
    "df['Profit Percentage (%)'] = ((df['Profit Margin'] / df['Cost Price']) * 100).round(1)"
   ]
  },
  {
   "cell_type": "code",
   "execution_count": 46,
   "id": "ced223cf",
   "metadata": {},
   "outputs": [
    {
     "data": {
      "text/plain": [
       "0        92.3\n",
       "1       425.0\n",
       "2        92.3\n",
       "3        61.4\n",
       "4        81.7\n",
       "        ...  \n",
       "4995     96.0\n",
       "4996     56.2\n",
       "4997     75.5\n",
       "4998     64.2\n",
       "4999     64.0\n",
       "Name: Profit Percentage (%), Length: 4999, dtype: float64"
      ]
     },
     "execution_count": 46,
     "metadata": {},
     "output_type": "execute_result"
    }
   ],
   "source": [
    "df[\"Profit Percentage (%)\"]"
   ]
  },
  {
   "cell_type": "code",
   "execution_count": 47,
   "id": "8c3f6d0f",
   "metadata": {},
   "outputs": [],
   "source": [
    "df[\"Total Profit\"] = df[\"Profit Margin\"] * df[\"Order Quantity\"]"
   ]
  },
  {
   "cell_type": "code",
   "execution_count": 48,
   "id": "5fb9a05a",
   "metadata": {},
   "outputs": [],
   "source": [
    "df[\"ProcessingTime\"] = (df[\"Ship Date\"] - df[\"Order Date\"]).dt.days"
   ]
  },
  {
   "cell_type": "code",
   "execution_count": 49,
   "id": "3abd02a1",
   "metadata": {},
   "outputs": [],
   "source": [
    "df['Order Year'] = df['Order Date'].dt.year\n",
    "df['Order Month'] = df['Order Date'].dt.to_period('M')\n",
    "df['Order Weekday'] = df['Order Date'].dt.day_name()\n"
   ]
  },
  {
   "cell_type": "code",
   "execution_count": 50,
   "id": "3f48560f",
   "metadata": {},
   "outputs": [],
   "source": [
    "df[\"Sub Total\"] = (df[\"Retail Price\"] * df[\"Order Quantity\"]).round(2)"
   ]
  },
  {
   "cell_type": "code",
   "execution_count": 51,
   "id": "c2aa9b2a",
   "metadata": {},
   "outputs": [],
   "source": [
    "df[\"Order Total\"] = (df[\"Sub Total\"] - df[\"Discount %\"])"
   ]
  },
  {
   "cell_type": "markdown",
   "id": "9446e578",
   "metadata": {},
   "source": [
    "___"
   ]
  },
  {
   "cell_type": "markdown",
   "id": "7b6037cc",
   "metadata": {},
   "source": [
    "### outlayers"
   ]
  },
  {
   "cell_type": "markdown",
   "id": "ebe64d6e",
   "metadata": {},
   "source": [
    "بررسی هیستگرام ستون ها برای تشخیص اینکه از چه نوعی هستند و از چه مدل اوت لیری استفاده کنیم \n"
   ]
  },
  {
   "cell_type": "code",
   "execution_count": 52,
   "id": "5555c9b7",
   "metadata": {},
   "outputs": [
    {
     "data": {
      "image/png": "[encoded data removed]",
      "text/plain": [
       "<Figure size 1500x2000 with 14 Axes>"
      ]
     },
     "metadata": {},
     "output_type": "display_data"
    }
   ],
   "source": [
    "# ستون‌های عددی\n",
    "num_cols = df.select_dtypes(include='number').columns\n",
    "\n",
    "# تست نرمالیتی\n",
    "normality_results = {}\n",
    "for col in num_cols:\n",
    "    stat, p_value = shapiro(df[col].dropna())\n",
    "    normality_results[col] = p_value\n",
    "\n",
    "# تعداد سطر و ستون نمودارها\n",
    "n_cols = 3  # ← چند نمودار در هر ردیف می‌خوای (قابل تغییر)\n",
    "n_rows = int(np.ceil(len(num_cols) / n_cols))\n",
    "\n",
    "fig, axes = plt.subplots(n_rows, n_cols, figsize=(15, n_rows * 4))\n",
    "axes = axes.flatten()\n",
    "\n",
    "# رسم نمودارها\n",
    "for i, col in enumerate(num_cols):\n",
    "    sns.histplot(df[col], kde=True, ax=axes[i])\n",
    "    axes[i].set_title(f'{col}\\n(p={normality_results[col]:.3f})', fontsize=11)\n",
    "    axes[i].set_xlabel('')\n",
    "    axes[i].set_ylabel('')\n",
    "    axes[i].grid(True, alpha=0.3)\n",
    "\n",
    "# حذف محورهای اضافی در صورت کمتر بودن نمودارها از خانه‌های گرید\n",
    "for j in range(i + 1, len(axes)):\n",
    "    fig.delaxes(axes[j])\n",
    "\n",
    "fig.suptitle('Normality Check (Shapiro-Wilk Test)', fontsize=16, fontweight='bold', y=1.02)\n",
    "plt.tight_layout()\n",
    "plt.show()\n"
   ]
  },
  {
   "cell_type": "code",
   "execution_count": 53,
   "id": "cb076208",
   "metadata": {},
   "outputs": [
    {
     "name": "stdout",
     "output_type": "stream",
     "text": [
      "تعداد اوتلایرها (IQR, f= 2):\n",
      "Cost Price: 614\n",
      "Retail Price: 624\n",
      "Profit Margin: 671\n",
      "Sub Total: 656\n",
      "Discount $: 639\n",
      "Order Total: 656\n",
      "Shipping Cost: 344\n",
      "Total: 614\n",
      "Total Profit: 643\n",
      "ProcessingTime: 489\n",
      "Order Quantity: 0\n",
      "Profit Percentage (%): 201\n"
     ]
    }
   ],
   "source": [
    "\n",
    "# تابع تشخیص outlier با IQR (با f= 2 به صورت پیش‌فرض)\n",
    "def detect_iqr(s, f=2):\n",
    "    q1 = s.quantile(0.25)\n",
    "    q3 = s.quantile(0.75)\n",
    "    iqr = q3 - q1\n",
    "    lower_bound = q1 - f * iqr\n",
    "    upper_bound = q3 + f * iqr\n",
    "    return (s < lower_bound) | (s > upper_bound)  # True = outlier\n",
    "\n",
    "# لیست تمام ستون‌های عددی که می‌خواهیم بررسی کنیم\n",
    "columns = [\n",
    "    'Cost Price', 'Retail Price', 'Profit Margin', 'Sub Total',\n",
    "    'Discount $', 'Order Total', 'Shipping Cost', 'Total',\n",
    "    'Total Profit', 'ProcessingTime', 'Order Quantity', 'Profit Percentage (%)'\n",
    "]\n",
    "\n",
    "# شمارش اوتلایرها با روش IQR (f= 2) برای همه ستون‌ها\n",
    "outlier_counts = {}\n",
    "for col in columns:\n",
    "    if col in df.columns:\n",
    "        mask = detect_iqr(df[col], f= 2)\n",
    "        outlier_counts[col] = mask.sum()\n",
    "    else:\n",
    "        outlier_counts[col] = 0  # اگر ستون وجود نداشت\n",
    "\n",
    "print(\"تعداد اوتلایرها (IQR, f= 2):\")\n",
    "for col, count in outlier_counts.items():\n",
    "    print(f\"{col}: {count}\")"
   ]
  },
  {
   "cell_type": "code",
   "execution_count": 54,
   "id": "2b7b4141",
   "metadata": {},
   "outputs": [
    {
     "data": {
      "text/plain": [
       "(4999, 29)"
      ]
     },
     "execution_count": 54,
     "metadata": {},
     "output_type": "execute_result"
    }
   ],
   "source": [
    "df.shape"
   ]
  },
  {
   "cell_type": "code",
   "execution_count": 55,
   "id": "9df1cdc4",
   "metadata": {},
   "outputs": [],
   "source": [
    "\n",
    "# ساخت ماسک نهایی: True اگر ردیف در حداقل یک ستون اوتلایر باشد\n",
    "mask = pd.Series([False] * len(df), index=df.index)\n",
    "\n",
    "for col in columns:\n",
    "    if col in df.columns:\n",
    "        outlier_mask = detect_iqr(df[col], f=2)\n",
    "        mask |= outlier_mask  # ترکیب منطقی OR\n",
    "\n",
    "# حذف ردیف‌های اوتلایر\n",
    "df = df[~mask].copy()"
   ]
  },
  {
   "cell_type": "code",
   "execution_count": 56,
   "id": "fd20c393",
   "metadata": {},
   "outputs": [
    {
     "data": {
      "text/plain": [
       "(3453, 29)"
      ]
     },
     "execution_count": 56,
     "metadata": {},
     "output_type": "execute_result"
    }
   ],
   "source": [
    "df.shape"
   ]
  },
  {
   "cell_type": "code",
   "execution_count": 57,
   "id": "ff15b1da",
   "metadata": {},
   "outputs": [],
   "source": [
    "non_negative_cols = [\n",
    "    \"Cost Price\", \"Retail Price\", \"Order Quantity\",\n",
    "    \"Sub Total\", \"Discount %\", \"Discount $\", \"Order Total\",\n",
    "    \"Shipping Cost\", \"Total\", \"Profit Percentage (%)\",\n",
    "    \"ProcessingTime\"\n",
    "]\n",
    "\n",
    "df = df[~(df[non_negative_cols] < 0).any(axis=1)].copy()\n"
   ]
  },
  {
   "cell_type": "code",
   "execution_count": 58,
   "id": "effc0d1d",
   "metadata": {},
   "outputs": [
    {
     "data": {
      "text/plain": [
       "(3393, 29)"
      ]
     },
     "execution_count": 58,
     "metadata": {},
     "output_type": "execute_result"
    }
   ],
   "source": [
    "df.shape"
   ]
  },
  {
   "cell_type": "markdown",
   "id": "b2f12f8a",
   "metadata": {},
   "source": [
    "___"
   ]
  },
  {
   "cell_type": "code",
   "execution_count": 59,
   "id": "0749ae90",
   "metadata": {},
   "outputs": [
    {
     "name": "stdout",
     "output_type": "stream",
     "text": [
      "<class 'pandas.core.frame.DataFrame'>\n",
      "Index: 3393 entries, 3 to 4999\n",
      "Data columns (total 29 columns):\n",
      " #   Column                 Non-Null Count  Dtype         \n",
      "---  ------                 --------------  -----         \n",
      " 0   Order No               3393 non-null   object        \n",
      " 1   Order Date             3393 non-null   datetime64[ns]\n",
      " 2   Customer Name          3393 non-null   object        \n",
      " 3   City                   3393 non-null   object        \n",
      " 4   State                  3393 non-null   object        \n",
      " 5   Customer Type          3393 non-null   object        \n",
      " 6   Account Manager        3393 non-null   object        \n",
      " 7   Order Priority         3393 non-null   object        \n",
      " 8   Product Name           3393 non-null   object        \n",
      " 9   Product Category       3393 non-null   object        \n",
      " 10  Product Container      3393 non-null   object        \n",
      " 11  Ship Mode              3393 non-null   object        \n",
      " 12  Ship Date              3393 non-null   datetime64[ns]\n",
      " 13  Cost Price             3393 non-null   float64       \n",
      " 14  Retail Price           3393 non-null   float64       \n",
      " 15  Profit Margin          3393 non-null   float64       \n",
      " 16  Order Quantity         3393 non-null   int64         \n",
      " 17  Sub Total              3393 non-null   float64       \n",
      " 18  Discount %             3393 non-null   float64       \n",
      " 19  Discount $             3393 non-null   float64       \n",
      " 20  Order Total            3393 non-null   float64       \n",
      " 21  Shipping Cost          3393 non-null   float64       \n",
      " 22  Total                  3393 non-null   float64       \n",
      " 23  Profit Percentage (%)  3393 non-null   float64       \n",
      " 24  Total Profit           3393 non-null   float64       \n",
      " 25  ProcessingTime         3393 non-null   int64         \n",
      " 26  Order Year             3393 non-null   int32         \n",
      " 27  Order Month            3393 non-null   period[M]     \n",
      " 28  Order Weekday          3393 non-null   object        \n",
      "dtypes: datetime64[ns](2), float64(11), int32(1), int64(2), object(12), period[M](1)\n",
      "memory usage: 782.0+ KB\n"
     ]
    }
   ],
   "source": [
    "df.info()"
   ]
  },
  {
   "cell_type": "code",
   "execution_count": 60,
   "id": "625bb270",
   "metadata": {},
   "outputs": [
    {
     "data": {
      "text/html": [
       "<div>\n",
       "<style scoped>\n",
       "    .dataframe tbody tr th:only-of-type {\n",
       "        vertical-align: middle;\n",
       "    }\n",
       "\n",
       "    .dataframe tbody tr th {\n",
       "        vertical-align: top;\n",
       "    }\n",
       "\n",
       "    .dataframe thead th {\n",
       "        text-align: right;\n",
       "    }\n",
       "</style>\n",
       "<table border=\"1\" class=\"dataframe\">\n",
       "  <thead>\n",
       "    <tr style=\"text-align: right;\">\n",
       "      <th></th>\n",
       "      <th>Order No</th>\n",
       "      <th>Order Date</th>\n",
       "      <th>Customer Name</th>\n",
       "      <th>City</th>\n",
       "      <th>State</th>\n",
       "      <th>Customer Type</th>\n",
       "      <th>Account Manager</th>\n",
       "      <th>Order Priority</th>\n",
       "      <th>Product Name</th>\n",
       "      <th>Product Category</th>\n",
       "      <th>...</th>\n",
       "      <th>Discount $</th>\n",
       "      <th>Order Total</th>\n",
       "      <th>Shipping Cost</th>\n",
       "      <th>Total</th>\n",
       "      <th>Profit Percentage (%)</th>\n",
       "      <th>Total Profit</th>\n",
       "      <th>ProcessingTime</th>\n",
       "      <th>Order Year</th>\n",
       "      <th>Order Month</th>\n",
       "      <th>Order Weekday</th>\n",
       "    </tr>\n",
       "  </thead>\n",
       "  <tbody>\n",
       "    <tr>\n",
       "      <th>1795</th>\n",
       "      <td>5551-1</td>\n",
       "      <td>2014-07-12</td>\n",
       "      <td>Raymond Book</td>\n",
       "      <td>Sydney</td>\n",
       "      <td>NSW</td>\n",
       "      <td>Corporate</td>\n",
       "      <td>Mihael Khan</td>\n",
       "      <td>Medium</td>\n",
       "      <td>Artisan Reinforcements for Hole-Punch Pages</td>\n",
       "      <td>Technology</td>\n",
       "      <td>...</td>\n",
       "      <td>0.00</td>\n",
       "      <td>89.08</td>\n",
       "      <td>4.77</td>\n",
       "      <td>59.40</td>\n",
       "      <td>66.4</td>\n",
       "      <td>36.34</td>\n",
       "      <td>2</td>\n",
       "      <td>2014</td>\n",
       "      <td>2014-07</td>\n",
       "      <td>Saturday</td>\n",
       "    </tr>\n",
       "    <tr>\n",
       "      <th>3424</th>\n",
       "      <td>6143-1</td>\n",
       "      <td>2013-10-05</td>\n",
       "      <td>Neil Knudson</td>\n",
       "      <td>Sydney</td>\n",
       "      <td>NSW</td>\n",
       "      <td>Corporate</td>\n",
       "      <td>Tina Carlton</td>\n",
       "      <td>High</td>\n",
       "      <td>Beekin 6 Outlet Metallic Surge Strip</td>\n",
       "      <td>Office Supplies</td>\n",
       "      <td>...</td>\n",
       "      <td>26.35</td>\n",
       "      <td>472.16</td>\n",
       "      <td>4.50</td>\n",
       "      <td>248.75</td>\n",
       "      <td>144.2</td>\n",
       "      <td>282.92</td>\n",
       "      <td>2</td>\n",
       "      <td>2013</td>\n",
       "      <td>2013-10</td>\n",
       "      <td>Saturday</td>\n",
       "    </tr>\n",
       "    <tr>\n",
       "      <th>1455</th>\n",
       "      <td>5439-1</td>\n",
       "      <td>2014-03-13</td>\n",
       "      <td>Dennis Pardue</td>\n",
       "      <td>Melbourne</td>\n",
       "      <td>VIC</td>\n",
       "      <td>Small Business</td>\n",
       "      <td>Connor Betts</td>\n",
       "      <td>Not Specified</td>\n",
       "      <td>Steady Major Accent Highlighters</td>\n",
       "      <td>Office Supplies</td>\n",
       "      <td>...</td>\n",
       "      <td>7.22</td>\n",
       "      <td>265.04</td>\n",
       "      <td>2.35</td>\n",
       "      <td>235.85</td>\n",
       "      <td>88.8</td>\n",
       "      <td>126.54</td>\n",
       "      <td>0</td>\n",
       "      <td>2014</td>\n",
       "      <td>2014-03</td>\n",
       "      <td>Thursday</td>\n",
       "    </tr>\n",
       "    <tr>\n",
       "      <th>1837</th>\n",
       "      <td>5562-1</td>\n",
       "      <td>2015-01-09</td>\n",
       "      <td>Katrina Willman</td>\n",
       "      <td>Melbourne</td>\n",
       "      <td>VIC</td>\n",
       "      <td>Home Office</td>\n",
       "      <td>Yvette Biti</td>\n",
       "      <td>Low</td>\n",
       "      <td>Smiths Metal Binder Clips</td>\n",
       "      <td>Technology</td>\n",
       "      <td>...</td>\n",
       "      <td>1.40</td>\n",
       "      <td>13.10</td>\n",
       "      <td>0.80</td>\n",
       "      <td>60.41</td>\n",
       "      <td>63.7</td>\n",
       "      <td>5.10</td>\n",
       "      <td>2</td>\n",
       "      <td>2015</td>\n",
       "      <td>2015-01</td>\n",
       "      <td>Friday</td>\n",
       "    </tr>\n",
       "    <tr>\n",
       "      <th>3841</th>\n",
       "      <td>6260-1</td>\n",
       "      <td>2016-04-11</td>\n",
       "      <td>Corey Lock</td>\n",
       "      <td>Sydney</td>\n",
       "      <td>NSW</td>\n",
       "      <td>Consumer</td>\n",
       "      <td>Nicholas Fernandes</td>\n",
       "      <td>High</td>\n",
       "      <td>Colored Push Pins</td>\n",
       "      <td>Office Supplies</td>\n",
       "      <td>...</td>\n",
       "      <td>3.58</td>\n",
       "      <td>16.29</td>\n",
       "      <td>1.56</td>\n",
       "      <td>37.80</td>\n",
       "      <td>96.7</td>\n",
       "      <td>8.01</td>\n",
       "      <td>1</td>\n",
       "      <td>2016</td>\n",
       "      <td>2016-04</td>\n",
       "      <td>Monday</td>\n",
       "    </tr>\n",
       "  </tbody>\n",
       "</table>\n",
       "<p>5 rows × 29 columns</p>\n",
       "</div>"
      ],
      "text/plain": [
       "     Order No Order Date    Customer Name       City State   Customer Type  \\\n",
       "1795   5551-1 2014-07-12     Raymond Book     Sydney   NSW       Corporate   \n",
       "3424   6143-1 2013-10-05     Neil Knudson     Sydney   NSW       Corporate   \n",
       "1455   5439-1 2014-03-13    Dennis Pardue  Melbourne   VIC  Small Business   \n",
       "1837   5562-1 2015-01-09  Katrina Willman  Melbourne   VIC     Home Office   \n",
       "3841   6260-1 2016-04-11       Corey Lock     Sydney   NSW        Consumer   \n",
       "\n",
       "         Account Manager Order Priority  \\\n",
       "1795         Mihael Khan         Medium   \n",
       "3424        Tina Carlton           High   \n",
       "1455        Connor Betts  Not Specified   \n",
       "1837         Yvette Biti            Low   \n",
       "3841  Nicholas Fernandes           High   \n",
       "\n",
       "                                     Product Name Product Category  ...  \\\n",
       "1795  Artisan Reinforcements for Hole-Punch Pages       Technology  ...   \n",
       "3424         Beekin 6 Outlet Metallic Surge Strip  Office Supplies  ...   \n",
       "1455             Steady Major Accent Highlighters  Office Supplies  ...   \n",
       "1837                    Smiths Metal Binder Clips       Technology  ...   \n",
       "3841                            Colored Push Pins  Office Supplies  ...   \n",
       "\n",
       "     Discount $ Order Total Shipping Cost   Total  Profit Percentage (%)  \\\n",
       "1795       0.00       89.08          4.77   59.40                   66.4   \n",
       "3424      26.35      472.16          4.50  248.75                  144.2   \n",
       "1455       7.22      265.04          2.35  235.85                   88.8   \n",
       "1837       1.40       13.10          0.80   60.41                   63.7   \n",
       "3841       3.58       16.29          1.56   37.80                   96.7   \n",
       "\n",
       "      Total Profit  ProcessingTime  Order Year  Order Month  Order Weekday  \n",
       "1795         36.34               2        2014      2014-07       Saturday  \n",
       "3424        282.92               2        2013      2013-10       Saturday  \n",
       "1455        126.54               0        2014      2014-03       Thursday  \n",
       "1837          5.10               2        2015      2015-01         Friday  \n",
       "3841          8.01               1        2016      2016-04         Monday  \n",
       "\n",
       "[5 rows x 29 columns]"
      ]
     },
     "execution_count": 60,
     "metadata": {},
     "output_type": "execute_result"
    }
   ],
   "source": [
    "df.sample(5)"
   ]
  },
  {
   "cell_type": "markdown",
   "id": "3c1a2af2",
   "metadata": {},
   "source": [
    "___"
   ]
  },
  {
   "cell_type": "markdown",
   "id": "f018ddd6",
   "metadata": {},
   "source": [
    "### deleted negetive processing time rows"
   ]
  },
  {
   "cell_type": "code",
   "execution_count": 61,
   "id": "c22ab723",
   "metadata": {},
   "outputs": [
    {
     "data": {
      "text/html": [
       "<div>\n",
       "<style scoped>\n",
       "    .dataframe tbody tr th:only-of-type {\n",
       "        vertical-align: middle;\n",
       "    }\n",
       "\n",
       "    .dataframe tbody tr th {\n",
       "        vertical-align: top;\n",
       "    }\n",
       "\n",
       "    .dataframe thead th {\n",
       "        text-align: right;\n",
       "    }\n",
       "</style>\n",
       "<table border=\"1\" class=\"dataframe\">\n",
       "  <thead>\n",
       "    <tr style=\"text-align: right;\">\n",
       "      <th></th>\n",
       "      <th>Order No</th>\n",
       "      <th>Order Date</th>\n",
       "      <th>Customer Name</th>\n",
       "      <th>City</th>\n",
       "      <th>State</th>\n",
       "      <th>Customer Type</th>\n",
       "      <th>Account Manager</th>\n",
       "      <th>Order Priority</th>\n",
       "      <th>Product Name</th>\n",
       "      <th>Product Category</th>\n",
       "      <th>...</th>\n",
       "      <th>Discount $</th>\n",
       "      <th>Order Total</th>\n",
       "      <th>Shipping Cost</th>\n",
       "      <th>Total</th>\n",
       "      <th>Profit Percentage (%)</th>\n",
       "      <th>Total Profit</th>\n",
       "      <th>ProcessingTime</th>\n",
       "      <th>Order Year</th>\n",
       "      <th>Order Month</th>\n",
       "      <th>Order Weekday</th>\n",
       "    </tr>\n",
       "  </thead>\n",
       "  <tbody>\n",
       "  </tbody>\n",
       "</table>\n",
       "<p>0 rows × 29 columns</p>\n",
       "</div>"
      ],
      "text/plain": [
       "Empty DataFrame\n",
       "Columns: [Order No, Order Date, Customer Name, City, State, Customer Type, Account Manager, Order Priority, Product Name, Product Category, Product Container, Ship Mode, Ship Date, Cost Price, Retail Price, Profit Margin, Order Quantity, Sub Total, Discount %, Discount $, Order Total, Shipping Cost, Total, Profit Percentage (%), Total Profit, ProcessingTime, Order Year, Order Month, Order Weekday]\n",
       "Index: []\n",
       "\n",
       "[0 rows x 29 columns]"
      ]
     },
     "execution_count": 61,
     "metadata": {},
     "output_type": "execute_result"
    }
   ],
   "source": [
    "df[(df[\"ProcessingTime\"] < 0)]\n"
   ]
  },
  {
   "cell_type": "code",
   "execution_count": 62,
   "id": "b5acc7b2",
   "metadata": {},
   "outputs": [],
   "source": [
    "df.drop(df[df[\"ProcessingTime\"] < 0].index, inplace=True)\n",
    "\n"
   ]
  },
  {
   "cell_type": "code",
   "execution_count": 63,
   "id": "f9c37c3c",
   "metadata": {},
   "outputs": [
    {
     "data": {
      "text/html": [
       "<div>\n",
       "<style scoped>\n",
       "    .dataframe tbody tr th:only-of-type {\n",
       "        vertical-align: middle;\n",
       "    }\n",
       "\n",
       "    .dataframe tbody tr th {\n",
       "        vertical-align: top;\n",
       "    }\n",
       "\n",
       "    .dataframe thead th {\n",
       "        text-align: right;\n",
       "    }\n",
       "</style>\n",
       "<table border=\"1\" class=\"dataframe\">\n",
       "  <thead>\n",
       "    <tr style=\"text-align: right;\">\n",
       "      <th></th>\n",
       "      <th>Order No</th>\n",
       "      <th>Order Date</th>\n",
       "      <th>Customer Name</th>\n",
       "      <th>City</th>\n",
       "      <th>State</th>\n",
       "      <th>Customer Type</th>\n",
       "      <th>Account Manager</th>\n",
       "      <th>Order Priority</th>\n",
       "      <th>Product Name</th>\n",
       "      <th>Product Category</th>\n",
       "      <th>...</th>\n",
       "      <th>Discount $</th>\n",
       "      <th>Order Total</th>\n",
       "      <th>Shipping Cost</th>\n",
       "      <th>Total</th>\n",
       "      <th>Profit Percentage (%)</th>\n",
       "      <th>Total Profit</th>\n",
       "      <th>ProcessingTime</th>\n",
       "      <th>Order Year</th>\n",
       "      <th>Order Month</th>\n",
       "      <th>Order Weekday</th>\n",
       "    </tr>\n",
       "  </thead>\n",
       "  <tbody>\n",
       "  </tbody>\n",
       "</table>\n",
       "<p>0 rows × 29 columns</p>\n",
       "</div>"
      ],
      "text/plain": [
       "Empty DataFrame\n",
       "Columns: [Order No, Order Date, Customer Name, City, State, Customer Type, Account Manager, Order Priority, Product Name, Product Category, Product Container, Ship Mode, Ship Date, Cost Price, Retail Price, Profit Margin, Order Quantity, Sub Total, Discount %, Discount $, Order Total, Shipping Cost, Total, Profit Percentage (%), Total Profit, ProcessingTime, Order Year, Order Month, Order Weekday]\n",
       "Index: []\n",
       "\n",
       "[0 rows x 29 columns]"
      ]
     },
     "execution_count": 63,
     "metadata": {},
     "output_type": "execute_result"
    }
   ],
   "source": [
    "df[(df[\"ProcessingTime\"] < 0)]"
   ]
  },
  {
   "cell_type": "code",
   "execution_count": 64,
   "id": "91e5e057",
   "metadata": {},
   "outputs": [
    {
     "data": {
      "text/plain": [
       "(3393, 29)"
      ]
     },
     "execution_count": 64,
     "metadata": {},
     "output_type": "execute_result"
    }
   ],
   "source": [
    "df.shape"
   ]
  },
  {
   "cell_type": "markdown",
   "id": "6f3a1476",
   "metadata": {},
   "source": [
    "___"
   ]
  },
  {
   "cell_type": "markdown",
   "id": "fb6d05c3",
   "metadata": {},
   "source": [
    "### Diagnostic/Exploratory"
   ]
  },
  {
   "cell_type": "code",
   "execution_count": 65,
   "id": "df55854a",
   "metadata": {},
   "outputs": [
    {
     "data": {
      "text/html": [
       "<div>\n",
       "<style scoped>\n",
       "    .dataframe tbody tr th:only-of-type {\n",
       "        vertical-align: middle;\n",
       "    }\n",
       "\n",
       "    .dataframe tbody tr th {\n",
       "        vertical-align: top;\n",
       "    }\n",
       "\n",
       "    .dataframe thead th {\n",
       "        text-align: right;\n",
       "    }\n",
       "</style>\n",
       "<table border=\"1\" class=\"dataframe\">\n",
       "  <thead>\n",
       "    <tr style=\"text-align: right;\">\n",
       "      <th></th>\n",
       "      <th>Order Total</th>\n",
       "      <th>Total Profit</th>\n",
       "      <th>Orders</th>\n",
       "      <th>Profit Percentage (%)</th>\n",
       "    </tr>\n",
       "    <tr>\n",
       "      <th>State</th>\n",
       "      <th></th>\n",
       "      <th></th>\n",
       "      <th></th>\n",
       "      <th></th>\n",
       "    </tr>\n",
       "  </thead>\n",
       "  <tbody>\n",
       "    <tr>\n",
       "      <th>NSW</th>\n",
       "      <td>413914.30</td>\n",
       "      <td>196418.95</td>\n",
       "      <td>2394</td>\n",
       "      <td>83.30</td>\n",
       "    </tr>\n",
       "    <tr>\n",
       "      <th>VIC</th>\n",
       "      <td>174480.38</td>\n",
       "      <td>81461.39</td>\n",
       "      <td>999</td>\n",
       "      <td>81.43</td>\n",
       "    </tr>\n",
       "  </tbody>\n",
       "</table>\n",
       "</div>"
      ],
      "text/plain": [
       "       Order Total  Total Profit  Orders  Profit Percentage (%)\n",
       "State                                                          \n",
       "NSW      413914.30     196418.95    2394                  83.30\n",
       "VIC      174480.38      81461.39     999                  81.43"
      ]
     },
     "execution_count": 65,
     "metadata": {},
     "output_type": "execute_result"
    }
   ],
   "source": [
    "# فروش و سود بر حسب State\n",
    "state_summary = df.groupby('State').agg({\n",
    "    'Order Total': 'sum',\n",
    "    'Total Profit': 'sum',\n",
    "    'Order No': 'count',\n",
    "    \"Profit Percentage (%)\": \"mean\"  \n",
    "}).rename(columns={'Order No': 'Orders'})\n",
    "\n",
    "state_summary.sort_values('Order Total', ascending=False).head(10).round(2)"
   ]
  },
  {
   "cell_type": "markdown",
   "id": "4547c052",
   "metadata": {},
   "source": [
    "ایالت‌های نیو ساوث ویلز و ویکتوریا به‌ترتیب بیشترین فروش کل و سود کل را دارند. نیو ساوث ویلز حدود ۲/۴ برابر ویکتوریا سفارش بیشتری دارد، اما درصد سودآوری هر دو ایالت تقریباً یکسان است (۸۳٪ در مقابل ۸۱٪). این یعنی ویکتوریا با حجم فروش کمتر، سودآوری بسیار خوبی دارد. بنابراین، سرمایه‌گذاری بیشتر در ویکتوریا می‌تواند رشد قابل توجهی در سود کل ایجاد کند."
   ]
  },
  {
   "cell_type": "code",
   "execution_count": 66,
   "id": "2ad020fd",
   "metadata": {},
   "outputs": [
    {
     "data": {
      "text/html": [
       "<div>\n",
       "<style scoped>\n",
       "    .dataframe tbody tr th:only-of-type {\n",
       "        vertical-align: middle;\n",
       "    }\n",
       "\n",
       "    .dataframe tbody tr th {\n",
       "        vertical-align: top;\n",
       "    }\n",
       "\n",
       "    .dataframe thead th {\n",
       "        text-align: right;\n",
       "    }\n",
       "</style>\n",
       "<table border=\"1\" class=\"dataframe\">\n",
       "  <thead>\n",
       "    <tr style=\"text-align: right;\">\n",
       "      <th></th>\n",
       "      <th>Order Quantity</th>\n",
       "      <th>Total Profit</th>\n",
       "      <th>Order Total</th>\n",
       "    </tr>\n",
       "    <tr>\n",
       "      <th>Product Name</th>\n",
       "      <th></th>\n",
       "      <th></th>\n",
       "      <th></th>\n",
       "    </tr>\n",
       "  </thead>\n",
       "  <tbody>\n",
       "    <tr>\n",
       "      <th>Beekin 105-Key Black Keyboard</th>\n",
       "      <td>1194</td>\n",
       "      <td>16226.46</td>\n",
       "      <td>23647.12</td>\n",
       "    </tr>\n",
       "    <tr>\n",
       "      <th>Artisan Flip-Chart Easel Binder, Black</th>\n",
       "      <td>1739</td>\n",
       "      <td>14781.50</td>\n",
       "      <td>38633.82</td>\n",
       "    </tr>\n",
       "    <tr>\n",
       "      <th>1726 Digital Answering Machine</th>\n",
       "      <td>1138</td>\n",
       "      <td>13849.46</td>\n",
       "      <td>23698.62</td>\n",
       "    </tr>\n",
       "    <tr>\n",
       "      <th>Apex Straight Scissors</th>\n",
       "      <td>1476</td>\n",
       "      <td>11500.04</td>\n",
       "      <td>18858.48</td>\n",
       "    </tr>\n",
       "    <tr>\n",
       "      <th>Smiths SlimLine Pencil Sharpener</th>\n",
       "      <td>1455</td>\n",
       "      <td>10446.90</td>\n",
       "      <td>17159.35</td>\n",
       "    </tr>\n",
       "    <tr>\n",
       "      <th>Apex Preferred Stainless Steel Scissors</th>\n",
       "      <td>2580</td>\n",
       "      <td>8204.40</td>\n",
       "      <td>14178.40</td>\n",
       "    </tr>\n",
       "    <tr>\n",
       "      <th>Apex Box Cutter Scissors</th>\n",
       "      <td>1354</td>\n",
       "      <td>8178.16</td>\n",
       "      <td>13619.42</td>\n",
       "    </tr>\n",
       "    <tr>\n",
       "      <th>PastelOcean Color Pencil Set</th>\n",
       "      <td>917</td>\n",
       "      <td>8005.41</td>\n",
       "      <td>18063.28</td>\n",
       "    </tr>\n",
       "    <tr>\n",
       "      <th>TechSavi Access Keyboard</th>\n",
       "      <td>1249</td>\n",
       "      <td>7869.11</td>\n",
       "      <td>19726.02</td>\n",
       "    </tr>\n",
       "    <tr>\n",
       "      <th>Alto Perma 2700 Stacking Storage Drawers</th>\n",
       "      <td>373</td>\n",
       "      <td>7368.57</td>\n",
       "      <td>10452.70</td>\n",
       "    </tr>\n",
       "  </tbody>\n",
       "</table>\n",
       "</div>"
      ],
      "text/plain": [
       "                                          Order Quantity  Total Profit  \\\n",
       "Product Name                                                             \n",
       "Beekin 105-Key Black Keyboard                       1194      16226.46   \n",
       "Artisan Flip-Chart Easel Binder, Black              1739      14781.50   \n",
       "1726 Digital Answering Machine                      1138      13849.46   \n",
       "Apex Straight Scissors                              1476      11500.04   \n",
       "Smiths SlimLine Pencil Sharpener                    1455      10446.90   \n",
       "Apex Preferred Stainless Steel Scissors             2580       8204.40   \n",
       "Apex Box Cutter Scissors                            1354       8178.16   \n",
       "PastelOcean Color Pencil Set                         917       8005.41   \n",
       "TechSavi Access Keyboard                            1249       7869.11   \n",
       "Alto Perma 2700 Stacking Storage Drawers             373       7368.57   \n",
       "\n",
       "                                          Order Total  \n",
       "Product Name                                           \n",
       "Beekin 105-Key Black Keyboard                23647.12  \n",
       "Artisan Flip-Chart Easel Binder, Black       38633.82  \n",
       "1726 Digital Answering Machine               23698.62  \n",
       "Apex Straight Scissors                       18858.48  \n",
       "Smiths SlimLine Pencil Sharpener             17159.35  \n",
       "Apex Preferred Stainless Steel Scissors      14178.40  \n",
       "Apex Box Cutter Scissors                     13619.42  \n",
       "PastelOcean Color Pencil Set                 18063.28  \n",
       "TechSavi Access Keyboard                     19726.02  \n",
       "Alto Perma 2700 Stacking Storage Drawers     10452.70  "
      ]
     },
     "execution_count": 66,
     "metadata": {},
     "output_type": "execute_result"
    }
   ],
   "source": [
    "df.groupby('Product Name').agg({'Order Quantity':'sum','Total Profit':'sum','Order Total':'sum'}).sort_values('Total Profit', ascending=False).head(10)\n",
    "\n",
    "# محصولات پر فروش بر حسب سود "
   ]
  },
  {
   "cell_type": "markdown",
   "id": "d7243f23",
   "metadata": {},
   "source": [
    "بیشتر سود شرکت از تعداد محدودی از محصولات به‌دست می‌آید که فروش و قیمت بالایی دارند. این تمرکز سود می‌تواند خطرناک باشد، زیرا کاهش تقاضا یا مشکل در عرضه‌ی این چند محصول، به‌طور مستقیم سود کل شرکت را تحت‌تأثیر قرار می‌دهد. پیشنهاد می‌شود سبد محصولات متنوع‌تر شود تا ریسک وابستگی کاهش یابد."
   ]
  },
  {
   "cell_type": "code",
   "execution_count": 67,
   "id": "28ef01e5",
   "metadata": {},
   "outputs": [
    {
     "data": {
      "text/html": [
       "<div>\n",
       "<style scoped>\n",
       "    .dataframe tbody tr th:only-of-type {\n",
       "        vertical-align: middle;\n",
       "    }\n",
       "\n",
       "    .dataframe tbody tr th {\n",
       "        vertical-align: top;\n",
       "    }\n",
       "\n",
       "    .dataframe thead th {\n",
       "        text-align: right;\n",
       "    }\n",
       "</style>\n",
       "<table border=\"1\" class=\"dataframe\">\n",
       "  <thead>\n",
       "    <tr style=\"text-align: right;\">\n",
       "      <th></th>\n",
       "      <th>Order Quantity</th>\n",
       "      <th>Total Profit</th>\n",
       "      <th>Order Total</th>\n",
       "    </tr>\n",
       "    <tr>\n",
       "      <th>Product Name</th>\n",
       "      <th></th>\n",
       "      <th></th>\n",
       "      <th></th>\n",
       "    </tr>\n",
       "  </thead>\n",
       "  <tbody>\n",
       "    <tr>\n",
       "      <th>Artisan 474 Labels</th>\n",
       "      <td>2998</td>\n",
       "      <td>3117.92</td>\n",
       "      <td>8065.24</td>\n",
       "    </tr>\n",
       "    <tr>\n",
       "      <th>Smiths General Use 3-Ring Binders</th>\n",
       "      <td>2941</td>\n",
       "      <td>2058.70</td>\n",
       "      <td>5001.08</td>\n",
       "    </tr>\n",
       "    <tr>\n",
       "      <th>Artisan 479 Labels</th>\n",
       "      <td>2744</td>\n",
       "      <td>2798.88</td>\n",
       "      <td>6636.84</td>\n",
       "    </tr>\n",
       "    <tr>\n",
       "      <th>Artisan 481 Labels</th>\n",
       "      <td>2728</td>\n",
       "      <td>3109.92</td>\n",
       "      <td>7913.24</td>\n",
       "    </tr>\n",
       "    <tr>\n",
       "      <th>Apex Preferred Stainless Steel Scissors</th>\n",
       "      <td>2580</td>\n",
       "      <td>8204.40</td>\n",
       "      <td>14178.40</td>\n",
       "    </tr>\n",
       "    <tr>\n",
       "      <th>Alto Memo Cubes</th>\n",
       "      <td>2539</td>\n",
       "      <td>4722.54</td>\n",
       "      <td>12626.02</td>\n",
       "    </tr>\n",
       "    <tr>\n",
       "      <th>Smiths Metal Binder Clips</th>\n",
       "      <td>2433</td>\n",
       "      <td>2481.66</td>\n",
       "      <td>5983.46</td>\n",
       "    </tr>\n",
       "    <tr>\n",
       "      <th>Artisan Hanging File Binders</th>\n",
       "      <td>2381</td>\n",
       "      <td>5547.73</td>\n",
       "      <td>13815.38</td>\n",
       "    </tr>\n",
       "    <tr>\n",
       "      <th>Pizazz Drawing Pencil Set</th>\n",
       "      <td>2022</td>\n",
       "      <td>2567.82</td>\n",
       "      <td>5206.16</td>\n",
       "    </tr>\n",
       "    <tr>\n",
       "      <th>Steady Liquid Accent Tank-Style Highlighters</th>\n",
       "      <td>1951</td>\n",
       "      <td>2985.03</td>\n",
       "      <td>5140.84</td>\n",
       "    </tr>\n",
       "  </tbody>\n",
       "</table>\n",
       "</div>"
      ],
      "text/plain": [
       "                                              Order Quantity  Total Profit  \\\n",
       "Product Name                                                                 \n",
       "Artisan 474 Labels                                      2998       3117.92   \n",
       "Smiths General Use 3-Ring Binders                       2941       2058.70   \n",
       "Artisan 479 Labels                                      2744       2798.88   \n",
       "Artisan 481 Labels                                      2728       3109.92   \n",
       "Apex Preferred Stainless Steel Scissors                 2580       8204.40   \n",
       "Alto Memo Cubes                                         2539       4722.54   \n",
       "Smiths Metal Binder Clips                               2433       2481.66   \n",
       "Artisan Hanging File Binders                            2381       5547.73   \n",
       "Pizazz Drawing Pencil Set                               2022       2567.82   \n",
       "Steady Liquid Accent Tank-Style Highlighters            1951       2985.03   \n",
       "\n",
       "                                              Order Total  \n",
       "Product Name                                               \n",
       "Artisan 474 Labels                                8065.24  \n",
       "Smiths General Use 3-Ring Binders                 5001.08  \n",
       "Artisan 479 Labels                                6636.84  \n",
       "Artisan 481 Labels                                7913.24  \n",
       "Apex Preferred Stainless Steel Scissors          14178.40  \n",
       "Alto Memo Cubes                                  12626.02  \n",
       "Smiths Metal Binder Clips                         5983.46  \n",
       "Artisan Hanging File Binders                     13815.38  \n",
       "Pizazz Drawing Pencil Set                         5206.16  \n",
       "Steady Liquid Accent Tank-Style Highlighters      5140.84  "
      ]
     },
     "execution_count": 67,
     "metadata": {},
     "output_type": "execute_result"
    }
   ],
   "source": [
    "df.groupby('Product Name').agg({'Order Quantity':'sum','Total Profit':'sum','Order Total':'sum'}).sort_values('Order Quantity', ascending=False).head(10)\n",
    "\n",
    "# محصولات پر فروش بر حسب تعداد فروش "
   ]
  },
  {
   "cell_type": "markdown",
   "id": "5d93b64e",
   "metadata": {},
   "source": [
    "این گروه محصولات ستون فقرات حجم فروش هستند،\n",
    "\n",
    "اما اگر هزینه حمل‌ونقل یا تخفیف زیاد شود، ممکن است حتی به زیان برسند.\n",
    "\n",
    "برای سود بیشتر باید یا قیمت را کمی افزایش داد یا هزینه توزیع را کم کرد."
   ]
  },
  {
   "cell_type": "code",
   "execution_count": 68,
   "id": "179f2af1",
   "metadata": {},
   "outputs": [
    {
     "data": {
      "text/html": [
       "<div>\n",
       "<style scoped>\n",
       "    .dataframe tbody tr th:only-of-type {\n",
       "        vertical-align: middle;\n",
       "    }\n",
       "\n",
       "    .dataframe tbody tr th {\n",
       "        vertical-align: top;\n",
       "    }\n",
       "\n",
       "    .dataframe thead th {\n",
       "        text-align: right;\n",
       "    }\n",
       "</style>\n",
       "<table border=\"1\" class=\"dataframe\">\n",
       "  <thead>\n",
       "    <tr style=\"text-align: right;\">\n",
       "      <th></th>\n",
       "      <th>Order Quantity</th>\n",
       "      <th>Total Profit</th>\n",
       "      <th>Profit_per_Unit</th>\n",
       "    </tr>\n",
       "    <tr>\n",
       "      <th>Product Name</th>\n",
       "      <th></th>\n",
       "      <th></th>\n",
       "      <th></th>\n",
       "    </tr>\n",
       "  </thead>\n",
       "  <tbody>\n",
       "    <tr>\n",
       "      <th>Alto Perma 3000 Stacking Storage Drawers</th>\n",
       "      <td>134</td>\n",
       "      <td>2720.18</td>\n",
       "      <td>20.30</td>\n",
       "    </tr>\n",
       "    <tr>\n",
       "      <th>Multi-Use Personal File Cart and Caster Set, Three Stacking Bins</th>\n",
       "      <td>62</td>\n",
       "      <td>1228.22</td>\n",
       "      <td>19.81</td>\n",
       "    </tr>\n",
       "    <tr>\n",
       "      <th>Alto Perma 2700 Stacking Storage Drawers</th>\n",
       "      <td>373</td>\n",
       "      <td>7368.57</td>\n",
       "      <td>19.75</td>\n",
       "    </tr>\n",
       "    <tr>\n",
       "      <th>TechSavi Cordless Keyboard</th>\n",
       "      <td>46</td>\n",
       "      <td>788.90</td>\n",
       "      <td>17.15</td>\n",
       "    </tr>\n",
       "    <tr>\n",
       "      <th>Smiths Premium Bright 1-Road , Risk Park</th>\n",
       "      <td>10</td>\n",
       "      <td>152.70</td>\n",
       "      <td>15.27</td>\n",
       "    </tr>\n",
       "    <tr>\n",
       "      <th>Laser DVD-RAM discs</th>\n",
       "      <td>183</td>\n",
       "      <td>2787.09</td>\n",
       "      <td>15.23</td>\n",
       "    </tr>\n",
       "    <tr>\n",
       "      <th>DrawIt Colored Pencils, 48-Color Set</th>\n",
       "      <td>455</td>\n",
       "      <td>6820.45</td>\n",
       "      <td>14.99</td>\n",
       "    </tr>\n",
       "    <tr>\n",
       "      <th>Amemy 3-Color Set</th>\n",
       "      <td>33</td>\n",
       "      <td>494.67</td>\n",
       "      <td>14.99</td>\n",
       "    </tr>\n",
       "    <tr>\n",
       "      <th>12 Colored Short</th>\n",
       "      <td>6</td>\n",
       "      <td>89.94</td>\n",
       "      <td>14.99</td>\n",
       "    </tr>\n",
       "    <tr>\n",
       "      <th>TypeRight  Top-Opening Peel &amp; Seel  Envelopes, Gray</th>\n",
       "      <td>76</td>\n",
       "      <td>1092.88</td>\n",
       "      <td>14.38</td>\n",
       "    </tr>\n",
       "  </tbody>\n",
       "</table>\n",
       "</div>"
      ],
      "text/plain": [
       "                                                    Order Quantity  \\\n",
       "Product Name                                                         \n",
       "Alto Perma 3000 Stacking Storage Drawers                       134   \n",
       "Multi-Use Personal File Cart and Caster Set, Th...              62   \n",
       "Alto Perma 2700 Stacking Storage Drawers                       373   \n",
       "TechSavi Cordless Keyboard                                      46   \n",
       "Smiths Premium Bright 1-Road , Risk Park                        10   \n",
       "Laser DVD-RAM discs                                            183   \n",
       "DrawIt Colored Pencils, 48-Color Set                           455   \n",
       "Amemy 3-Color Set                                               33   \n",
       "12 Colored Short                                                 6   \n",
       "TypeRight  Top-Opening Peel & Seel  Envelopes, ...              76   \n",
       "\n",
       "                                                    Total Profit  \\\n",
       "Product Name                                                       \n",
       "Alto Perma 3000 Stacking Storage Drawers                 2720.18   \n",
       "Multi-Use Personal File Cart and Caster Set, Th...       1228.22   \n",
       "Alto Perma 2700 Stacking Storage Drawers                 7368.57   \n",
       "TechSavi Cordless Keyboard                                788.90   \n",
       "Smiths Premium Bright 1-Road , Risk Park                  152.70   \n",
       "Laser DVD-RAM discs                                      2787.09   \n",
       "DrawIt Colored Pencils, 48-Color Set                     6820.45   \n",
       "Amemy 3-Color Set                                         494.67   \n",
       "12 Colored Short                                           89.94   \n",
       "TypeRight  Top-Opening Peel & Seel  Envelopes, ...       1092.88   \n",
       "\n",
       "                                                    Profit_per_Unit  \n",
       "Product Name                                                         \n",
       "Alto Perma 3000 Stacking Storage Drawers                      20.30  \n",
       "Multi-Use Personal File Cart and Caster Set, Th...            19.81  \n",
       "Alto Perma 2700 Stacking Storage Drawers                      19.75  \n",
       "TechSavi Cordless Keyboard                                    17.15  \n",
       "Smiths Premium Bright 1-Road , Risk Park                      15.27  \n",
       "Laser DVD-RAM discs                                           15.23  \n",
       "DrawIt Colored Pencils, 48-Color Set                          14.99  \n",
       "Amemy 3-Color Set                                             14.99  \n",
       "12 Colored Short                                              14.99  \n",
       "TypeRight  Top-Opening Peel & Seel  Envelopes, ...            14.38  "
      ]
     },
     "execution_count": 68,
     "metadata": {},
     "output_type": "execute_result"
    }
   ],
   "source": [
    "df.groupby('Product Name').agg({\n",
    "    'Order Quantity':'sum',\n",
    "    'Total Profit':'sum'\n",
    "}).assign(\n",
    "    Profit_per_Unit = lambda x: x['Total Profit'] / x['Order Quantity']\n",
    ").sort_values('Profit_per_Unit', ascending=False).head(10).round(2)\n",
    "\n",
    "# محصولات با بیشترین سود به ازای هر واحد فروخته شده"
   ]
  },
  {
   "cell_type": "markdown",
   "id": "57b3dd31",
   "metadata": {},
   "source": [
    "این محصولات باید هدف تبلیغات ویژه یا فروش بی2بی قرار گیرند.\n",
    "\n",
    "هر فروش‌شان ارزش زیادی دارد، پس حتی افزایش جزئی در تعداد فروش، سود کل را جهشی بالا می‌برد."
   ]
  },
  {
   "cell_type": "markdown",
   "id": "9976bd62",
   "metadata": {},
   "source": [
    "___"
   ]
  },
  {
   "cell_type": "code",
   "execution_count": 69,
   "id": "886ec408",
   "metadata": {},
   "outputs": [
    {
     "data": {
      "text/html": [
       "<div>\n",
       "<style scoped>\n",
       "    .dataframe tbody tr th:only-of-type {\n",
       "        vertical-align: middle;\n",
       "    }\n",
       "\n",
       "    .dataframe tbody tr th {\n",
       "        vertical-align: top;\n",
       "    }\n",
       "\n",
       "    .dataframe thead th {\n",
       "        text-align: right;\n",
       "    }\n",
       "</style>\n",
       "<table border=\"1\" class=\"dataframe\">\n",
       "  <thead>\n",
       "    <tr style=\"text-align: right;\">\n",
       "      <th></th>\n",
       "      <th>Order No</th>\n",
       "      <th>Order Date</th>\n",
       "      <th>Customer Name</th>\n",
       "      <th>City</th>\n",
       "      <th>State</th>\n",
       "      <th>Customer Type</th>\n",
       "      <th>Account Manager</th>\n",
       "      <th>Order Priority</th>\n",
       "      <th>Product Name</th>\n",
       "      <th>Product Category</th>\n",
       "      <th>...</th>\n",
       "      <th>Discount $</th>\n",
       "      <th>Order Total</th>\n",
       "      <th>Shipping Cost</th>\n",
       "      <th>Total</th>\n",
       "      <th>Profit Percentage (%)</th>\n",
       "      <th>Total Profit</th>\n",
       "      <th>ProcessingTime</th>\n",
       "      <th>Order Year</th>\n",
       "      <th>Order Month</th>\n",
       "      <th>Order Weekday</th>\n",
       "    </tr>\n",
       "  </thead>\n",
       "  <tbody>\n",
       "  </tbody>\n",
       "</table>\n",
       "<p>0 rows × 29 columns</p>\n",
       "</div>"
      ],
      "text/plain": [
       "Empty DataFrame\n",
       "Columns: [Order No, Order Date, Customer Name, City, State, Customer Type, Account Manager, Order Priority, Product Name, Product Category, Product Container, Ship Mode, Ship Date, Cost Price, Retail Price, Profit Margin, Order Quantity, Sub Total, Discount %, Discount $, Order Total, Shipping Cost, Total, Profit Percentage (%), Total Profit, ProcessingTime, Order Year, Order Month, Order Weekday]\n",
       "Index: []\n",
       "\n",
       "[0 rows x 29 columns]"
      ]
     },
     "execution_count": 69,
     "metadata": {},
     "output_type": "execute_result"
    }
   ],
   "source": [
    "df[df[\"Profit Margin\"] < 0 ]\n"
   ]
  },
  {
   "cell_type": "code",
   "execution_count": 70,
   "id": "718c9253",
   "metadata": {},
   "outputs": [
    {
     "data": {
      "text/plain": [
       "1246"
      ]
     },
     "execution_count": 70,
     "metadata": {},
     "output_type": "execute_result"
    }
   ],
   "source": [
    "df[\"Order No\"].nunique()"
   ]
  },
  {
   "cell_type": "code",
   "execution_count": 71,
   "id": "774e242a",
   "metadata": {},
   "outputs": [
    {
     "data": {
      "text/plain": [
       "Customer Name\n",
       "Michael Oakman            38\n",
       "Christina Vanderzanden    34\n",
       "Philip Brown              33\n",
       "Jeremy Pistek             31\n",
       "Roy Collins               29\n",
       "                          ..\n",
       "Bheck OBriant              1\n",
       "Eria McGuire               1\n",
       "Rick Zandusky              1\n",
       "Carlosder Meady            1\n",
       "Ken Danat                  1\n",
       "Name: count, Length: 668, dtype: int64"
      ]
     },
     "execution_count": 71,
     "metadata": {},
     "output_type": "execute_result"
    }
   ],
   "source": [
    "df[\"Customer Name\"].value_counts()"
   ]
  },
  {
   "cell_type": "markdown",
   "id": "11ce9cf8",
   "metadata": {},
   "source": [
    "___"
   ]
  },
  {
   "cell_type": "markdown",
   "id": "9c48dc9c",
   "metadata": {},
   "source": [
    "### corr"
   ]
  },
  {
   "cell_type": "code",
   "execution_count": 72,
   "id": "abf2c172",
   "metadata": {},
   "outputs": [
    {
     "data": {
      "text/html": [
       "<div>\n",
       "<style scoped>\n",
       "    .dataframe tbody tr th:only-of-type {\n",
       "        vertical-align: middle;\n",
       "    }\n",
       "\n",
       "    .dataframe tbody tr th {\n",
       "        vertical-align: top;\n",
       "    }\n",
       "\n",
       "    .dataframe thead th {\n",
       "        text-align: right;\n",
       "    }\n",
       "</style>\n",
       "<table border=\"1\" class=\"dataframe\">\n",
       "  <thead>\n",
       "    <tr style=\"text-align: right;\">\n",
       "      <th></th>\n",
       "      <th>count</th>\n",
       "      <th>mean</th>\n",
       "      <th>min</th>\n",
       "      <th>25%</th>\n",
       "      <th>50%</th>\n",
       "      <th>75%</th>\n",
       "      <th>max</th>\n",
       "      <th>std</th>\n",
       "    </tr>\n",
       "  </thead>\n",
       "  <tbody>\n",
       "    <tr>\n",
       "      <th>Order Date</th>\n",
       "      <td>3393</td>\n",
       "      <td>2015-02-11 15:35:48.541113856</td>\n",
       "      <td>2013-02-11 00:00:00</td>\n",
       "      <td>2014-01-23 00:00:00</td>\n",
       "      <td>2015-03-04 00:00:00</td>\n",
       "      <td>2016-02-10 00:00:00</td>\n",
       "      <td>2017-02-07 00:00:00</td>\n",
       "      <td>NaN</td>\n",
       "    </tr>\n",
       "    <tr>\n",
       "      <th>Ship Date</th>\n",
       "      <td>3393</td>\n",
       "      <td>2015-02-13 04:46:28.328912384</td>\n",
       "      <td>2013-02-12 00:00:00</td>\n",
       "      <td>2014-01-25 00:00:00</td>\n",
       "      <td>2015-03-06 00:00:00</td>\n",
       "      <td>2016-02-11 00:00:00</td>\n",
       "      <td>2017-02-07 00:00:00</td>\n",
       "      <td>NaN</td>\n",
       "    </tr>\n",
       "    <tr>\n",
       "      <th>Cost Price</th>\n",
       "      <td>3393.0</td>\n",
       "      <td>3.8</td>\n",
       "      <td>0.7</td>\n",
       "      <td>1.6</td>\n",
       "      <td>2.5</td>\n",
       "      <td>4.2</td>\n",
       "      <td>22.0</td>\n",
       "      <td>3.6</td>\n",
       "    </tr>\n",
       "    <tr>\n",
       "      <th>Retail Price</th>\n",
       "      <td>3393.0</td>\n",
       "      <td>7.0</td>\n",
       "      <td>1.1</td>\n",
       "      <td>2.9</td>\n",
       "      <td>4.8</td>\n",
       "      <td>7.3</td>\n",
       "      <td>45.0</td>\n",
       "      <td>6.7</td>\n",
       "    </tr>\n",
       "    <tr>\n",
       "      <th>Profit Margin</th>\n",
       "      <td>3393.0</td>\n",
       "      <td>3.2</td>\n",
       "      <td>0.4</td>\n",
       "      <td>1.1</td>\n",
       "      <td>1.9</td>\n",
       "      <td>3.3</td>\n",
       "      <td>20.8</td>\n",
       "      <td>3.5</td>\n",
       "    </tr>\n",
       "    <tr>\n",
       "      <th>Order Quantity</th>\n",
       "      <td>3393.0</td>\n",
       "      <td>26.4</td>\n",
       "      <td>1.0</td>\n",
       "      <td>13.0</td>\n",
       "      <td>27.0</td>\n",
       "      <td>39.0</td>\n",
       "      <td>50.0</td>\n",
       "      <td>14.2</td>\n",
       "    </tr>\n",
       "    <tr>\n",
       "      <th>Sub Total</th>\n",
       "      <td>3393.0</td>\n",
       "      <td>178.4</td>\n",
       "      <td>1.7</td>\n",
       "      <td>56.2</td>\n",
       "      <td>111.8</td>\n",
       "      <td>215.3</td>\n",
       "      <td>1206.2</td>\n",
       "      <td>200.3</td>\n",
       "    </tr>\n",
       "    <tr>\n",
       "      <th>Discount %</th>\n",
       "      <td>3393.0</td>\n",
       "      <td>5.0</td>\n",
       "      <td>0.0</td>\n",
       "      <td>2.0</td>\n",
       "      <td>5.0</td>\n",
       "      <td>8.0</td>\n",
       "      <td>10.0</td>\n",
       "      <td>3.2</td>\n",
       "    </tr>\n",
       "    <tr>\n",
       "      <th>Discount $</th>\n",
       "      <td>3393.0</td>\n",
       "      <td>7.6</td>\n",
       "      <td>0.0</td>\n",
       "      <td>1.9</td>\n",
       "      <td>4.4</td>\n",
       "      <td>9.6</td>\n",
       "      <td>52.0</td>\n",
       "      <td>9.4</td>\n",
       "    </tr>\n",
       "    <tr>\n",
       "      <th>Order Total</th>\n",
       "      <td>3393.0</td>\n",
       "      <td>173.4</td>\n",
       "      <td>0.0</td>\n",
       "      <td>49.7</td>\n",
       "      <td>107.8</td>\n",
       "      <td>210.4</td>\n",
       "      <td>1203.9</td>\n",
       "      <td>200.3</td>\n",
       "    </tr>\n",
       "    <tr>\n",
       "      <th>Shipping Cost</th>\n",
       "      <td>3393.0</td>\n",
       "      <td>3.2</td>\n",
       "      <td>0.5</td>\n",
       "      <td>1.0</td>\n",
       "      <td>1.9</td>\n",
       "      <td>4.8</td>\n",
       "      <td>15.1</td>\n",
       "      <td>3.1</td>\n",
       "    </tr>\n",
       "    <tr>\n",
       "      <th>Total</th>\n",
       "      <td>3393.0</td>\n",
       "      <td>158.4</td>\n",
       "      <td>2.8</td>\n",
       "      <td>54.0</td>\n",
       "      <td>112.9</td>\n",
       "      <td>213.4</td>\n",
       "      <td>1052.8</td>\n",
       "      <td>161.4</td>\n",
       "    </tr>\n",
       "    <tr>\n",
       "      <th>Profit Percentage (%)</th>\n",
       "      <td>3393.0</td>\n",
       "      <td>82.7</td>\n",
       "      <td>19.3</td>\n",
       "      <td>58.8</td>\n",
       "      <td>64.0</td>\n",
       "      <td>96.0</td>\n",
       "      <td>233.4</td>\n",
       "      <td>36.7</td>\n",
       "    </tr>\n",
       "    <tr>\n",
       "      <th>Total Profit</th>\n",
       "      <td>3393.0</td>\n",
       "      <td>81.9</td>\n",
       "      <td>0.6</td>\n",
       "      <td>22.6</td>\n",
       "      <td>46.0</td>\n",
       "      <td>91.5</td>\n",
       "      <td>625.1</td>\n",
       "      <td>101.3</td>\n",
       "    </tr>\n",
       "    <tr>\n",
       "      <th>ProcessingTime</th>\n",
       "      <td>3393.0</td>\n",
       "      <td>1.5</td>\n",
       "      <td>0.0</td>\n",
       "      <td>1.0</td>\n",
       "      <td>2.0</td>\n",
       "      <td>2.0</td>\n",
       "      <td>4.0</td>\n",
       "      <td>1.0</td>\n",
       "    </tr>\n",
       "    <tr>\n",
       "      <th>Order Year</th>\n",
       "      <td>3393.0</td>\n",
       "      <td>2014.6</td>\n",
       "      <td>2013.0</td>\n",
       "      <td>2014.0</td>\n",
       "      <td>2015.0</td>\n",
       "      <td>2016.0</td>\n",
       "      <td>2017.0</td>\n",
       "      <td>1.2</td>\n",
       "    </tr>\n",
       "  </tbody>\n",
       "</table>\n",
       "</div>"
      ],
      "text/plain": [
       "                        count                           mean  \\\n",
       "Order Date               3393  2015-02-11 15:35:48.541113856   \n",
       "Ship Date                3393  2015-02-13 04:46:28.328912384   \n",
       "Cost Price             3393.0                            3.8   \n",
       "Retail Price           3393.0                            7.0   \n",
       "Profit Margin          3393.0                            3.2   \n",
       "Order Quantity         3393.0                           26.4   \n",
       "Sub Total              3393.0                          178.4   \n",
       "Discount %             3393.0                            5.0   \n",
       "Discount $             3393.0                            7.6   \n",
       "Order Total            3393.0                          173.4   \n",
       "Shipping Cost          3393.0                            3.2   \n",
       "Total                  3393.0                          158.4   \n",
       "Profit Percentage (%)  3393.0                           82.7   \n",
       "Total Profit           3393.0                           81.9   \n",
       "ProcessingTime         3393.0                            1.5   \n",
       "Order Year             3393.0                         2014.6   \n",
       "\n",
       "                                       min                  25%  \\\n",
       "Order Date             2013-02-11 00:00:00  2014-01-23 00:00:00   \n",
       "Ship Date              2013-02-12 00:00:00  2014-01-25 00:00:00   \n",
       "Cost Price                             0.7                  1.6   \n",
       "Retail Price                           1.1                  2.9   \n",
       "Profit Margin                          0.4                  1.1   \n",
       "Order Quantity                         1.0                 13.0   \n",
       "Sub Total                              1.7                 56.2   \n",
       "Discount %                             0.0                  2.0   \n",
       "Discount $                             0.0                  1.9   \n",
       "Order Total                            0.0                 49.7   \n",
       "Shipping Cost                          0.5                  1.0   \n",
       "Total                                  2.8                 54.0   \n",
       "Profit Percentage (%)                 19.3                 58.8   \n",
       "Total Profit                           0.6                 22.6   \n",
       "ProcessingTime                         0.0                  1.0   \n",
       "Order Year                          2013.0               2014.0   \n",
       "\n",
       "                                       50%                  75%  \\\n",
       "Order Date             2015-03-04 00:00:00  2016-02-10 00:00:00   \n",
       "Ship Date              2015-03-06 00:00:00  2016-02-11 00:00:00   \n",
       "Cost Price                             2.5                  4.2   \n",
       "Retail Price                           4.8                  7.3   \n",
       "Profit Margin                          1.9                  3.3   \n",
       "Order Quantity                        27.0                 39.0   \n",
       "Sub Total                            111.8                215.3   \n",
       "Discount %                             5.0                  8.0   \n",
       "Discount $                             4.4                  9.6   \n",
       "Order Total                          107.8                210.4   \n",
       "Shipping Cost                          1.9                  4.8   \n",
       "Total                                112.9                213.4   \n",
       "Profit Percentage (%)                 64.0                 96.0   \n",
       "Total Profit                          46.0                 91.5   \n",
       "ProcessingTime                         2.0                  2.0   \n",
       "Order Year                          2015.0               2016.0   \n",
       "\n",
       "                                       max    std  \n",
       "Order Date             2017-02-07 00:00:00    NaN  \n",
       "Ship Date              2017-02-07 00:00:00    NaN  \n",
       "Cost Price                            22.0    3.6  \n",
       "Retail Price                          45.0    6.7  \n",
       "Profit Margin                         20.8    3.5  \n",
       "Order Quantity                        50.0   14.2  \n",
       "Sub Total                           1206.2  200.3  \n",
       "Discount %                            10.0    3.2  \n",
       "Discount $                            52.0    9.4  \n",
       "Order Total                         1203.9  200.3  \n",
       "Shipping Cost                         15.1    3.1  \n",
       "Total                               1052.8  161.4  \n",
       "Profit Percentage (%)                233.4   36.7  \n",
       "Total Profit                         625.1  101.3  \n",
       "ProcessingTime                         4.0    1.0  \n",
       "Order Year                          2017.0    1.2  "
      ]
     },
     "execution_count": 72,
     "metadata": {},
     "output_type": "execute_result"
    }
   ],
   "source": [
    "df.describe().round(1).T"
   ]
  },
  {
   "cell_type": "code",
   "execution_count": 73,
   "id": "725b847f",
   "metadata": {},
   "outputs": [
    {
     "data": {
      "image/png": "[encoded data removed]",
      "text/plain": [
       "<Figure size 800x600 with 2 Axes>"
      ]
     },
     "metadata": {},
     "output_type": "display_data"
    }
   ],
   "source": [
    "# محاسبه همبستگی (فقط ستون‌های عددی)\n",
    "corr_matrix = df.select_dtypes(include='float').corr()\n",
    "\n",
    "# ویژوالیزیشن\n",
    "plt.figure(figsize=(8, 6))\n",
    "sns.heatmap(corr_matrix, annot=True, cmap='coolwarm', fmt='.2f')\n",
    "plt.title('Correlation Heatmap')\n",
    "plt.show()"
   ]
  },
  {
   "cell_type": "code",
   "execution_count": 74,
   "id": "f335529a",
   "metadata": {},
   "outputs": [
    {
     "name": "stdout",
     "output_type": "stream",
     "text": [
      "ضریب همبستگی بین قیمت و سود: 0.73\n"
     ]
    }
   ],
   "source": [
    "corr = df['Retail Price'].corr(df['Total Profit'])\n",
    "print(f\"ضریب همبستگی بین قیمت و سود: {corr:.2f}\")\n"
   ]
  },
  {
   "cell_type": "markdown",
   "id": "9fe7df2b",
   "metadata": {},
   "source": [
    ".هر چه قیمت محصول بیشتر باشد، سود هم تقریباً به همان نسبت بیشتر می‌شود\n",
    "\n",
    ".تمرکز روی محصولات گران‌تر احتمالاً بازده بیشتری دارد\n",
    "\n",
    ".سیاست تخفیف یا کاهش قیمت در این بخش باید با احتیاط انجام شود، چون به‌شدت روی سود تأثیر دارد\n",
    "\n"
   ]
  },
  {
   "cell_type": "code",
   "execution_count": 75,
   "id": "768fe773",
   "metadata": {},
   "outputs": [
    {
     "name": "stdout",
     "output_type": "stream",
     "text": [
      "ضریب همبستگی بین تخفیف و تعداد سفارش: 0.04\n"
     ]
    }
   ],
   "source": [
    "corr = df['Discount %'].corr(df['Order Quantity'])\n",
    "print(f\"ضریب همبستگی بین تخفیف و تعداد سفارش: {corr:.2f}\")\n"
   ]
  },
  {
   "cell_type": "markdown",
   "id": "44b1e880",
   "metadata": {},
   "source": [
    "افزایش یا کاهش درصد تخفیف عملاً تأثیری روی تعداد سفارش‌ها نداشته.\n",
    "\n",
    "سیاست تخفیف فعلی اثربخش نیست؛ باید بازطراحی شود.\n",
    "\n",
    "بهتر است بررسی شود تخفیف روی چه گروهی از محصولات (یا مشتریان) تأثیر دارد — شاید اثرش فقط در بعضی دسته‌ها پنهان شده.\n"
   ]
  },
  {
   "cell_type": "markdown",
   "id": "71feeb20",
   "metadata": {},
   "source": [
    "___"
   ]
  },
  {
   "cell_type": "code",
   "execution_count": 76,
   "id": "8c0b2c0e",
   "metadata": {},
   "outputs": [
    {
     "data": {
      "text/html": [
       "<div>\n",
       "<style scoped>\n",
       "    .dataframe tbody tr th:only-of-type {\n",
       "        vertical-align: middle;\n",
       "    }\n",
       "\n",
       "    .dataframe tbody tr th {\n",
       "        vertical-align: top;\n",
       "    }\n",
       "\n",
       "    .dataframe thead th {\n",
       "        text-align: right;\n",
       "    }\n",
       "</style>\n",
       "<table border=\"1\" class=\"dataframe\">\n",
       "  <thead>\n",
       "    <tr style=\"text-align: right;\">\n",
       "      <th></th>\n",
       "      <th>Total Profit</th>\n",
       "      <th>Order Total</th>\n",
       "    </tr>\n",
       "    <tr>\n",
       "      <th>Account Manager</th>\n",
       "      <th></th>\n",
       "      <th></th>\n",
       "    </tr>\n",
       "  </thead>\n",
       "  <tbody>\n",
       "    <tr>\n",
       "      <th>Simantha Chairs</th>\n",
       "      <td>608.5</td>\n",
       "      <td>1040.5</td>\n",
       "    </tr>\n",
       "  </tbody>\n",
       "</table>\n",
       "</div>"
      ],
      "text/plain": [
       "                 Total Profit  Order Total\n",
       "Account Manager                           \n",
       "Simantha Chairs         608.5       1040.5"
      ]
     },
     "execution_count": 76,
     "metadata": {},
     "output_type": "execute_result"
    }
   ],
   "source": [
    "df.groupby('Account Manager')[['Total Profit', 'Order Total']].agg({\n",
    "    'Total Profit': 'mean',\n",
    "    'Order Total': 'sum'\n",
    "}).sort_values(by='Total Profit', ascending=False).round(2).head(1)"
   ]
  },
  {
   "cell_type": "code",
   "execution_count": 77,
   "id": "8df1112d",
   "metadata": {},
   "outputs": [
    {
     "data": {
      "text/html": [
       "<div>\n",
       "<style scoped>\n",
       "    .dataframe tbody tr th:only-of-type {\n",
       "        vertical-align: middle;\n",
       "    }\n",
       "\n",
       "    .dataframe tbody tr th {\n",
       "        vertical-align: top;\n",
       "    }\n",
       "\n",
       "    .dataframe thead th {\n",
       "        text-align: right;\n",
       "    }\n",
       "</style>\n",
       "<table border=\"1\" class=\"dataframe\">\n",
       "  <thead>\n",
       "    <tr style=\"text-align: right;\">\n",
       "      <th></th>\n",
       "      <th>Total Profit</th>\n",
       "      <th>Order Total</th>\n",
       "    </tr>\n",
       "    <tr>\n",
       "      <th>Account Manager</th>\n",
       "      <th></th>\n",
       "      <th></th>\n",
       "    </tr>\n",
       "  </thead>\n",
       "  <tbody>\n",
       "    <tr>\n",
       "      <th>Connor Betts</th>\n",
       "      <td>88.49</td>\n",
       "      <td>117936.16</td>\n",
       "    </tr>\n",
       "  </tbody>\n",
       "</table>\n",
       "</div>"
      ],
      "text/plain": [
       "                 Total Profit  Order Total\n",
       "Account Manager                           \n",
       "Connor Betts            88.49    117936.16"
      ]
     },
     "execution_count": 77,
     "metadata": {},
     "output_type": "execute_result"
    }
   ],
   "source": [
    "df.groupby('Account Manager')[['Total Profit', 'Order Total']].agg({\n",
    "    'Total Profit': 'mean',\n",
    "    'Order Total': 'sum'\n",
    "}).sort_values(by='Order Total', ascending=False).round(2).head(1)"
   ]
  },
  {
   "cell_type": "markdown",
   "id": "ede40465",
   "metadata": {},
   "source": [
    " بیشترین تعداد فروش یک منیجر: Connor Betts\n",
    "\n",
    "بیشترین میانگین سود یک منیجر: Simantha Chairs\t"
   ]
  },
  {
   "cell_type": "markdown",
   "id": "3d1e8bcc",
   "metadata": {},
   "source": [
    "___"
   ]
  },
  {
   "cell_type": "code",
   "execution_count": 78,
   "id": "60fbb465",
   "metadata": {},
   "outputs": [
    {
     "name": "stdout",
     "output_type": "stream",
     "text": [
      "City       State\n",
      "Sydney     NSW      373919.51\n",
      "Melbourne  VIC      163521.29\n",
      "Name: Total, dtype: float64\n"
     ]
    }
   ],
   "source": [
    "result = df.groupby(['City', 'State'])['Total'].sum().sort_values(ascending=False)\n",
    "print(result)"
   ]
  },
  {
   "cell_type": "markdown",
   "id": "009de663",
   "metadata": {},
   "source": [
    "___"
   ]
  },
  {
   "cell_type": "code",
   "execution_count": 79,
   "id": "e5c0452a",
   "metadata": {},
   "outputs": [
    {
     "data": {
      "text/plain": [
       "array(['Small Business', 'Home Office', 'Consumer', 'Corporate'],\n",
       "      dtype=object)"
      ]
     },
     "execution_count": 79,
     "metadata": {},
     "output_type": "execute_result"
    }
   ],
   "source": [
    "df[\"Customer Type\"].unique()"
   ]
  },
  {
   "cell_type": "code",
   "execution_count": 80,
   "id": "21b17448",
   "metadata": {},
   "outputs": [
    {
     "name": "stdout",
     "output_type": "stream",
     "text": [
      "                Profit Percentage (%)  Order Total\n",
      "Customer Type                                     \n",
      "Corporate                       83.97    200099.41\n",
      "Small Business                  83.53    134318.76\n",
      "Consumer                        82.06    110476.09\n",
      "Home Office                     80.70    143500.42\n"
     ]
    }
   ],
   "source": [
    "summary = df.groupby('Customer Type').agg({\n",
    "    'Profit Percentage (%)': 'mean',\n",
    "    'Order Total': 'sum'\n",
    "}).round(2).sort_values('Profit Percentage (%)', ascending=False)\n",
    "\n",
    "print(summary)"
   ]
  },
  {
   "cell_type": "markdown",
   "id": "8bf5932d",
   "metadata": {},
   "source": [
    " تحلیل:\n",
    "\n",
    "میانگین درصد سود در تمام گروه‌های مشتری نسبتاً بالا و پایدار است، اما مشتریان «شرکتی» بیشترین سود نسبی و مبلغ فروش را ایجاد کرده‌اند. این نشان می‌دهد که قراردادها یا سفارش‌های سازمانی برای شرکت سودآورتر از سایر بخش‌ها هستند. در مقابل، بخش «مصرف‌کننده» و «دفتر خانگی» با وجود حجم فروش قابل‌توجه، حاشیه سود پایین‌تری دارند.\n",
    "\n",
    " پیشنهاد:\n",
    " \n",
    "تمرکز بازاریابی و فروش می‌تواند بیشتر بر مشتریان شرکتی باشد تا این مزیت حفظ شود. همچنین بررسی دقیق ساختار قیمت‌گذاری در بخش‌های «مصرف‌کننده» و «دفتر خانگی» می‌تواند به بهبود حاشیه سود آن‌ها کمک کند — مثلاً با ارائه‌ی بسته‌های ترکیبی یا کاهش هزینه‌های ارسال."
   ]
  },
  {
   "cell_type": "markdown",
   "id": "df5d5542",
   "metadata": {},
   "source": [
    "___\n"
   ]
  },
  {
   "cell_type": "code",
   "execution_count": 81,
   "id": "22523db9",
   "metadata": {},
   "outputs": [
    {
     "name": "stdout",
     "output_type": "stream",
     "text": [
      "میانگین زمان پردازش بر اساس اولویت سفارش:\n",
      "  Order Priority  ProcessingTime\n",
      "0           High            1.51\n",
      "1  Not Specified            1.54\n",
      "2       Critical            1.55\n",
      "3            Low            1.56\n",
      "4         Medium            1.58\n",
      "\n",
      "میانگین زمان پردازش بر اساس نوع ارسال:\n",
      "        Ship Mode  ProcessingTime\n",
      "0     Express Air            1.51\n",
      "1     Regular Air            1.55\n",
      "2  Delivery Truck            1.57\n"
     ]
    }
   ],
   "source": [
    "# --- میانگین زمان پردازش بر اساس اولویت سفارش ---\n",
    "\n",
    "priority_time = (\n",
    "    df.groupby('Order Priority')['ProcessingTime']\n",
    "    .mean()\n",
    "    .sort_values()\n",
    "    .reset_index()\n",
    "    .round(2)\n",
    ")\n",
    "\n",
    "# --- میانگین زمان پردازش بر اساس نوع ارسال ---\n",
    "\n",
    "shipmode_time = (\n",
    "    df.groupby('Ship Mode')['ProcessingTime']\n",
    "    .mean()\n",
    "    .sort_values()\n",
    "    .reset_index()\n",
    "    .round(2)\n",
    "\n",
    ")\n",
    "\n",
    "# --- نمایش نتایج ---\n",
    "print(\"میانگین زمان پردازش بر اساس اولویت سفارش:\")\n",
    "print(priority_time)\n",
    "print(\"\\nمیانگین زمان پردازش بر اساس نوع ارسال:\")\n",
    "print(shipmode_time)"
   ]
  },
  {
   "cell_type": "markdown",
   "id": "0b4b6575",
   "metadata": {},
   "source": [
    " **تحلیل:**\n",
    " \n",
    "میانگین زمان پردازش سفارش‌ها تفاوت زیادی ندارد، اما الگوها نشان می‌دهد سفارش‌های با **اولویت بالا یا بحرانی** سریع‌تر از سایر سفارش‌ها پردازش می‌شوند. این موضوع نشان‌دهنده‌ی وجود یک سیستم پاسخ‌گویی مناسب به اولویت‌هاست. با این حال، زمان پردازش در سطح **اولویت متوسط و پایین** کمی بیشتر است که می‌تواند نشان‌دهنده‌ی تراکم کاری یا کمبود منابع در این بخش‌ها باشد.\n",
    "\n",
    "از نظر نوع ارسال، **حمل‌ونقل هوایی سریع (Express Air)** کوتاه‌ترین زمان پردازش را دارد، در حالی که **حمل‌ونقل عادی (Regular Air)** کمی کندتر است. این الگو با انتظار منطقی مطابقت دارد و بیانگر کارایی بیشتر در کانال‌های حمل سریع است.\n",
    "\n",
    " **پیشنهاد:**\n",
    "\n",
    "برای بهبود بهره‌وری کلی، می‌توان فرآیندهای سفارش‌های با اولویت پایین را بهینه‌سازی کرد تا اختلاف زمانی بین اولویت‌ها کاهش یابد. همچنین، در صورت صرفه‌اقتصادی، استفاده‌ی بیشتر از روش‌های ارسال سریع برای سفارش‌های حساس یا پرارزش می‌تواند رضایت مشتری و نرخ بازگشت را افزایش دهد.\n"
   ]
  },
  {
   "cell_type": "code",
   "execution_count": 82,
   "id": "a99f0910",
   "metadata": {},
   "outputs": [
    {
     "name": "stdout",
     "output_type": "stream",
     "text": [
      "میانگین هزینه ارسال بر اساس نوع ارسال:\n",
      "        Ship Mode  Shipping Cost\n",
      "0     Regular Air           3.20\n",
      "1     Express Air           3.20\n",
      "2  Delivery Truck           2.89\n"
     ]
    }
   ],
   "source": [
    "shipping_cost_by_mode = (\n",
    "    df.groupby('Ship Mode')['Shipping Cost']\n",
    "    .mean()\n",
    "    .sort_values(ascending=False)\n",
    "    .reset_index()\n",
    "    .round(2)\n",
    "\n",
    ")\n",
    "\n",
    "print(\"میانگین هزینه ارسال بر اساس نوع ارسال:\")\n",
    "print(shipping_cost_by_mode)"
   ]
  },
  {
   "cell_type": "markdown",
   "id": "f4c0c0f9",
   "metadata": {},
   "source": [
    " **نتیجه‌گیری:**\n",
    "\n",
    "میانگین زمان پردازش سفارش‌ها نشان می‌دهد که **سفارش‌های با اولویت بالا (High و Critical)** سریع‌تر از سایر سفارش‌ها پردازش می‌شوند و سفارش‌های با اولویت **Medium و Low** کمی زمان بیشتری می‌برند. از نظر نوع ارسال، **Express Air** سریع‌ترین پردازش را دارد و **Regular Air** و **Delivery Truck** کمی کندتر هستند، اما تفاوت‌ها نسبتاً کوچک است.\n",
    "\n",
    "در مقابل، **میانگین هزینه ارسال** نشان می‌دهد که **Express Air** و **Regular Air** کمی گران‌تر از **Delivery Truck** هستند و هزینه بالاتر با زمان پردازش کمتر همراه است.\n",
    "\n",
    " **پیشنهاد:**\n",
    "\n",
    "* سفارش‌های با ارزش و حساس به زمان، از **Express Air** استفاده شوند تا سرعت پردازش بالاتر و رضایت مشتری بیشتر شود.\n",
    "* سفارش‌های کم‌اهمیت یا کم‌ارزش، از **Delivery Truck** بهره‌مند شوند تا هزینه‌های ارسال کاهش یابد.\n",
    "* بررسی و بهینه‌سازی فرآیند سفارش‌های با اولویت **Medium و Low** می‌تواند زمان پردازش کلی را کاهش دهد و بهره‌وری را افزایش دهد.\n"
   ]
  },
  {
   "cell_type": "markdown",
   "id": "3df9df60",
   "metadata": {},
   "source": [
    "______"
   ]
  },
  {
   "cell_type": "code",
   "execution_count": 83,
   "id": "c9d55e84",
   "metadata": {},
   "outputs": [
    {
     "data": {
      "text/html": [
       "<div>\n",
       "<style scoped>\n",
       "    .dataframe tbody tr th:only-of-type {\n",
       "        vertical-align: middle;\n",
       "    }\n",
       "\n",
       "    .dataframe tbody tr th {\n",
       "        vertical-align: top;\n",
       "    }\n",
       "\n",
       "    .dataframe thead th {\n",
       "        text-align: right;\n",
       "    }\n",
       "</style>\n",
       "<table border=\"1\" class=\"dataframe\">\n",
       "  <thead>\n",
       "    <tr style=\"text-align: right;\">\n",
       "      <th></th>\n",
       "      <th>Profit Percentage (%)</th>\n",
       "      <th>Order Total</th>\n",
       "    </tr>\n",
       "    <tr>\n",
       "      <th>Product Category</th>\n",
       "      <th></th>\n",
       "      <th></th>\n",
       "    </tr>\n",
       "  </thead>\n",
       "  <tbody>\n",
       "    <tr>\n",
       "      <th>Furniture</th>\n",
       "      <td>85.18</td>\n",
       "      <td>18920.99</td>\n",
       "    </tr>\n",
       "    <tr>\n",
       "      <th>Office Supplies</th>\n",
       "      <td>82.74</td>\n",
       "      <td>469607.13</td>\n",
       "    </tr>\n",
       "    <tr>\n",
       "      <th>Technology</th>\n",
       "      <td>82.32</td>\n",
       "      <td>99866.56</td>\n",
       "    </tr>\n",
       "  </tbody>\n",
       "</table>\n",
       "</div>"
      ],
      "text/plain": [
       "                  Profit Percentage (%)  Order Total\n",
       "Product Category                                    \n",
       "Furniture                         85.18     18920.99\n",
       "Office Supplies                   82.74    469607.13\n",
       "Technology                        82.32     99866.56"
      ]
     },
     "execution_count": 83,
     "metadata": {},
     "output_type": "execute_result"
    }
   ],
   "source": [
    "df.groupby(\"Product Category\").agg({\n",
    "          \"Profit Percentage (%)\": \"mean\",\n",
    "          \"Order Total\": \"sum\"\n",
    "      }).sort_values(\"Profit Percentage (%)\", ascending=False).round(2)\n",
    "\n",
    "# دسته‌بندی محصولات بر حسب سود و فروش"
   ]
  },
  {
   "cell_type": "markdown",
   "id": "6e76dff7",
   "metadata": {},
   "source": [
    " **تحلیل:**\n",
    "\n",
    "بیشترین **درصد سود** مربوط به دسته محصولات **مبلمان** است، اگرچه **مبلغ فروش کل** آن نسبت به سایر دسته‌ها کمتر است. دسته **لوازم اداری** بیشترین **مجموع فروش** را دارد، اما درصد سود کمی پایین‌تر است. دسته **فناوری** هم ترکیبی از فروش مناسب و سود نسبی خوب دارد، اما سهم فروش آن کمتر از لوازم اداری است.\n",
    "\n",
    " **پیشنهاد:**\n",
    "\n",
    "* تمرکز روی **افزایش فروش مبلمان و فناوری** برای بهبود سود کلی.\n",
    "* بررسی قیمت‌گذاری و کاهش هزینه‌ها در **لوازم اداری** برای افزایش حاشیه سود.\n",
    "* حفظ تنوع محصول برای کاهش ریسک وابستگی به یک دسته خاص.\n"
   ]
  },
  {
   "cell_type": "code",
   "execution_count": 84,
   "id": "470a09d0",
   "metadata": {},
   "outputs": [
    {
     "data": {
      "text/html": [
       "<div>\n",
       "<style scoped>\n",
       "    .dataframe tbody tr th:only-of-type {\n",
       "        vertical-align: middle;\n",
       "    }\n",
       "\n",
       "    .dataframe tbody tr th {\n",
       "        vertical-align: top;\n",
       "    }\n",
       "\n",
       "    .dataframe thead th {\n",
       "        text-align: right;\n",
       "    }\n",
       "</style>\n",
       "<table border=\"1\" class=\"dataframe\">\n",
       "  <thead>\n",
       "    <tr style=\"text-align: right;\">\n",
       "      <th></th>\n",
       "      <th>Total Profit</th>\n",
       "      <th>Order Total</th>\n",
       "    </tr>\n",
       "    <tr>\n",
       "      <th>Customer Name</th>\n",
       "      <th></th>\n",
       "      <th></th>\n",
       "    </tr>\n",
       "  </thead>\n",
       "  <tbody>\n",
       "    <tr>\n",
       "      <th>Patrick OBrill</th>\n",
       "      <td>5059.70</td>\n",
       "      <td>9049.85</td>\n",
       "    </tr>\n",
       "    <tr>\n",
       "      <th>Roy Skaria</th>\n",
       "      <td>3798.20</td>\n",
       "      <td>8232.37</td>\n",
       "    </tr>\n",
       "    <tr>\n",
       "      <th>Christina Vanderzanden</th>\n",
       "      <td>3465.84</td>\n",
       "      <td>6640.43</td>\n",
       "    </tr>\n",
       "    <tr>\n",
       "      <th>Michael Oakman</th>\n",
       "      <td>2827.79</td>\n",
       "      <td>5928.27</td>\n",
       "    </tr>\n",
       "    <tr>\n",
       "      <th>Christopher Martinez</th>\n",
       "      <td>2790.26</td>\n",
       "      <td>5552.32</td>\n",
       "    </tr>\n",
       "  </tbody>\n",
       "</table>\n",
       "</div>"
      ],
      "text/plain": [
       "                        Total Profit  Order Total\n",
       "Customer Name                                    \n",
       "Patrick OBrill               5059.70      9049.85\n",
       "Roy Skaria                   3798.20      8232.37\n",
       "Christina Vanderzanden       3465.84      6640.43\n",
       "Michael Oakman               2827.79      5928.27\n",
       "Christopher Martinez         2790.26      5552.32"
      ]
     },
     "execution_count": 84,
     "metadata": {},
     "output_type": "execute_result"
    }
   ],
   "source": [
    "df.groupby(\"Customer Name\")[[\"Total Profit\", \"Order Total\"]].sum().sort_values(by=\"Total Profit\", ascending=False).head()\n",
    "\n",
    "# مشتریان برتر بر حسب سود"
   ]
  },
  {
   "cell_type": "markdown",
   "id": "e8075ce3",
   "metadata": {},
   "source": [
    " **تحلیل:**\n",
    "\n",
    "بیشترین **سود کل** مربوط به مشتری **پاتریک اوبرل** است که هم مبلغ سفارش بالایی دارد و هم سود مناسبی ایجاد کرده است. سایر مشتریان نیز با وجود فروش کمتر، سود قابل‌توجهی دارند، اما تفاوت سود بین مشتری اول و بقیه نشان می‌دهد که سود شرکت به تعداد محدودی مشتری وابسته است.\n",
    "\n",
    " **پیشنهاد:**\n",
    "\n",
    "* حفظ و تقویت روابط با مشتریان **سودآور** برای تداوم درآمد.\n",
    "* افزایش سفارش و سود از مشتریان متوسط تا وابستگی به تعداد محدودی مشتری کاهش یابد.\n",
    "* بررسی قراردادها و تخفیف‌ها برای اطمینان از بهینه بودن سود در کل سبد مشتریان.\n"
   ]
  },
  {
   "cell_type": "code",
   "execution_count": 85,
   "id": "37062d92",
   "metadata": {},
   "outputs": [
    {
     "data": {
      "text/html": [
       "<div>\n",
       "<style scoped>\n",
       "    .dataframe tbody tr th:only-of-type {\n",
       "        vertical-align: middle;\n",
       "    }\n",
       "\n",
       "    .dataframe tbody tr th {\n",
       "        vertical-align: top;\n",
       "    }\n",
       "\n",
       "    .dataframe thead th {\n",
       "        text-align: right;\n",
       "    }\n",
       "</style>\n",
       "<table border=\"1\" class=\"dataframe\">\n",
       "  <thead>\n",
       "    <tr style=\"text-align: right;\">\n",
       "      <th></th>\n",
       "      <th>Total Profit</th>\n",
       "      <th>Order Total</th>\n",
       "    </tr>\n",
       "    <tr>\n",
       "      <th>Account Manager</th>\n",
       "      <th></th>\n",
       "      <th></th>\n",
       "    </tr>\n",
       "  </thead>\n",
       "  <tbody>\n",
       "    <tr>\n",
       "      <th>Connor Betts</th>\n",
       "      <td>55662.41</td>\n",
       "      <td>117936.16</td>\n",
       "    </tr>\n",
       "    <tr>\n",
       "      <th>Tina Carlton</th>\n",
       "      <td>45744.88</td>\n",
       "      <td>92391.66</td>\n",
       "    </tr>\n",
       "    <tr>\n",
       "      <th>Yvette Biti</th>\n",
       "      <td>25774.50</td>\n",
       "      <td>56489.58</td>\n",
       "    </tr>\n",
       "    <tr>\n",
       "      <th>Nicholas Fernandes</th>\n",
       "      <td>22096.39</td>\n",
       "      <td>46874.59</td>\n",
       "    </tr>\n",
       "    <tr>\n",
       "      <th>Natasha Song</th>\n",
       "      <td>18968.48</td>\n",
       "      <td>39991.56</td>\n",
       "    </tr>\n",
       "    <tr>\n",
       "      <th>Samantha Chairs</th>\n",
       "      <td>18705.68</td>\n",
       "      <td>38178.69</td>\n",
       "    </tr>\n",
       "    <tr>\n",
       "      <th>Mihael Khan</th>\n",
       "      <td>18517.67</td>\n",
       "      <td>39653.90</td>\n",
       "    </tr>\n",
       "    <tr>\n",
       "      <th>Phoebe Gour</th>\n",
       "      <td>17196.12</td>\n",
       "      <td>36771.12</td>\n",
       "    </tr>\n",
       "    <tr>\n",
       "      <th>Aanya Zhang</th>\n",
       "      <td>14735.37</td>\n",
       "      <td>32836.65</td>\n",
       "    </tr>\n",
       "    <tr>\n",
       "      <th>Leighton Forrest</th>\n",
       "      <td>13255.46</td>\n",
       "      <td>28872.49</td>\n",
       "    </tr>\n",
       "    <tr>\n",
       "      <th>Charlie Bui</th>\n",
       "      <td>11103.49</td>\n",
       "      <td>24418.53</td>\n",
       "    </tr>\n",
       "    <tr>\n",
       "      <th>Preston Senome</th>\n",
       "      <td>9899.26</td>\n",
       "      <td>20453.21</td>\n",
       "    </tr>\n",
       "    <tr>\n",
       "      <th>Radhya Staples</th>\n",
       "      <td>3775.44</td>\n",
       "      <td>8458.33</td>\n",
       "    </tr>\n",
       "    <tr>\n",
       "      <th>Stevie Bacata</th>\n",
       "      <td>1686.61</td>\n",
       "      <td>3649.43</td>\n",
       "    </tr>\n",
       "    <tr>\n",
       "      <th>Simantha Chairs</th>\n",
       "      <td>608.50</td>\n",
       "      <td>1040.50</td>\n",
       "    </tr>\n",
       "    <tr>\n",
       "      <th>Wicholas Fernandes</th>\n",
       "      <td>94.83</td>\n",
       "      <td>244.40</td>\n",
       "    </tr>\n",
       "    <tr>\n",
       "      <th>Oanya Zhang</th>\n",
       "      <td>38.94</td>\n",
       "      <td>100.02</td>\n",
       "    </tr>\n",
       "    <tr>\n",
       "      <th>Eanya Zhang</th>\n",
       "      <td>16.31</td>\n",
       "      <td>33.86</td>\n",
       "    </tr>\n",
       "  </tbody>\n",
       "</table>\n",
       "</div>"
      ],
      "text/plain": [
       "                    Total Profit  Order Total\n",
       "Account Manager                              \n",
       "Connor Betts            55662.41    117936.16\n",
       "Tina Carlton            45744.88     92391.66\n",
       "Yvette Biti             25774.50     56489.58\n",
       "Nicholas Fernandes      22096.39     46874.59\n",
       "Natasha Song            18968.48     39991.56\n",
       "Samantha Chairs         18705.68     38178.69\n",
       "Mihael Khan             18517.67     39653.90\n",
       "Phoebe Gour             17196.12     36771.12\n",
       "Aanya Zhang             14735.37     32836.65\n",
       "Leighton Forrest        13255.46     28872.49\n",
       "Charlie Bui             11103.49     24418.53\n",
       "Preston Senome           9899.26     20453.21\n",
       "Radhya Staples           3775.44      8458.33\n",
       "Stevie Bacata            1686.61      3649.43\n",
       "Simantha Chairs           608.50      1040.50\n",
       "Wicholas Fernandes         94.83       244.40\n",
       "Oanya Zhang                38.94       100.02\n",
       "Eanya Zhang                16.31        33.86"
      ]
     },
     "execution_count": 85,
     "metadata": {},
     "output_type": "execute_result"
    }
   ],
   "source": [
    "df.groupby(\"Account Manager\")[[\"Total Profit\", \"Order Total\"]].sum().sort_values(by=\"Total Profit\", ascending=False)\n",
    "\n",
    "# فروش و سود بر حسب مدیر حساب\n"
   ]
  },
  {
   "cell_type": "markdown",
   "id": "ade837fb",
   "metadata": {},
   "source": [
    " **تحلیل:**\n",
    "\n",
    "بیشترین **سود کل** و فروش مربوط به مدیر حساب **کانر بتس** است، در حالی که سایر مدیران به تدریج کاهش سود و فروش دارند. اختلاف بین مدیران بالاتر و پایین‌تر نشان می‌دهد که بخش قابل‌توجهی از سود شرکت به عملکرد چند مدیر اصلی وابسته است و عملکرد سایر مدیران سهم کمتری در سود کل دارند.\n",
    "\n",
    " **پیشنهاد:**\n",
    "\n",
    "* تمرکز بر حفظ عملکرد مدیران **سودآور** و حمایت از آن‌ها برای افزایش فروش و سود.\n",
    "* آموزش و تقویت مهارت‌های مدیران با عملکرد کمتر برای افزایش سهم آن‌ها از سود کل.\n",
    "* ایجاد انگیزه و سیستم پاداش مبتنی بر سود و فروش می‌تواند به توزیع متوازن‌تر سود در بین مدیران کمک کند.\n"
   ]
  },
  {
   "cell_type": "code",
   "execution_count": 86,
   "id": "aa5cb3db",
   "metadata": {},
   "outputs": [
    {
     "data": {
      "text/plain": [
       "Product Category\n",
       "Furniture          85.18\n",
       "Office Supplies    82.74\n",
       "Technology         82.32\n",
       "Name: Profit Percentage (%), dtype: float64"
      ]
     },
     "execution_count": 86,
     "metadata": {},
     "output_type": "execute_result"
    }
   ],
   "source": [
    "df.groupby(\"Product Category\")[\"Profit Percentage (%)\"].agg(\"mean\").sort_values(ascending=False).round(2)"
   ]
  },
  {
   "cell_type": "markdown",
   "id": "b014d36b",
   "metadata": {},
   "source": [
    " **تحلیل:**\n",
    "\n",
    "بیشترین **درصد سود** متعلق به دسته محصولات **مبلمان** است، پس از آن **لوازم اداری** و **فناوری** قرار دارند. این نشان می‌دهد که با وجود تفاوت در فروش کل، حاشیه سود **مبلمان** بالاتر است و نقش مهمی در سودآوری شرکت دارد.\n",
    "\n",
    " **پیشنهاد:**\n",
    "\n",
    "* تمرکز بر فروش محصولات **مبلمان** برای افزایش سود نسبی کل.\n",
    "* بهینه‌سازی هزینه‌ها و قیمت‌گذاری در دسته‌های **لوازم اداری** و **فناوری** برای افزایش حاشیه سود.\n",
    "* تنوع محصول را حفظ کنید تا ریسک وابستگی سود به یک دسته کاهش یابد.\n"
   ]
  },
  {
   "cell_type": "markdown",
   "id": "24db481c",
   "metadata": {},
   "source": [
    "___"
   ]
  },
  {
   "cell_type": "code",
   "execution_count": 87,
   "id": "06c0903d",
   "metadata": {},
   "outputs": [
    {
     "name": "stdout",
     "output_type": "stream",
     "text": [
      "                                  Product Name Product Category  \\\n",
      "4505  Alto Perma 2700 Stacking Storage Drawers  Office Supplies   \n",
      "1152  Alto Perma 3000 Stacking Storage Drawers       Technology   \n",
      "1777  Alto Perma 2700 Stacking Storage Drawers        Furniture   \n",
      "\n",
      "      Profit Percentage (%)  \n",
      "4505                  233.4  \n",
      "1152                  233.4  \n",
      "1777                  233.4  \n"
     ]
    }
   ],
   "source": [
    "top_unique = (\n",
    "    df.sort_values(by=\"Profit Percentage (%)\", ascending=False)\n",
    "      .drop_duplicates(subset=\"Product Category\", keep=\"first\")\n",
    "      .head(10)[[\"Product Name\", \"Product Category\", \"Profit Percentage (%)\"]]\n",
    ")\n",
    "\n",
    "print(top_unique)\n"
   ]
  },
  {
   "cell_type": "code",
   "execution_count": 88,
   "id": "88dff243",
   "metadata": {},
   "outputs": [
    {
     "data": {
      "text/html": [
       "<div>\n",
       "<style scoped>\n",
       "    .dataframe tbody tr th:only-of-type {\n",
       "        vertical-align: middle;\n",
       "    }\n",
       "\n",
       "    .dataframe tbody tr th {\n",
       "        vertical-align: top;\n",
       "    }\n",
       "\n",
       "    .dataframe thead th {\n",
       "        text-align: right;\n",
       "    }\n",
       "</style>\n",
       "<table border=\"1\" class=\"dataframe\">\n",
       "  <thead>\n",
       "    <tr style=\"text-align: right;\">\n",
       "      <th></th>\n",
       "      <th>Product Category</th>\n",
       "      <th>Product Name</th>\n",
       "      <th>Profit Percentage (%)</th>\n",
       "    </tr>\n",
       "  </thead>\n",
       "  <tbody>\n",
       "    <tr>\n",
       "      <th>4501</th>\n",
       "      <td>Office Supplies</td>\n",
       "      <td>1 Stacking Storage Drawers</td>\n",
       "      <td>194.2</td>\n",
       "    </tr>\n",
       "    <tr>\n",
       "      <th>4192</th>\n",
       "      <td>Office Supplies</td>\n",
       "      <td>Black Clarston</td>\n",
       "      <td>172.8</td>\n",
       "    </tr>\n",
       "    <tr>\n",
       "      <th>1661</th>\n",
       "      <td>Office Supplies</td>\n",
       "      <td>Apex Straightt Scissors</td>\n",
       "      <td>150.1</td>\n",
       "    </tr>\n",
       "    <tr>\n",
       "      <th>2654</th>\n",
       "      <td>Office Supplies</td>\n",
       "      <td>Apex Pright Scissors</td>\n",
       "      <td>150.1</td>\n",
       "    </tr>\n",
       "    <tr>\n",
       "      <th>3472</th>\n",
       "      <td>Office Supplies</td>\n",
       "      <td>Tmeady Box Cutter Scissors</td>\n",
       "      <td>144.2</td>\n",
       "    </tr>\n",
       "    <tr>\n",
       "      <th>3607</th>\n",
       "      <td>Office Supplies</td>\n",
       "      <td>Apex Box Cutter Scissor</td>\n",
       "      <td>144.2</td>\n",
       "    </tr>\n",
       "    <tr>\n",
       "      <th>775</th>\n",
       "      <td>Technology</td>\n",
       "      <td>12 Ellic Surge Strip</td>\n",
       "      <td>144.2</td>\n",
       "    </tr>\n",
       "    <tr>\n",
       "      <th>2580</th>\n",
       "      <td>Technology</td>\n",
       "      <td>Apex Desige Stainless Steel Scissors</td>\n",
       "      <td>143.9</td>\n",
       "    </tr>\n",
       "    <tr>\n",
       "      <th>1227</th>\n",
       "      <td>Technology</td>\n",
       "      <td>Artisan Hanging File Bins</td>\n",
       "      <td>138.5</td>\n",
       "    </tr>\n",
       "    <tr>\n",
       "      <th>4502</th>\n",
       "      <td>Office Supplies</td>\n",
       "      <td>10 Colored Short Pencils</td>\n",
       "      <td>138.5</td>\n",
       "    </tr>\n",
       "  </tbody>\n",
       "</table>\n",
       "</div>"
      ],
      "text/plain": [
       "     Product Category                          Product Name  \\\n",
       "4501  Office Supplies            1 Stacking Storage Drawers   \n",
       "4192  Office Supplies                        Black Clarston   \n",
       "1661  Office Supplies               Apex Straightt Scissors   \n",
       "2654  Office Supplies                  Apex Pright Scissors   \n",
       "3472  Office Supplies            Tmeady Box Cutter Scissors   \n",
       "3607  Office Supplies               Apex Box Cutter Scissor   \n",
       "775        Technology                  12 Ellic Surge Strip   \n",
       "2580       Technology  Apex Desige Stainless Steel Scissors   \n",
       "1227       Technology             Artisan Hanging File Bins   \n",
       "4502  Office Supplies              10 Colored Short Pencils   \n",
       "\n",
       "      Profit Percentage (%)  \n",
       "4501                  194.2  \n",
       "4192                  172.8  \n",
       "1661                  150.1  \n",
       "2654                  150.1  \n",
       "3472                  144.2  \n",
       "3607                  144.2  \n",
       "775                   144.2  \n",
       "2580                  143.9  \n",
       "1227                  138.5  \n",
       "4502                  138.5  "
      ]
     },
     "execution_count": 88,
     "metadata": {},
     "output_type": "execute_result"
    }
   ],
   "source": [
    "# 1. پیدا کردن محصولات غیرتکراری\n",
    "unique_products = df['Product Name'].value_counts()\n",
    "unique_products = unique_products[unique_products == 1].index\n",
    "\n",
    "# 2. فیلتر فقط محصولات منحصربه‌فرد\n",
    "df_unique = df[df['Product Name'].isin(unique_products)]\n",
    "\n",
    "# 3. مرتب‌سازی بر اساس درصد سود و انتخاب 10 تای اول\n",
    "\n",
    "df_unique.sort_values(by=\"Profit Percentage (%)\", ascending=False).head(10)[[\"Product Category\", \"Product Name\", \"Profit Percentage (%)\"]]\n",
    "\n",
    "\n"
   ]
  },
  {
   "cell_type": "markdown",
   "id": "6e0cd011",
   "metadata": {},
   "source": [
    "**تحلیل:**\n",
    "بیشترین **درصد سود** مربوط به دسته‌ی **لوازم اداری** است، مخصوصاً محصولاتی مانند کشوهای نگهدارنده و قیچی‌های اداری که سودی بالای ۱۴۰ تا ۱۹۰ درصد دارند. پس از آن، دسته‌ی **فناوری** قرار دارد که سود نسبتاً پایین‌تری دارد. این نشان می‌دهد لوازم اداری با وجود قیمت کمتر، **حاشیه سود بالاتری** ایجاد می‌کنند.\n",
    "\n",
    "**پیشنهاد:**\n",
    "\n",
    "* تمرکز فروش بر محصولات **اداری با سود بالا** افزایش یابد.\n",
    "* عوامل مؤثر در سود زیاد این کالاها (مثل هزینه تولید یا بسته‌بندی) شناسایی و در سایر محصولات تکرار شود.\n",
    "* در محصولات **فناوری** با بازنگری قیمت و هزینه، حاشیه سود بهبود یابد.\n"
   ]
  },
  {
   "cell_type": "markdown",
   "id": "5abecbb0",
   "metadata": {},
   "source": [
    "___"
   ]
  },
  {
   "cell_type": "markdown",
   "id": "09d7d8b5",
   "metadata": {},
   "source": [
    "### Visiual"
   ]
  },
  {
   "cell_type": "code",
   "execution_count": 89,
   "id": "19e33d05",
   "metadata": {},
   "outputs": [
    {
     "data": {
      "text/plain": [
       "Product Name\n",
       "Artisan Flip-Chart Easel Binder, Black     38633.82\n",
       "1726 Digital Answering Machine             23698.62\n",
       "Beekin 105-Key Black Keyboard              23647.12\n",
       "TechSavi Access Keyboard                   19726.02\n",
       "Apex Straight Scissors                     18858.48\n",
       "PastelOcean Color Pencil Set               18063.28\n",
       "Smiths SlimLine Pencil Sharpener           17159.35\n",
       "DrawIt Colored Pencils, 48-Color Set       16504.25\n",
       "Apex Preferred Stainless Steel Scissors    14178.40\n",
       "Artisan Hanging File Binders               13815.38\n",
       "Name: Order Total, dtype: float64"
      ]
     },
     "execution_count": 89,
     "metadata": {},
     "output_type": "execute_result"
    }
   ],
   "source": [
    "df.groupby(\"Product Name\")[\"Order Total\"].agg(\"sum\").sort_values(ascending=False).head(10)"
   ]
  },
  {
   "cell_type": "code",
   "execution_count": 90,
   "id": "94ee885a",
   "metadata": {},
   "outputs": [
    {
     "data": {
      "text/plain": [
       "<Axes: xlabel='Product Name'>"
      ]
     },
     "execution_count": 90,
     "metadata": {},
     "output_type": "execute_result"
    },
    {
     "data": {
      "image/png": "[encoded data removed]",
      "text/plain": [
       "<Figure size 640x480 with 1 Axes>"
      ]
     },
     "metadata": {},
     "output_type": "display_data"
    }
   ],
   "source": [
    "df.groupby(\"Product Name\")[\"Order Total\"].agg(\"sum\").sort_values(ascending=False).head(10).plot(kind='bar', color='skyblue')\n",
    "\n",
    "# نمودار 10 محصول پرفروش"
   ]
  },
  {
   "cell_type": "code",
   "execution_count": 91,
   "id": "767c267c",
   "metadata": {},
   "outputs": [
    {
     "data": {
      "text/plain": [
       "<Axes: xlabel='Order Date'>"
      ]
     },
     "execution_count": 91,
     "metadata": {},
     "output_type": "execute_result"
    },
    {
     "data": {
      "image/png": "[encoded data removed]",
      "text/plain": [
       "<Figure size 640x480 with 1 Axes>"
      ]
     },
     "metadata": {},
     "output_type": "display_data"
    }
   ],
   "source": [
    "df.groupby(df['Order Date'].dt.month)['Order Total'].mean().plot(kind='bar')\n",
    "\n",
    "# نمودار میانگین فروش ماهانه"
   ]
  },
  {
   "cell_type": "code",
   "execution_count": 92,
   "id": "166e5245",
   "metadata": {},
   "outputs": [
    {
     "data": {
      "text/plain": [
       "<Axes: >"
      ]
     },
     "execution_count": 92,
     "metadata": {},
     "output_type": "execute_result"
    },
    {
     "data": {
      "image/png": "[encoded data removed]",
      "text/plain": [
       "<Figure size 640x480 with 1 Axes>"
      ]
     },
     "metadata": {},
     "output_type": "display_data"
    }
   ],
   "source": [
    "df.groupby('Order Weekday').agg(\n",
    "    Total_Sales=('Order Total', 'sum')\n",
    ").reset_index().plot(kind='bar')\n",
    "\n"
   ]
  },
  {
   "cell_type": "code",
   "execution_count": 93,
   "id": "75b1d948",
   "metadata": {},
   "outputs": [
    {
     "data": {
      "application/vnd.plotly.v1+json": {
       "config": {
        "plotlyServerURL": "https://plot.ly"
       },
       "data": [
        {
         "hovertemplate": "$%{y:,.2f}<extra></extra>",
         "legendgroup": "Order Total",
         "line": {
          "color": "#636efa",
          "dash": "solid"
         },
         "marker": {
          "symbol": "circle"
         },
         "mode": "lines+markers",
         "name": "Order Total",
         "orientation": "v",
         "showlegend": true,
         "type": "scatter",
         "x": [
          "2013-02",
          "2013-03",
          "2013-04",
          "2013-05",
          "2013-06",
          "2013-07",
          "2013-08",
          "2013-09",
          "2013-10",
          "2013-11",
          "2013-12",
          "2014-01",
          "2014-02",
          "2014-03",
          "2014-04",
          "2014-05",
          "2014-06",
          "2014-07",
          "2014-08",
          "2014-09",
          "2014-10",
          "2014-11",
          "2014-12",
          "2015-01",
          "2015-02",
          "2015-03",
          "2015-04",
          "2015-05",
          "2015-06",
          "2015-07",
          "2015-08",
          "2015-09",
          "2015-10",
          "2015-11",
          "2015-12",
          "2016-01",
          "2016-02",
          "2016-03",
          "2016-04",
          "2016-05",
          "2016-06",
          "2016-07",
          "2016-08",
          "2016-09",
          "2016-10",
          "2016-11",
          "2016-12",
          "2017-01",
          "2017-02"
         ],
         "xaxis": "x",
         "y": {
          "bdata": "uB6F6xEHtUAzMzMzU4/IQFK4HoWrKbFAMzMzMyOU1kAVrkfhGurIQDMzMzOTNNNAj8L1KFwUyUBmZmZm5u28QI/C9ShMrtFAXI/C9YhiyED2KFyPQmHEQArXo3BdicdAUrgehavXyUD2KFyPIvfEQOF6FK7H36pArkfhenSuwEAfhetRuB7OQOtRuB6FPL5AmpmZmZm/vkAAAAAAwPfPQHsUrkdRCNBAZmZmZqZKyUBI4XoUDnHLQFyPwvUIZ8pAAAAAAABKvUAzMzMzsxfJQI/C9ShcQclAMzMzM3NmzUC4HoXrUafMQLgehethz9NAhetRuJ5xykApXI/C9cS+QBWuR+H6LLZAuB6F69GKvUBcj8L1aE7OQD0K16OQqshApHA9CgdC0ECamZmZuZDCQBWuR+H6ucdAAAAAAAAD00BI4XoUjuLIQHE9CtfD4cBApHA9CpdStkB7FK5HgcDUQEjhehQuHbxAuB6F6xF9xEBSuB6FC3HGQI/C9Sg8+MBApHA9CheoukA=",
          "dtype": "f8"
         },
         "yaxis": "y"
        },
        {
         "hovertemplate": "$%{y:,.2f}<extra></extra>",
         "legendgroup": "Total Profit",
         "line": {
          "color": "#EF553B",
          "dash": "solid"
         },
         "marker": {
          "symbol": "circle"
         },
         "mode": "lines+markers",
         "name": "Total Profit",
         "orientation": "v",
         "showlegend": true,
         "type": "scatter",
         "x": [
          "2013-02",
          "2013-03",
          "2013-04",
          "2013-05",
          "2013-06",
          "2013-07",
          "2013-08",
          "2013-09",
          "2013-10",
          "2013-11",
          "2013-12",
          "2014-01",
          "2014-02",
          "2014-03",
          "2014-04",
          "2014-05",
          "2014-06",
          "2014-07",
          "2014-08",
          "2014-09",
          "2014-10",
          "2014-11",
          "2014-12",
          "2015-01",
          "2015-02",
          "2015-03",
          "2015-04",
          "2015-05",
          "2015-06",
          "2015-07",
          "2015-08",
          "2015-09",
          "2015-10",
          "2015-11",
          "2015-12",
          "2016-01",
          "2016-02",
          "2016-03",
          "2016-04",
          "2016-05",
          "2016-06",
          "2016-07",
          "2016-08",
          "2016-09",
          "2016-10",
          "2016-11",
          "2016-12",
          "2017-01",
          "2017-02"
         ],
         "xaxis": "x",
         "y": {
          "bdata": "AAAAAAChokAfhetRuPG3QArXo3C916FA7FG4HmVyxUAzMzMzMxq3QFK4HoXr7MFASOF6FK4UuEAK16NwPXOsQNejcD2qQsBAexSuR2G5tkDsUbgexTm0QD4K16OwQbhAPgrXozCut0DrUbgeReizQArXo3A9MJdAH4XrUbh1rEDXo3A9Sp++QHE9CtcjuKtAw/UoXI9Fr0Bcj8L16E+9QB+F61G4P79A16NwPQrZtUDD9ShcT/a5QB+F61H4dblAH4XrUbhTq0CamZmZWeG3QHsUrkehZ7dAMzMzM/MHu0CuR+F6FAm8QB+F61FY5MFAcT0K16MLuEBxPQrXo+atQFyPwvWo5KJArkfhepSDrUCkcD0KdyrAQLgeheuRMrhApHA9ChdDvkD2KFyPgpGxQIXrUbienbVAcT0K16NawUAzMzMz81K2QHsUrkdh061APQrXo/CipEAfhetReIvDQNejcD0KFqpAXI/C9Sj6skCF61G4niq4QGZmZmZmYa9ArkfhepRIp0A=",
          "dtype": "f8"
         },
         "yaxis": "y"
        }
       ],
       "layout": {
        "hovermode": "x unified",
        "legend": {
         "title": {
          "text": "Metric"
         },
         "tracegroupgap": 0
        },
        "template": {
         "data": {
          "bar": [
           {
            "error_x": {
             "color": "#f2f5fa"
            },
            "error_y": {
             "color": "#f2f5fa"
            },
            "marker": {
             "line": {
              "color": "rgb(17,17,17)",
              "width": 0.5
             },
             "pattern": {
              "fillmode": "overlay",
              "size": 10,
              "solidity": 0.2
             }
            },
            "type": "bar"
           }
          ],
          "barpolar": [
           {
            "marker": {
             "line": {
              "color": "rgb(17,17,17)",
              "width": 0.5
             },
             "pattern": {
              "fillmode": "overlay",
              "size": 10,
              "solidity": 0.2
             }
            },
            "type": "barpolar"
           }
          ],
          "carpet": [
           {
            "aaxis": {
             "endlinecolor": "#A2B1C6",
             "gridcolor": "#506784",
             "linecolor": "#506784",
             "minorgridcolor": "#506784",
             "startlinecolor": "#A2B1C6"
            },
            "baxis": {
             "endlinecolor": "#A2B1C6",
             "gridcolor": "#506784",
             "linecolor": "#506784",
             "minorgridcolor": "#506784",
             "startlinecolor": "#A2B1C6"
            },
            "type": "carpet"
           }
          ],
          "choropleth": [
           {
            "colorbar": {
             "outlinewidth": 0,
             "ticks": ""
            },
            "type": "choropleth"
           }
          ],
          "contour": [
           {
            "colorbar": {
             "outlinewidth": 0,
             "ticks": ""
            },
            "colorscale": [
             [
              0,
              "#0d0887"
             ],
             [
              0.1111111111111111,
              "#46039f"
             ],
             [
              0.2222222222222222,
              "#7201a8"
             ],
             [
              0.3333333333333333,
              "#9c179e"
             ],
             [
              0.4444444444444444,
              "#bd3786"
             ],
             [
              0.5555555555555556,
              "#d8576b"
             ],
             [
              0.6666666666666666,
              "#ed7953"
             ],
             [
              0.7777777777777778,
              "#fb9f3a"
             ],
             [
              0.8888888888888888,
              "#fdca26"
             ],
             [
              1,
              "#f0f921"
             ]
            ],
            "type": "contour"
           }
          ],
          "contourcarpet": [
           {
            "colorbar": {
             "outlinewidth": 0,
             "ticks": ""
            },
            "type": "contourcarpet"
           }
          ],
          "heatmap": [
           {
            "colorbar": {
             "outlinewidth": 0,
             "ticks": ""
            },
            "colorscale": [
             [
              0,
              "#0d0887"
             ],
             [
              0.1111111111111111,
              "#46039f"
             ],
             [
              0.2222222222222222,
              "#7201a8"
             ],
             [
              0.3333333333333333,
              "#9c179e"
             ],
             [
              0.4444444444444444,
              "#bd3786"
             ],
             [
              0.5555555555555556,
              "#d8576b"
             ],
             [
              0.6666666666666666,
              "#ed7953"
             ],
             [
              0.7777777777777778,
              "#fb9f3a"
             ],
             [
              0.8888888888888888,
              "#fdca26"
             ],
             [
              1,
              "#f0f921"
             ]
            ],
            "type": "heatmap"
           }
          ],
          "histogram": [
           {
            "marker": {
             "pattern": {
              "fillmode": "overlay",
              "size": 10,
              "solidity": 0.2
             }
            },
            "type": "histogram"
           }
          ],
          "histogram2d": [
           {
            "colorbar": {
             "outlinewidth": 0,
             "ticks": ""
            },
            "colorscale": [
             [
              0,
              "#0d0887"
             ],
             [
              0.1111111111111111,
              "#46039f"
             ],
             [
              0.2222222222222222,
              "#7201a8"
             ],
             [
              0.3333333333333333,
              "#9c179e"
             ],
             [
              0.4444444444444444,
              "#bd3786"
             ],
             [
              0.5555555555555556,
              "#d8576b"
             ],
             [
              0.6666666666666666,
              "#ed7953"
             ],
             [
              0.7777777777777778,
              "#fb9f3a"
             ],
             [
              0.8888888888888888,
              "#fdca26"
             ],
             [
              1,
              "#f0f921"
             ]
            ],
            "type": "histogram2d"
           }
          ],
          "histogram2dcontour": [
           {
            "colorbar": {
             "outlinewidth": 0,
             "ticks": ""
            },
            "colorscale": [
             [
              0,
              "#0d0887"
             ],
             [
              0.1111111111111111,
              "#46039f"
             ],
             [
              0.2222222222222222,
              "#7201a8"
             ],
             [
              0.3333333333333333,
              "#9c179e"
             ],
             [
              0.4444444444444444,
              "#bd3786"
             ],
             [
              0.5555555555555556,
              "#d8576b"
             ],
             [
              0.6666666666666666,
              "#ed7953"
             ],
             [
              0.7777777777777778,
              "#fb9f3a"
             ],
             [
              0.8888888888888888,
              "#fdca26"
             ],
             [
              1,
              "#f0f921"
             ]
            ],
            "type": "histogram2dcontour"
           }
          ],
          "mesh3d": [
           {
            "colorbar": {
             "outlinewidth": 0,
             "ticks": ""
            },
            "type": "mesh3d"
           }
          ],
          "parcoords": [
           {
            "line": {
             "colorbar": {
              "outlinewidth": 0,
              "ticks": ""
             }
            },
            "type": "parcoords"
           }
          ],
          "pie": [
           {
            "automargin": true,
            "type": "pie"
           }
          ],
          "scatter": [
           {
            "marker": {
             "line": {
              "color": "#283442"
             }
            },
            "type": "scatter"
           }
          ],
          "scatter3d": [
           {
            "line": {
             "colorbar": {
              "outlinewidth": 0,
              "ticks": ""
             }
            },
            "marker": {
             "colorbar": {
              "outlinewidth": 0,
              "ticks": ""
             }
            },
            "type": "scatter3d"
           }
          ],
          "scattercarpet": [
           {
            "marker": {
             "colorbar": {
              "outlinewidth": 0,
              "ticks": ""
             }
            },
            "type": "scattercarpet"
           }
          ],
          "scattergeo": [
           {
            "marker": {
             "colorbar": {
              "outlinewidth": 0,
              "ticks": ""
             }
            },
            "type": "scattergeo"
           }
          ],
          "scattergl": [
           {
            "marker": {
             "line": {
              "color": "#283442"
             }
            },
            "type": "scattergl"
           }
          ],
          "scattermap": [
           {
            "marker": {
             "colorbar": {
              "outlinewidth": 0,
              "ticks": ""
             }
            },
            "type": "scattermap"
           }
          ],
          "scattermapbox": [
           {
            "marker": {
             "colorbar": {
              "outlinewidth": 0,
              "ticks": ""
             }
            },
            "type": "scattermapbox"
           }
          ],
          "scatterpolar": [
           {
            "marker": {
             "colorbar": {
              "outlinewidth": 0,
              "ticks": ""
             }
            },
            "type": "scatterpolar"
           }
          ],
          "scatterpolargl": [
           {
            "marker": {
             "colorbar": {
              "outlinewidth": 0,
              "ticks": ""
             }
            },
            "type": "scatterpolargl"
           }
          ],
          "scatterternary": [
           {
            "marker": {
             "colorbar": {
              "outlinewidth": 0,
              "ticks": ""
             }
            },
            "type": "scatterternary"
           }
          ],
          "surface": [
           {
            "colorbar": {
             "outlinewidth": 0,
             "ticks": ""
            },
            "colorscale": [
             [
              0,
              "#0d0887"
             ],
             [
              0.1111111111111111,
              "#46039f"
             ],
             [
              0.2222222222222222,
              "#7201a8"
             ],
             [
              0.3333333333333333,
              "#9c179e"
             ],
             [
              0.4444444444444444,
              "#bd3786"
             ],
             [
              0.5555555555555556,
              "#d8576b"
             ],
             [
              0.6666666666666666,
              "#ed7953"
             ],
             [
              0.7777777777777778,
              "#fb9f3a"
             ],
             [
              0.8888888888888888,
              "#fdca26"
             ],
             [
              1,
              "#f0f921"
             ]
            ],
            "type": "surface"
           }
          ],
          "table": [
           {
            "cells": {
             "fill": {
              "color": "#506784"
             },
             "line": {
              "color": "rgb(17,17,17)"
             }
            },
            "header": {
             "fill": {
              "color": "#2a3f5f"
             },
             "line": {
              "color": "rgb(17,17,17)"
             }
            },
            "type": "table"
           }
          ]
         },
         "layout": {
          "annotationdefaults": {
           "arrowcolor": "#f2f5fa",
           "arrowhead": 0,
           "arrowwidth": 1
          },
          "autotypenumbers": "strict",
          "coloraxis": {
           "colorbar": {
            "outlinewidth": 0,
            "ticks": ""
           }
          },
          "colorscale": {
           "diverging": [
            [
             0,
             "#8e0152"
            ],
            [
             0.1,
             "#c51b7d"
            ],
            [
             0.2,
             "#de77ae"
            ],
            [
             0.3,
             "#f1b6da"
            ],
            [
             0.4,
             "#fde0ef"
            ],
            [
             0.5,
             "#f7f7f7"
            ],
            [
             0.6,
             "#e6f5d0"
            ],
            [
             0.7,
             "#b8e186"
            ],
            [
             0.8,
             "#7fbc41"
            ],
            [
             0.9,
             "#4d9221"
            ],
            [
             1,
             "#276419"
            ]
           ],
           "sequential": [
            [
             0,
             "#0d0887"
            ],
            [
             0.1111111111111111,
             "#46039f"
            ],
            [
             0.2222222222222222,
             "#7201a8"
            ],
            [
             0.3333333333333333,
             "#9c179e"
            ],
            [
             0.4444444444444444,
             "#bd3786"
            ],
            [
             0.5555555555555556,
             "#d8576b"
            ],
            [
             0.6666666666666666,
             "#ed7953"
            ],
            [
             0.7777777777777778,
             "#fb9f3a"
            ],
            [
             0.8888888888888888,
             "#fdca26"
            ],
            [
             1,
             "#f0f921"
            ]
           ],
           "sequentialminus": [
            [
             0,
             "#0d0887"
            ],
            [
             0.1111111111111111,
             "#46039f"
            ],
            [
             0.2222222222222222,
             "#7201a8"
            ],
            [
             0.3333333333333333,
             "#9c179e"
            ],
            [
             0.4444444444444444,
             "#bd3786"
            ],
            [
             0.5555555555555556,
             "#d8576b"
            ],
            [
             0.6666666666666666,
             "#ed7953"
            ],
            [
             0.7777777777777778,
             "#fb9f3a"
            ],
            [
             0.8888888888888888,
             "#fdca26"
            ],
            [
             1,
             "#f0f921"
            ]
           ]
          },
          "colorway": [
           "#636efa",
           "#EF553B",
           "#00cc96",
           "#ab63fa",
           "#FFA15A",
           "#19d3f3",
           "#FF6692",
           "#B6E880",
           "#FF97FF",
           "#FECB52"
          ],
          "font": {
           "color": "#f2f5fa"
          },
          "geo": {
           "bgcolor": "rgb(17,17,17)",
           "lakecolor": "rgb(17,17,17)",
           "landcolor": "rgb(17,17,17)",
           "showlakes": true,
           "showland": true,
           "subunitcolor": "#506784"
          },
          "hoverlabel": {
           "align": "left"
          },
          "hovermode": "closest",
          "mapbox": {
           "style": "dark"
          },
          "paper_bgcolor": "rgb(17,17,17)",
          "plot_bgcolor": "rgb(17,17,17)",
          "polar": {
           "angularaxis": {
            "gridcolor": "#506784",
            "linecolor": "#506784",
            "ticks": ""
           },
           "bgcolor": "rgb(17,17,17)",
           "radialaxis": {
            "gridcolor": "#506784",
            "linecolor": "#506784",
            "ticks": ""
           }
          },
          "scene": {
           "xaxis": {
            "backgroundcolor": "rgb(17,17,17)",
            "gridcolor": "#506784",
            "gridwidth": 2,
            "linecolor": "#506784",
            "showbackground": true,
            "ticks": "",
            "zerolinecolor": "#C8D4E3"
           },
           "yaxis": {
            "backgroundcolor": "rgb(17,17,17)",
            "gridcolor": "#506784",
            "gridwidth": 2,
            "linecolor": "#506784",
            "showbackground": true,
            "ticks": "",
            "zerolinecolor": "#C8D4E3"
           },
           "zaxis": {
            "backgroundcolor": "rgb(17,17,17)",
            "gridcolor": "#506784",
            "gridwidth": 2,
            "linecolor": "#506784",
            "showbackground": true,
            "ticks": "",
            "zerolinecolor": "#C8D4E3"
           }
          },
          "shapedefaults": {
           "line": {
            "color": "#f2f5fa"
           }
          },
          "sliderdefaults": {
           "bgcolor": "#C8D4E3",
           "bordercolor": "rgb(17,17,17)",
           "borderwidth": 1,
           "tickwidth": 0
          },
          "ternary": {
           "aaxis": {
            "gridcolor": "#506784",
            "linecolor": "#506784",
            "ticks": ""
           },
           "baxis": {
            "gridcolor": "#506784",
            "linecolor": "#506784",
            "ticks": ""
           },
           "bgcolor": "rgb(17,17,17)",
           "caxis": {
            "gridcolor": "#506784",
            "linecolor": "#506784",
            "ticks": ""
           }
          },
          "title": {
           "x": 0.05
          },
          "updatemenudefaults": {
           "bgcolor": "#506784",
           "borderwidth": 0
          },
          "xaxis": {
           "automargin": true,
           "gridcolor": "#283442",
           "linecolor": "#506784",
           "ticks": "",
           "title": {
            "standoff": 15
           },
           "zerolinecolor": "#283442",
           "zerolinewidth": 2
          },
          "yaxis": {
           "automargin": true,
           "gridcolor": "#283442",
           "linecolor": "#506784",
           "ticks": "",
           "title": {
            "standoff": 15
           },
           "zerolinecolor": "#283442",
           "zerolinewidth": 2
          }
         }
        },
        "title": {
         "text": "📈 Monthly Sales & Profit Trend"
        },
        "xaxis": {
         "anchor": "y",
         "domain": [
          0,
          1
         ],
         "title": {
          "text": "Month"
         }
        },
        "yaxis": {
         "anchor": "x",
         "domain": [
          0,
          1
         ],
         "title": {
          "text": "Amount ($)"
         }
        }
       }
      }
     },
     "metadata": {},
     "output_type": "display_data"
    }
   ],
   "source": [
    "import plotly.express as px\n",
    "import pandas as pd\n",
    "\n",
    "# فرض می‌کنیم ستون 'Order Date' از نوع datetime هست\n",
    "df['Order Month'] = df['Order Date'].dt.to_period('M').astype(str)\n",
    "\n",
    "# محاسبه مجموع فروش و سود در هر ماه\n",
    "monthly = df.groupby('Order Month')[['Order Total','Total Profit']].sum().reset_index()\n",
    "\n",
    "# ساخت نمودار خطی اینترکتیو\n",
    "fig = px.line(\n",
    "    monthly,\n",
    "    x='Order Month',\n",
    "    y=['Order Total', 'Total Profit'],\n",
    "    markers=True,\n",
    "    title='📈 Monthly Sales & Profit Trend',\n",
    "    labels={'value': 'Amount ($)', 'Order Month': 'Month'},\n",
    ")\n",
    "\n",
    "# ظاهر بهتر محور و عنوان‌ها\n",
    "fig.update_layout(\n",
    "    xaxis_title='Month',\n",
    "    yaxis_title='Amount ($)',\n",
    "    legend_title='Metric',\n",
    "    template='plotly_dark',\n",
    "    hovermode='x unified'\n",
    ")\n",
    "\n",
    "# هاور فقط با عدد (بدون ماه و بدون متن اضافی)\n",
    "fig.data[0].hovertemplate = '$%{y:,.2f}<extra></extra>'\n",
    "fig.data[1].hovertemplate = '$%{y:,.2f}<extra></extra>'\n",
    "\n",
    "fig.show()\n"
   ]
  },
  {
   "cell_type": "code",
   "execution_count": 94,
   "id": "8e19c23a",
   "metadata": {},
   "outputs": [
    {
     "data": {
      "text/plain": [
       "<Axes: xlabel='Order Year'>"
      ]
     },
     "execution_count": 94,
     "metadata": {},
     "output_type": "execute_result"
    },
    {
     "data": {
      "image/png": "[encoded data removed]",
      "text/plain": [
       "<Figure size 640x480 with 1 Axes>"
      ]
     },
     "metadata": {},
     "output_type": "display_data"
    }
   ],
   "source": [
    "df.groupby('Order Year')['ProcessingTime'].mean().plot(kind='bar')\n",
    "\n",
    "# نمودار میانگین زمان پردازش سالانه"
   ]
  },
  {
   "cell_type": "code",
   "execution_count": 95,
   "id": "f91d5845",
   "metadata": {},
   "outputs": [
    {
     "data": {
      "text/plain": [
       "<Axes: xlabel='Order Year'>"
      ]
     },
     "execution_count": 95,
     "metadata": {},
     "output_type": "execute_result"
    },
    {
     "data": {
      "image/png": "[encoded data removed]",
      "text/plain": [
       "<Figure size 640x480 with 1 Axes>"
      ]
     },
     "metadata": {},
     "output_type": "display_data"
    }
   ],
   "source": [
    "df.groupby('Order Year')['ProcessingTime'].mean().plot(kind='bar')\n",
    "\n",
    "# نمودار میانگین زمان پردازش سالانه"
   ]
  },
  {
   "cell_type": "code",
   "execution_count": 96,
   "id": "f9510e7d",
   "metadata": {},
   "outputs": [
    {
     "data": {
      "text/html": [
       "<div>\n",
       "<style scoped>\n",
       "    .dataframe tbody tr th:only-of-type {\n",
       "        vertical-align: middle;\n",
       "    }\n",
       "\n",
       "    .dataframe tbody tr th {\n",
       "        vertical-align: top;\n",
       "    }\n",
       "\n",
       "    .dataframe thead th {\n",
       "        text-align: right;\n",
       "    }\n",
       "</style>\n",
       "<table border=\"1\" class=\"dataframe\">\n",
       "  <thead>\n",
       "    <tr style=\"text-align: right;\">\n",
       "      <th></th>\n",
       "      <th>Order Total</th>\n",
       "      <th>Total Profit</th>\n",
       "      <th>Profit Percentage (%)</th>\n",
       "    </tr>\n",
       "  </thead>\n",
       "  <tbody>\n",
       "    <tr>\n",
       "      <th>count</th>\n",
       "      <td>3393.00</td>\n",
       "      <td>3393.00</td>\n",
       "      <td>3393.00</td>\n",
       "    </tr>\n",
       "    <tr>\n",
       "      <th>mean</th>\n",
       "      <td>173.41</td>\n",
       "      <td>81.90</td>\n",
       "      <td>82.75</td>\n",
       "    </tr>\n",
       "    <tr>\n",
       "      <th>std</th>\n",
       "      <td>200.30</td>\n",
       "      <td>101.25</td>\n",
       "      <td>36.75</td>\n",
       "    </tr>\n",
       "    <tr>\n",
       "      <th>min</th>\n",
       "      <td>0.04</td>\n",
       "      <td>0.59</td>\n",
       "      <td>19.30</td>\n",
       "    </tr>\n",
       "    <tr>\n",
       "      <th>25%</th>\n",
       "      <td>49.70</td>\n",
       "      <td>22.56</td>\n",
       "      <td>58.80</td>\n",
       "    </tr>\n",
       "    <tr>\n",
       "      <th>50%</th>\n",
       "      <td>107.78</td>\n",
       "      <td>46.02</td>\n",
       "      <td>64.00</td>\n",
       "    </tr>\n",
       "    <tr>\n",
       "      <th>75%</th>\n",
       "      <td>210.38</td>\n",
       "      <td>91.52</td>\n",
       "      <td>96.00</td>\n",
       "    </tr>\n",
       "    <tr>\n",
       "      <th>max</th>\n",
       "      <td>1203.94</td>\n",
       "      <td>625.14</td>\n",
       "      <td>233.40</td>\n",
       "    </tr>\n",
       "  </tbody>\n",
       "</table>\n",
       "</div>"
      ],
      "text/plain": [
       "       Order Total  Total Profit  Profit Percentage (%)\n",
       "count      3393.00       3393.00                3393.00\n",
       "mean        173.41         81.90                  82.75\n",
       "std         200.30        101.25                  36.75\n",
       "min           0.04          0.59                  19.30\n",
       "25%          49.70         22.56                  58.80\n",
       "50%         107.78         46.02                  64.00\n",
       "75%         210.38         91.52                  96.00\n",
       "max        1203.94        625.14                 233.40"
      ]
     },
     "execution_count": 96,
     "metadata": {},
     "output_type": "execute_result"
    }
   ],
   "source": [
    "df[[\"Order Total\", \"Total Profit\", \"Profit Percentage (%)\"]].describe().round(2)\n",
    "\n",
    "#آمار پایه‌ای فروش، سود، میانگین حاشیه سود\n"
   ]
  },
  {
   "cell_type": "code",
   "execution_count": 97,
   "id": "e3de59be",
   "metadata": {},
   "outputs": [
    {
     "data": {
      "text/plain": [
       "Index(['Order No', 'Order Date', 'Customer Name', 'City', 'State',\n",
       "       'Customer Type', 'Account Manager', 'Order Priority', 'Product Name',\n",
       "       'Product Category', 'Product Container', 'Ship Mode', 'Ship Date',\n",
       "       'Cost Price', 'Retail Price', 'Profit Margin', 'Order Quantity',\n",
       "       'Sub Total', 'Discount %', 'Discount $', 'Order Total', 'Shipping Cost',\n",
       "       'Total', 'Profit Percentage (%)', 'Total Profit', 'ProcessingTime',\n",
       "       'Order Year', 'Order Month', 'Order Weekday'],\n",
       "      dtype='object')"
      ]
     },
     "execution_count": 97,
     "metadata": {},
     "output_type": "execute_result"
    }
   ],
   "source": [
    "df.columns"
   ]
  },
  {
   "cell_type": "code",
   "execution_count": 98,
   "id": "287c14bd",
   "metadata": {},
   "outputs": [
    {
     "data": {
      "text/html": [
       "<div>\n",
       "<style scoped>\n",
       "    .dataframe tbody tr th:only-of-type {\n",
       "        vertical-align: middle;\n",
       "    }\n",
       "\n",
       "    .dataframe tbody tr th {\n",
       "        vertical-align: top;\n",
       "    }\n",
       "\n",
       "    .dataframe thead th {\n",
       "        text-align: right;\n",
       "    }\n",
       "</style>\n",
       "<table border=\"1\" class=\"dataframe\">\n",
       "  <thead>\n",
       "    <tr style=\"text-align: right;\">\n",
       "      <th></th>\n",
       "      <th>Order No</th>\n",
       "      <th>Order Date</th>\n",
       "      <th>Customer Name</th>\n",
       "      <th>City</th>\n",
       "      <th>State</th>\n",
       "      <th>Customer Type</th>\n",
       "      <th>Account Manager</th>\n",
       "      <th>Order Priority</th>\n",
       "      <th>Product Name</th>\n",
       "      <th>Product Category</th>\n",
       "      <th>...</th>\n",
       "      <th>Discount $</th>\n",
       "      <th>Order Total</th>\n",
       "      <th>Shipping Cost</th>\n",
       "      <th>Total</th>\n",
       "      <th>Profit Percentage (%)</th>\n",
       "      <th>Total Profit</th>\n",
       "      <th>ProcessingTime</th>\n",
       "      <th>Order Year</th>\n",
       "      <th>Order Month</th>\n",
       "      <th>Order Weekday</th>\n",
       "    </tr>\n",
       "  </thead>\n",
       "  <tbody>\n",
       "    <tr>\n",
       "      <th>468</th>\n",
       "      <td>5190-1</td>\n",
       "      <td>2013-08-24</td>\n",
       "      <td>Henry Goldwyn</td>\n",
       "      <td>Melbourne</td>\n",
       "      <td>VIC</td>\n",
       "      <td>Corporate</td>\n",
       "      <td>Yvette Biti</td>\n",
       "      <td>High</td>\n",
       "      <td>Binder Clips by OIC</td>\n",
       "      <td>Technology</td>\n",
       "      <td>...</td>\n",
       "      <td>4.27</td>\n",
       "      <td>51.8</td>\n",
       "      <td>0.7</td>\n",
       "      <td>53.2</td>\n",
       "      <td>59.1</td>\n",
       "      <td>19.25</td>\n",
       "      <td>3</td>\n",
       "      <td>2013</td>\n",
       "      <td>2013-08</td>\n",
       "      <td>Saturday</td>\n",
       "    </tr>\n",
       "  </tbody>\n",
       "</table>\n",
       "<p>1 rows × 29 columns</p>\n",
       "</div>"
      ],
      "text/plain": [
       "    Order No Order Date  Customer Name       City State Customer Type  \\\n",
       "468   5190-1 2013-08-24  Henry Goldwyn  Melbourne   VIC     Corporate   \n",
       "\n",
       "    Account Manager Order Priority         Product Name Product Category  ...  \\\n",
       "468     Yvette Biti           High  Binder Clips by OIC       Technology  ...   \n",
       "\n",
       "    Discount $ Order Total Shipping Cost  Total  Profit Percentage (%)  \\\n",
       "468       4.27        51.8           0.7   53.2                   59.1   \n",
       "\n",
       "     Total Profit  ProcessingTime  Order Year  Order Month  Order Weekday  \n",
       "468         19.25               3        2013      2013-08       Saturday  \n",
       "\n",
       "[1 rows x 29 columns]"
      ]
     },
     "execution_count": 98,
     "metadata": {},
     "output_type": "execute_result"
    }
   ],
   "source": [
    "df.sample()"
   ]
  },
  {
   "cell_type": "markdown",
   "id": "6d15236a",
   "metadata": {},
   "source": [
    "___"
   ]
  },
  {
   "cell_type": "markdown",
   "id": "3dfbb06a",
   "metadata": {},
   "source": [
    "### KPI"
   ]
  },
  {
   "cell_type": "code",
   "execution_count": 99,
   "id": "3f23d849",
   "metadata": {},
   "outputs": [
    {
     "name": "stdout",
     "output_type": "stream",
     "text": [
      "Total Sales: 588394.68\n"
     ]
    }
   ],
   "source": [
    "# Total Sales (فروش کل)\n",
    "total_sales = df['Order Total'].sum()\n",
    "print(\"Total Sales:\", round(total_sales, 2))\n"
   ]
  },
  {
   "cell_type": "code",
   "execution_count": 100,
   "id": "deaade9c",
   "metadata": {},
   "outputs": [
    {
     "name": "stdout",
     "output_type": "stream",
     "text": [
      "Total Profit: 277880.34\n"
     ]
    }
   ],
   "source": [
    "# Total Profit (سود کل)\n",
    "total_profit = df['Total Profit'].sum()\n",
    "print(\"Total Profit:\", round(total_profit, 2))\n"
   ]
  },
  {
   "cell_type": "code",
   "execution_count": 101,
   "id": "8db2a0db",
   "metadata": {},
   "outputs": [
    {
     "name": "stdout",
     "output_type": "stream",
     "text": [
      "Average Profit Margin (%): 82.75\n"
     ]
    }
   ],
   "source": [
    "# Average Profit Margin (%)\n",
    "avg_profit_margin = df['Profit Percentage (%)'].mean()\n",
    "print(\"Average Profit Margin (%):\", round(avg_profit_margin, 2))\n"
   ]
  },
  {
   "cell_type": "code",
   "execution_count": 102,
   "id": "3389456c",
   "metadata": {},
   "outputs": [
    {
     "name": "stdout",
     "output_type": "stream",
     "text": [
      "Average Order Value: 173.41\n"
     ]
    }
   ],
   "source": [
    "# Average Order Value (AOV)\n",
    "average_order_value = df['Order Total'].mean()\n",
    "print(\"Average Order Value:\", round(average_order_value, 2))\n"
   ]
  },
  {
   "cell_type": "code",
   "execution_count": 103,
   "id": "1559207f",
   "metadata": {},
   "outputs": [
    {
     "name": "stdout",
     "output_type": "stream",
     "text": [
      "Top 5 Customers by Profit:\n",
      " Customer Name\n",
      "Patrick OBrill            5059.70\n",
      "Roy Skaria                3798.20\n",
      "Christina Vanderzanden    3465.84\n",
      "Michael Oakman            2827.79\n",
      "Christopher Martinez      2790.26\n",
      "Name: Total Profit, dtype: float64\n"
     ]
    }
   ],
   "source": [
    "# Top 5 Customers by Total Profit\n",
    "top_customers = (\n",
    "    df.groupby('Customer Name')['Total Profit']\n",
    "    .sum()\n",
    "    .sort_values(ascending=False)\n",
    "    .head(5)\n",
    ")\n",
    "print(\"Top 5 Customers by Profit:\\n\", top_customers)\n"
   ]
  },
  {
   "cell_type": "code",
   "execution_count": 104,
   "id": "5cba67d0",
   "metadata": {},
   "outputs": [
    {
     "name": "stdout",
     "output_type": "stream",
     "text": [
      "Top 5 Categories by Profit:\n",
      " Product Category\n",
      "Office Supplies    221439.68\n",
      "Technology          47262.57\n",
      "Furniture            9178.09\n",
      "Name: Total Profit, dtype: float64\n"
     ]
    }
   ],
   "source": [
    "# Top 5 Product Categories by Total Profit\n",
    "top_categories = (\n",
    "    df.groupby('Product Category')['Total Profit']\n",
    "    .sum()\n",
    "    .sort_values(ascending=False)\n",
    "    .head(5)\n",
    ")\n",
    "print(\"Top 5 Categories by Profit:\\n\", top_categories)\n"
   ]
  },
  {
   "cell_type": "code",
   "execution_count": 105,
   "id": "ee70c82a",
   "metadata": {},
   "outputs": [
    {
     "name": "stdout",
     "output_type": "stream",
     "text": [
      "Monthly Profit Trend:\n",
      " Order Month\n",
      "2014-04     1484.06\n",
      "2013-04     2283.87\n",
      "2013-02     2384.50\n",
      "2015-10     2418.33\n",
      "2016-08     2641.47\n",
      "2017-02     2980.29\n",
      "2016-10     3339.02\n",
      "2015-02     3497.86\n",
      "2014-07     3548.07\n",
      "2013-09     3641.62\n",
      "2014-05     3642.86\n",
      "2015-11     3777.79\n",
      "2016-07     3817.69\n",
      "2015-09     3827.32\n",
      "2014-08     4002.78\n",
      "2017-01     4016.70\n",
      "2016-03     4497.51\n",
      "2016-11     4858.16\n",
      "2014-03     5096.27\n",
      "2013-12     5177.77\n",
      "2016-04     5533.62\n",
      "2014-11     5593.04\n",
      "2016-06     5714.95\n",
      "2013-11     5817.38\n",
      "2013-06     5914.20\n",
      "2015-04     5991.63\n",
      "2014-02     6062.19\n",
      "2015-03     6113.35\n",
      "2013-03     6129.72\n",
      "2015-08     6155.64\n",
      "2013-08     6164.68\n",
      "2016-12     6186.62\n",
      "2016-01     6194.57\n",
      "2014-01     6209.69\n",
      "2015-01     6517.97\n",
      "2014-12     6646.31\n",
      "2015-05     6919.95\n",
      "2015-06     7177.08\n",
      "2014-09     7503.91\n",
      "2016-02     7747.09\n",
      "2014-06     7839.29\n",
      "2014-10     7999.72\n",
      "2015-12     8276.93\n",
      "2013-10     8325.33\n",
      "2016-05     8885.28\n",
      "2015-07     9160.69\n",
      "2013-07     9177.84\n",
      "2016-09    10006.94\n",
      "2013-05    10980.79\n",
      "Name: Total Profit, dtype: float64\n"
     ]
    }
   ],
   "source": [
    "# Monthly Profit Trend\n",
    "monthly_profit = (\n",
    "    df.groupby('Order Month')['Total Profit']\n",
    "    .sum()\n",
    "    .sort_values(ascending=True)\n",
    ")\n",
    "print(\"Monthly Profit Trend:\\n\", monthly_profit)\n"
   ]
  },
  {
   "cell_type": "code",
   "execution_count": 106,
   "id": "dbcd3d23",
   "metadata": {},
   "outputs": [],
   "source": [
    "def calculate_kpis(df):\n",
    "    return {\n",
    "        \"Total Sales\": round(float(df['Order Total'].sum()), 2),\n",
    "        \"Total Profit\": round(float(df['Total Profit'].sum()), 2),\n",
    "        \"Average Profit Margin (%)\": round(float(df['Profit Percentage (%)'].mean()), 2),\n",
    "        \"Average Order Value\": round(float(df['Order Total'].mean()), 2),\n",
    "        \"Average Processing Time (days)\": round(float(df['ProcessingTime'].mean()), 2)\n",
    "    }\n"
   ]
  },
  {
   "cell_type": "code",
   "execution_count": 107,
   "id": "f70ac395",
   "metadata": {},
   "outputs": [
    {
     "data": {
      "text/plain": [
       "{'Total Sales': 588394.68,\n",
       " 'Total Profit': 277880.34,\n",
       " 'Average Profit Margin (%)': 82.75,\n",
       " 'Average Order Value': 173.41,\n",
       " 'Average Processing Time (days)': 1.55}"
      ]
     },
     "execution_count": 107,
     "metadata": {},
     "output_type": "execute_result"
    }
   ],
   "source": [
    "calculate_kpis(df)"
   ]
  },
  {
   "cell_type": "markdown",
   "id": "34e840d3",
   "metadata": {},
   "source": [
    "_______"
   ]
  },
  {
   "cell_type": "markdown",
   "id": "7cc8e5f8",
   "metadata": {},
   "source": [
    "### Model"
   ]
  },
  {
   "cell_type": "code",
   "execution_count": 108,
   "id": "88f92763",
   "metadata": {},
   "outputs": [
    {
     "name": "stdout",
     "output_type": "stream",
     "text": [
      "R2 Score: 0.77\n",
      "Coefficients: [ 21.47702665  -0.20592212   3.21672758 -20.20523802  -0.20592212\n",
      "  -2.19230391]\n"
     ]
    }
   ],
   "source": [
    "from sklearn.model_selection import train_test_split\n",
    "from sklearn.linear_model import LinearRegression\n",
    "from sklearn.metrics import r2_score\n",
    "\n",
    "X = df[['Retail Price', 'Discount %' , \"Order Quantity\" , \"Cost Price\" , \"Discount %\" , \"ProcessingTime\"]]  \n",
    "y = df['Total Profit']\n",
    "X_train, X_test, y_train, y_test = train_test_split(X, y, test_size=0.2 , random_state= 25)\n",
    "\n",
    "# مدل‌سازی\n",
    "model = LinearRegression()\n",
    "model.fit(X_train, y_train)\n",
    "y_pred = model.predict(X_test)\n",
    "\n",
    "# ارزیابی\n",
    "print(f\"R2 Score: {r2_score(y_test, y_pred):.2f}\")\n",
    "print(f\"Coefficients: {model.coef_}\")  "
   ]
  },
  {
   "cell_type": "markdown",
   "id": "72b46dec",
   "metadata": {},
   "source": [
    "____"
   ]
  },
  {
   "cell_type": "markdown",
   "id": "4ff1e74d",
   "metadata": {},
   "source": [
    "بررسی هیستوگرام بعد از حذف اوت لیر"
   ]
  },
  {
   "cell_type": "code",
   "execution_count": 109,
   "id": "726eb10d",
   "metadata": {},
   "outputs": [
    {
     "data": {
      "image/png": "[encoded data removed]",
      "text/plain": [
       "<Figure size 1500x1200 with 12 Axes>"
      ]
     },
     "metadata": {},
     "output_type": "display_data"
    }
   ],
   "source": [
    "# ستون‌های عددی مورد بررسی\n",
    "num_cols = [\n",
    " 'Cost Price', 'Retail Price', 'Profit Margin',\n",
    " 'Sub Total', 'Discount $', 'Order Total',\n",
    " 'Shipping Cost', 'Total', 'Total Profit',\n",
    " 'ProcessingTime', 'Order Quantity', 'Profit Percentage (%)'\n",
    "]\n",
    "\n",
    "# ----------- بخش ۲: رسم همه توزیع‌ها در یک قاب\n",
    "rows = int(np.ceil(len(num_cols)/3))  # مثلا 3 نمودار در هر ردیف\n",
    "fig, axes = plt.subplots(rows, 3, figsize=(15, rows*3))\n",
    "axes = axes.flatten()\n",
    "\n",
    "for i, col in enumerate(num_cols):\n",
    "    sns.histplot(df[col], kde=True, ax=axes[i])\n",
    "    axes[i].set_title(f'{col}\\n(p={normality_results[col]:.3f})', fontsize=10)\n",
    "    axes[i].set_xlabel('')\n",
    "    axes[i].set_ylabel('')\n",
    "\n",
    "# مخفی کردن قاب‌های خالی (اگر تعداد ستون‌ها مضرب 3 نباشد)\n",
    "for j in range(i+1, len(axes)):\n",
    "    fig.delaxes(axes[j])\n",
    "\n",
    "fig.suptitle('Distribution of Numeric Columns with Normality (Shapiro Test)', fontsize=14, y=1.02)\n",
    "plt.tight_layout()\n",
    "plt.show()\n"
   ]
  },
  {
   "cell_type": "code",
   "execution_count": null,
   "id": "797f7cb6",
   "metadata": {},
   "outputs": [],
   "source": [
    "# df.to_csv(r\"clean_data.csv\", index=False)"
   ]
  },
  {
   "cell_type": "code",
   "execution_count": null,
   "id": "99957e44",
   "metadata": {},
   "outputs": [],
   "source": []
  }
 ],
 "metadata": {
  "kernelspec": {
   "display_name": "Python 3",
   "language": "python",
   "name": "python3"
  },
  "language_info": {
   "codemirror_mode": {
    "name": "ipython",
    "version": 3
   },
   "file_extension": ".py",
   "mimetype": "text/x-python",
   "name": "python",
   "nbconvert_exporter": "python",
   "pygments_lexer": "ipython3",
   "version": "3.12.0"
  }
 },
 "nbformat": 4,
 "nbformat_minor": 5
}
